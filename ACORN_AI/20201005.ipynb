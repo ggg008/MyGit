{
 "cells": [
  {
   "cell_type": "code",
   "execution_count": 25,
   "metadata": {},
   "outputs": [
    {
     "name": "stdout",
     "output_type": "stream",
     "text": [
      "10\n",
      "10\n",
      "주소값대입 140722729269312 140722729269312\n",
      "20\n",
      "10\n",
      "대입후 140722729269632 140722729269312\n",
      "0\n"
     ]
    }
   ],
   "source": [
    "# 데이터 타입을 미지정 - 주소값을 지정 ( *주소개념 )\n",
    "a=10 # 포인터 방식 작동\n",
    "b=a # a가 가르키는 주소\n",
    "print(a)\n",
    "print(b)\n",
    "print(\"주소값대입\", id(a), id(b))\n",
    "a=20\n",
    "print(a)\n",
    "print(b)\n",
    "print(\"대입후\", id(a), id(b))\n",
    "c # 포인터 : 반드시 초기화 필요 - 데이터 타입 결정\n",
    "print(c)"
   ]
  },
  {
   "cell_type": "code",
   "execution_count": 13,
   "metadata": {},
   "outputs": [
    {
     "data": {
      "text/plain": [
       "int"
      ]
     },
     "execution_count": 13,
     "metadata": {},
     "output_type": "execute_result"
    }
   ],
   "source": [
    "type(a)"
   ]
  },
  {
   "cell_type": "code",
   "execution_count": 24,
   "metadata": {},
   "outputs": [
    {
     "name": "stdout",
     "output_type": "stream",
     "text": [
      "10\n",
      "20\n"
     ]
    }
   ],
   "source": [
    "a=10 \n",
    "A=20 \n",
    "print(a)\n",
    "print(A)"
   ]
  },
  {
   "cell_type": "markdown",
   "metadata": {},
   "source": [
    "# 파이썬은 대소문자 구분함\n",
    "- 명령행 모드와 편집 모드\n",
    "- esc"
   ]
  },
  {
   "cell_type": "code",
   "execution_count": 29,
   "metadata": {
    "scrolled": true
   },
   "outputs": [
    {
     "name": "stdout",
     "output_type": "stream",
     "text": [
      "수식을 입력하시오10+20\n",
      "10+20\n",
      "30\n"
     ]
    }
   ],
   "source": [
    "problem = input(\"수식을 입력하시오\") # 문자열로 입력\n",
    "print(problem)\n",
    "print(eval(problem)) # 수치 평가"
   ]
  },
  {
   "cell_type": "code",
   "execution_count": 30,
   "metadata": {},
   "outputs": [],
   "source": [
    "# casting 형변환\n",
    "int, float 형"
   ]
  },
  {
   "cell_type": "code",
   "execution_count": 34,
   "metadata": {},
   "outputs": [
    {
     "name": "stdout",
     "output_type": "stream",
     "text": [
      "23\n",
      "23.0\n",
      "23\n",
      "23.5\n",
      "33\n",
      "33.0\n"
     ]
    }
   ],
   "source": [
    "print(int(\"23\"))\n",
    "print(float(\"23\"))\n",
    "print(eval(\"23\"))\n",
    "print(eval(\"23.5\"))\n",
    "x=5\n",
    "print(eval(\"23 + (2 * x)\")) # 변수도 문자열로 입력이 가능\n",
    "x=5.0\n",
    "print(eval(\"23 + (2 * x)\"))"
   ]
  },
  {
   "cell_type": "code",
   "execution_count": 44,
   "metadata": {},
   "outputs": [
    {
     "name": "stdout",
     "output_type": "stream",
     "text": [
      "0.00424\n",
      "127\n",
      "143\n",
      "<class 'int'>\n"
     ]
    }
   ],
   "source": [
    "a3 = 4.24e-3 #exponent\n",
    "a4 = 0o177 # 8진수\n",
    "a5 = 0x8f\n",
    "print(a3)\n",
    "print(a4)\n",
    "print(a5)\n",
    "print(type(a5)) # 모든것이 객체다 (class 함수도 객체다 - 일급함수다)"
   ]
  },
  {
   "cell_type": "code",
   "execution_count": 46,
   "metadata": {
    "scrolled": true
   },
   "outputs": [
    {
     "name": "stdout",
     "output_type": "stream",
     "text": [
      "My name is AI and I am from 김종호, 10. \n",
      "My name is AI and I am from 김종호 and I like (thing)\n",
      "이름은 김종호 나이는 20\n"
     ]
    }
   ],
   "source": [
    "print('My name is %s and I am from %s, %i. ' %('AI', '김종호', 10))\n",
    "print('My name is {1} and I am from {0} and I like (thing)'\n",
    "     .format('김종호', 'AI', thing='cats'))\n",
    "name=\"김종호\"\n",
    "age=20\n",
    "print(f\"이름은 {name} 나이는 {age}\")"
   ]
  },
  {
   "cell_type": "code",
   "execution_count": 48,
   "metadata": {},
   "outputs": [],
   "source": [
    "#문자열 입력\n",
    "- 문자열도 클래스\n",
    "- 문자열은 기본적을 1차원배열\n",
    "- 인덱스 접근가능(0부터 시작 범위값의 뒤는 제외함)\n",
    "-- 인덱스는 뒤에서 부터라는 의미\n",
    "- 문자열은 순서형 자료구조(문자열, list, tuple) 이기 때문에 +, * 연산을 지원\n",
    "- 입력순서를 보장"
   ]
  },
  {
   "cell_type": "code",
   "execution_count": 57,
   "metadata": {},
   "outputs": [
    {
     "name": "stdout",
     "output_type": "stream",
     "text": [
      "이름을 입력하세요 : 이 순신\n",
      "이\n",
      " \n",
      "순\n",
      "1\n",
      "이름: 순신\n",
      "성(s): 이\n",
      "성(s): 이 순\n"
     ]
    }
   ],
   "source": [
    "fullName= input(\"이름을 입력하세요 : \")\n",
    "n=fullName.rfind(\" \") # reverse find\n",
    "\n",
    "print(fullName[0])\n",
    "print(fullName[1])\n",
    "print(fullName[2])\n",
    "print(n)\n",
    "print(\"이름:\",fullName[n+1:]) # 끝까지\n",
    "print(\"성(s):\",fullName[:n]) # 처음부터\n",
    "#print(\"test:\",fullName[0:3]) "
   ]
  },
  {
   "cell_type": "code",
   "execution_count": 58,
   "metadata": {},
   "outputs": [
    {
     "name": "stdout",
     "output_type": "stream",
     "text": [
      "koreakorea\n",
      "koreakoreakorea\n",
      "korea\n",
      "a\n",
      "a\n",
      "or\n",
      "ea\n",
      "ea\n",
      "e\n",
      "5\n"
     ]
    },
    {
     "data": {
      "text/plain": [
       "['ko', 'ea']"
      ]
     },
     "execution_count": 58,
     "metadata": {},
     "output_type": "execute_result"
    }
   ],
   "source": [
    "s = \"korea\"\n",
    "print(s+s) # 순서형 자료구조에 지원\n",
    "print(s * 3) # 순서형 자료구조에 지원\n",
    "print(s[0:])\n",
    "print(s[4])\n",
    "print(s[-1]) # reverse\n",
    "print(s[1:3])\n",
    "print(s[-2:])\n",
    "print(s[-2:5]) # 혼합사용이 가능 R에서는 불가\n",
    "print(s[3:-1])\n",
    "print(len(s)) # 순서형 자료구조에 지원\n",
    "s.split('r')\n",
    "# [] 리스트, {} dict - set, () tuple이나 함수, 비어있다 = 거짓의 의미 False = \"\" \n",
    "# 괄호를 지정하지 않으면 디폴트가 tuple임"
   ]
  },
  {
   "cell_type": "code",
   "execution_count": 65,
   "metadata": {},
   "outputs": [
    {
     "name": "stdout",
     "output_type": "stream",
     "text": [
      "<class 'str'>\n",
      "Korea\n",
      "2\n",
      "1\n",
      "True\n",
      "False\n",
      "True\n",
      "koRea\n",
      "False\n",
      "True\n",
      "korea\n"
     ]
    }
   ],
   "source": [
    "# 문자열은 수정이 불가(검색, 대치, 결합, 분리)\n",
    "a = 'korea'\n",
    "print(type(s)) # str class\n",
    "print(s.capitalize())\n",
    "print(s.find('r'))\n",
    "print(s.count('re'))\n",
    "print(s.isalpha()) # identity 함수\n",
    "print(s.isdigit())\n",
    "print('0123'.isdigit())\n",
    "print(s.replace('r','R')) # 대치\n",
    "print(s.startswith('K'))\n",
    "print(s.endswith('a'))\n",
    "print(s)# 대입에 의해서만 원본이 변화됨"
   ]
  },
  {
   "cell_type": "code",
   "execution_count": 67,
   "metadata": {},
   "outputs": [
    {
     "name": "stdout",
     "output_type": "stream",
     "text": [
      "1.23       1.23\n"
     ]
    }
   ],
   "source": [
    "f=1.23\n",
    "g=str(f)\n",
    "h=repr(f)# 유리함(숫자를 문자로 바꿀떄)\n",
    "print(g, \"     \", h)"
   ]
  },
  {
   "cell_type": "code",
   "execution_count": 70,
   "metadata": {},
   "outputs": [
    {
     "name": "stdout",
     "output_type": "stream",
     "text": [
      "7 -1 12 0.75\n",
      "3\n",
      "0\n"
     ]
    }
   ],
   "source": [
    "a=3\n",
    "b=4\n",
    "print(a+b, a-b, a*b, a/b)\n",
    "print(a%b) # 나머지 연산자 # 경우의 수\n",
    "print(a//b) #몫연산자"
   ]
  },
  {
   "cell_type": "code",
   "execution_count": 77,
   "metadata": {},
   "outputs": [
    {
     "name": "stdout",
     "output_type": "stream",
     "text": [
      "sum[1,2,3] :  6\n",
      "min[1,2,3] :  1\n",
      "abs(-11) :  11\n",
      "pow(2, 10) :  1024\n",
      "round(3.141595) :  3.14\n"
     ]
    }
   ],
   "source": [
    "print(\"sum[1,2,3] : \", sum([1,2,3]))\n",
    "print(\"min[1,2,3] : \", min([1,2,3]))\n",
    "print(\"abs(-11) : \", abs(-11))\n",
    "print(\"pow(2, 10) : \", pow(2, 10)) # 승\n",
    "print(\"round(3.141595) : \", round(3.141595, 2))# 부동소수점에서 에러가 존재"
   ]
  },
  {
   "cell_type": "code",
   "execution_count": 79,
   "metadata": {},
   "outputs": [],
   "source": [
    "# if 문, 블록문, indent에 대한 설명"
   ]
  },
  {
   "cell_type": "code",
   "execution_count": 85,
   "metadata": {},
   "outputs": [
    {
     "name": "stdout",
     "output_type": "stream",
     "text": [
      "정수를 입력하시오 : 5\n",
      "정수를 입력하시오 : 6\n",
      "입력된 수를 2로 나눈결과 몫 =  5 나머지 = 1\n",
      "홀수 입니다. \n"
     ]
    }
   ],
   "source": [
    "num1 = input(\"정수를 입력하시오 : \")\n",
    "num2 = input(\"정수를 입력하시오 : \")\n",
    "hab = int(num1) + int(num2)\n",
    "quotient = hab // 2\n",
    "remainder = hab % 2\n",
    "print(\"입력된 수를 2로 나눈결과 몫 = \", quotient, \"나머지 =\", remainder)\n",
    "if remainder == 0: #colon 블록의 시작\n",
    "    print(\"짝수 입니다. \") # 들여쓰기\n",
    "else :\n",
    "    print(\"홀수 입니다. \")"
   ]
  },
  {
   "cell_type": "code",
   "execution_count": 90,
   "metadata": {},
   "outputs": [
    {
     "name": "stdout",
     "output_type": "stream",
     "text": [
      "200\n",
      "200\n"
     ]
    }
   ],
   "source": [
    "# 전역변수와 지역변수\n",
    "x = 300\n",
    "def myfunc(): # 파이썬의 함수는 리턴값을 지정하지않음. 매개변수의 타입도 지정안함\n",
    "    #global x # 전역변수로 지정\n",
    "    x = 200 # stack 안에서만 작동(함수는 스택에 필요한 변수와 매개변수)\n",
    "    print(x)\n",
    "myfunc()\n",
    "print(x)"
   ]
  },
  {
   "cell_type": "code",
   "execution_count": 91,
   "metadata": {},
   "outputs": [
    {
     "name": "stdout",
     "output_type": "stream",
     "text": [
      "정수를 입력하시오 : 3\n",
      "가위\n",
      "가위이다. \n"
     ]
    }
   ],
   "source": [
    "select=int(input(\"정수를 입력하시오 : \"))%3\n",
    "if select ==0 :\n",
    "    print(\"가위\")\n",
    "    print(\"가위이다. \")\n",
    "elif select == 1:\n",
    "    print(\"바위\")\n",
    "elif select == 2:\n",
    "    print(\"보\")"
   ]
  },
  {
   "cell_type": "code",
   "execution_count": null,
   "metadata": {},
   "outputs": [],
   "source": [
    "iadslba@naver.com"
   ]
  },
  {
   "cell_type": "code",
   "execution_count": 92,
   "metadata": {
    "scrolled": true
   },
   "outputs": [
    {
     "name": "stdout",
     "output_type": "stream",
     "text": [
      "6 5\n"
     ]
    }
   ],
   "source": [
    "x = 5\n",
    "y = 6\n",
    "# temp = y\n",
    "# y = x\n",
    "# x = temp\n",
    "# 이 과정을\n",
    "x, y = y, x #멀티리턴(함수)\n",
    "print(x, y)"
   ]
  },
  {
   "cell_type": "code",
   "execution_count": null,
   "metadata": {},
   "outputs": [],
   "source": [
    "# list, tuple, dict, set\n",
    "# int, float, bool\n",
    "# list, tuple, str 순서형 자료구조 - 인덱스, +, -, len\n",
    "# 수정이 불가능한 자료구조 : tuple, str\n",
    "# 자료구조 CRUD ( create, read, update, delete)"
   ]
  },
  {
   "cell_type": "code",
   "execution_count": 94,
   "metadata": {},
   "outputs": [
    {
     "name": "stdout",
     "output_type": "stream",
     "text": [
      "[1, 2]\n",
      "<class 'list'>\n"
     ]
    }
   ],
   "source": [
    "a=[1, 2, 3, 4, 5]# 리스트 저장방식은 주소값만\n",
    "#파이썬의 list는 이질적인 데이터를 저장가능\n",
    "b=a[0:2]#인덱싱은 str과 같음\n",
    "print(b)\n",
    "print(type(b))\n"
   ]
  },
  {
   "cell_type": "code",
   "execution_count": 97,
   "metadata": {
    "scrolled": false
   },
   "outputs": [
    {
     "name": "stdout",
     "output_type": "stream",
     "text": [
      "[3, ['a', 'b', 'c'], 4]\n",
      "['a', 'b']\n"
     ]
    }
   ],
   "source": [
    "a=[1, 2, 3, ['a', 'b', 'c'], 4, 5] # 이중배열\n",
    "print(a[2:5])\n",
    "print(a[3][:2])"
   ]
  },
  {
   "cell_type": "code",
   "execution_count": 105,
   "metadata": {},
   "outputs": [
    {
     "name": "stdout",
     "output_type": "stream",
     "text": [
      "Life\n"
     ]
    }
   ],
   "source": [
    "a=[1, 2, ['a', 'b', ['Life', 'is']]]\n",
    "print(a[2][2][0])"
   ]
  },
  {
   "cell_type": "code",
   "execution_count": 107,
   "metadata": {},
   "outputs": [
    {
     "name": "stdout",
     "output_type": "stream",
     "text": [
      "[[1, 2, 3], [4, 5, 6], [7, 8, 9]]\n"
     ]
    }
   ],
   "source": [
    "mat = [[1,2,3], [4,5,6], [7,8,9]]#3x3행렬\n",
    "print(mat)"
   ]
  },
  {
   "cell_type": "code",
   "execution_count": 112,
   "metadata": {},
   "outputs": [
    {
     "name": "stdout",
     "output_type": "stream",
     "text": [
      "[[100, 0, 0, 0], [100, 0, 0, 0], [100, 0, 0, 0]]\n"
     ]
    }
   ],
   "source": [
    "#변수에 저장되는 것은 주소값\n",
    "mat=[[0] * 4] * 3 # call by referance 로 생성\n",
    "mat[0][0] = 100 # 주소값의 함정\n",
    "print(mat)"
   ]
  },
  {
   "cell_type": "code",
   "execution_count": 113,
   "metadata": {},
   "outputs": [],
   "source": [
    "# stack(LIFO) 복귀주소, queue(FIFO): 속도조절, 순서를 보장"
   ]
  },
  {
   "cell_type": "code",
   "execution_count": 114,
   "metadata": {},
   "outputs": [
    {
     "name": "stdout",
     "output_type": "stream",
     "text": [
      "60\n",
      "60\n",
      "80\n"
     ]
    }
   ],
   "source": [
    "a=[10, 20, 30, 40, 50]\n",
    "a.append(60)\n",
    "print(a.pop())\n",
    "a.append(60)\n",
    "print(a.pop())\n",
    "a.append(70)\n",
    "a.append(80)\n",
    "print(a.pop())"
   ]
  },
  {
   "cell_type": "code",
   "execution_count": 115,
   "metadata": {},
   "outputs": [
    {
     "name": "stdout",
     "output_type": "stream",
     "text": [
      "10\n"
     ]
    }
   ],
   "source": [
    "print(a.pop(0)) # 이렇게 하면 앞에서 뺀다 = queue"
   ]
  },
  {
   "cell_type": "code",
   "execution_count": 121,
   "metadata": {},
   "outputs": [
    {
     "name": "stdout",
     "output_type": "stream",
     "text": [
      "7 12\n",
      "7\n"
     ]
    },
    {
     "data": {
      "text/plain": [
       "(9, 20)"
      ]
     },
     "execution_count": 121,
     "metadata": {},
     "output_type": "execute_result"
    }
   ],
   "source": [
    "# 주소값만 리턴\n",
    "# 매개변수의 개수는 반드시 일치\n",
    "def calc(a, b):# 오버로딩의 데이터타입이 다르면 다른함수로 인식한다\n",
    "    return a+b, a*b\n",
    "x, y = calc(3, 4)\n",
    "print(x, y)\n",
    "print(x)\n",
    "x, y\n",
    "args=(4,5) #한개\n",
    "calc(*args)#데이터 분배 문법 : 리스트매개변수, ** : dict 매개변수"
   ]
  },
  {
   "cell_type": "code",
   "execution_count": 131,
   "metadata": {},
   "outputs": [
    {
     "name": "stdout",
     "output_type": "stream",
     "text": [
      "이름을 입력하세요: ㄱㄱ\n",
      "국어점수를 입력하세요! 78\n",
      "이름을 입력하세요: ㅜㅜ\n",
      "국어점수를 입력하세요! 36\n",
      "이름을 입력하세요: ㅁㅁ\n",
      "국어점수를 입력하세요! 22\n",
      "이름을 입력하세요: ㅂㅂ\n",
      "국어점수를 입력하세요! 88\n",
      "[['ㄱㄱ', 78], ['ㅁㅁ', 22], ['ㅂㅂ', 88], ['ㅜㅜ', 36]]\n"
     ]
    }
   ],
   "source": [
    "#오후 시작\n",
    "school=[]\n",
    "for i in range(0,4,1): # iterator 초기값 최종값 증감값\n",
    "    jumsu=[]\n",
    "    name=input(\"이름을 입력하세요: \")\n",
    "    kor=eval(input(\"국어점수를 입력하세요! \"))\n",
    "    jumsu.append(name)\n",
    "    jumsu.append(kor)\n",
    "    school.append(jumsu)# 2차원 리스트\n",
    "# 람다 함수 : 무명함수\n",
    "# 파이썬에서의 함수는 일급함수( 함수의 매개변수, 변수의 대입가능, 함수의 리턴값)\n",
    "la=lambda row: row[1]\n",
    "school.sort(key=lambda row: row[0])# 람다함수 : 재사용하지 않는 경우, 간단한경우\n",
    "print(school)    "
   ]
  },
  {
   "cell_type": "code",
   "execution_count": 133,
   "metadata": {},
   "outputs": [
    {
     "name": "stdout",
     "output_type": "stream",
     "text": [
      "[['유재석', 99, 99, 98], ['추신수', 90, 98, 91], ['하하', 100, 100, 100]]\n",
      "[['추신수', 90, 98, 91], ['유재석', 99, 99, 98], ['하하', 100, 100, 100]]\n"
     ]
    }
   ],
   "source": [
    "sunjuk=[['하하',100,100,100], ['유재석',99,99,98], ['추신수',90,98,91]]\n",
    "sunjuk.sort()\n",
    "print(sunjuk)\n",
    "def getKey(a1):\n",
    "    return a1[1]\n",
    "sunjuk.sort(key=getKey)\n",
    "print(sunjuk)"
   ]
  },
  {
   "cell_type": "code",
   "execution_count": null,
   "metadata": {},
   "outputs": [],
   "source": [
    "# dict : 검색속도가 빠름(키를 주소값으로 변환하는 hash함수)\n",
    "# hash함수는 중복되지 않아야 함, 변환속도가 빨라야 함\n",
    "- list에 list\n",
    "- list에 dict\n",
    "- dict에 list\n",
    "- dict에 dict"
   ]
  },
  {
   "cell_type": "code",
   "execution_count": 135,
   "metadata": {},
   "outputs": [
    {
     "name": "stdout",
     "output_type": "stream",
     "text": [
      "10\n",
      "-1\n"
     ]
    }
   ],
   "source": [
    "d={'a':10, 'b':20, 'c':30}\n",
    "print(d['a'])\n",
    "#print(d['z']) # 에러발생\n",
    "print(d.get('z',-1)) # get함수 사용하여 에러방지 디폴트값 -1 셋"
   ]
  },
  {
   "cell_type": "code",
   "execution_count": 136,
   "metadata": {},
   "outputs": [
    {
     "data": {
      "text/plain": [
       "4"
      ]
     },
     "execution_count": 136,
     "metadata": {},
     "output_type": "execute_result"
    }
   ],
   "source": [
    "foo = { # dict\n",
    "    'bar':1,\n",
    "    'foobar':2,\n",
    "    'method': lambda x : x**2\n",
    "}\n",
    "foo['method'](2)"
   ]
  },
  {
   "cell_type": "code",
   "execution_count": 139,
   "metadata": {
    "scrolled": true
   },
   "outputs": [
    {
     "name": "stdout",
     "output_type": "stream",
     "text": [
      "<class 'dict'>\n",
      "dict_keys(['bar', 'foobar', 'method'])\n"
     ]
    }
   ],
   "source": [
    "# 기본적으로 python의 객체는 object를 상속\n",
    "print(foo.__class__)# 부모의 properties\n",
    "print(foo.keys())"
   ]
  },
  {
   "cell_type": "code",
   "execution_count": 140,
   "metadata": {},
   "outputs": [
    {
     "data": {
      "text/plain": [
       "True"
      ]
     },
     "execution_count": 140,
     "metadata": {},
     "output_type": "execute_result"
    }
   ],
   "source": [
    "'bar' in foo"
   ]
  },
  {
   "cell_type": "code",
   "execution_count": 152,
   "metadata": {},
   "outputs": [
    {
     "name": "stdout",
     "output_type": "stream",
     "text": [
      "dict_values([1, 2, <function <lambda> at 0x0000025D82D6F9D0>])\n"
     ]
    },
    {
     "data": {
      "text/plain": [
       "dict_items([('bar', 1), ('foobar', 2), ('method', <function <lambda> at 0x0000025D82D6F9D0>)])"
      ]
     },
     "execution_count": 152,
     "metadata": {},
     "output_type": "execute_result"
    }
   ],
   "source": [
    "print(foo.values())\n",
    "foo.items() # print와 그냥 출력 비교 확인"
   ]
  },
  {
   "cell_type": "code",
   "execution_count": 148,
   "metadata": {
    "scrolled": true
   },
   "outputs": [
    {
     "name": "stdout",
     "output_type": "stream",
     "text": [
      "dict_items([('bar', 1), ('foobar', 2), ('method', <function <lambda> at 0x0000025D82D6F9D0>)])\n"
     ]
    }
   ],
   "source": [
    "foo.items()"
   ]
  },
  {
   "cell_type": "code",
   "execution_count": 153,
   "metadata": {},
   "outputs": [
    {
     "data": {
      "text/plain": [
       "dict_items([('bar', 1), ('foobar', 2), ('method', <function <lambda> at 0x0000025D82D6F9D0>), ('blood', 'B')])"
      ]
     },
     "execution_count": 153,
     "metadata": {},
     "output_type": "execute_result"
    }
   ],
   "source": [
    "#실시간 추가\n",
    "foo['blood']='B'"
   ]
  },
  {
   "cell_type": "code",
   "execution_count": 154,
   "metadata": {},
   "outputs": [
    {
     "name": "stdout",
     "output_type": "stream",
     "text": [
      "{1, 2, 3, 4}\n",
      "<class 'set'>\n"
     ]
    }
   ],
   "source": [
    "s1=set([1,2,3,3,4,2,1])#unique 유일한 값만 남기기\n",
    "print(s1)\n",
    "print(type(s1))"
   ]
  },
  {
   "cell_type": "code",
   "execution_count": 158,
   "metadata": {
    "scrolled": true
   },
   "outputs": [
    {
     "name": "stdout",
     "output_type": "stream",
     "text": [
      "\n",
      "2 * 2 = 4  3 * 2 = 6  4 * 2 = 8  5 * 2 = 10  6 * 2 = 12  7 * 2 = 14  8 * 2 = 16  9 * 2 = 18  \n",
      "2 * 3 = 6  3 * 3 = 9  4 * 3 = 12  5 * 3 = 15  6 * 3 = 18  7 * 3 = 21  8 * 3 = 24  9 * 3 = 27  \n",
      "2 * 4 = 8  3 * 4 = 12  4 * 4 = 16  5 * 4 = 20  6 * 4 = 24  7 * 4 = 28  8 * 4 = 32  9 * 4 = 36  \n",
      "2 * 5 = 10  3 * 5 = 15  4 * 5 = 20  5 * 5 = 25  6 * 5 = 30  7 * 5 = 35  8 * 5 = 40  9 * 5 = 45  \n",
      "2 * 6 = 12  3 * 6 = 18  4 * 6 = 24  5 * 6 = 30  6 * 6 = 36  7 * 6 = 42  8 * 6 = 48  9 * 6 = 54  \n",
      "2 * 7 = 14  3 * 7 = 21  4 * 7 = 28  5 * 7 = 35  6 * 7 = 42  7 * 7 = 49  8 * 7 = 56  9 * 7 = 63  \n",
      "2 * 8 = 16  3 * 8 = 24  4 * 8 = 32  5 * 8 = 40  6 * 8 = 48  7 * 8 = 56  8 * 8 = 64  9 * 8 = 72  \n",
      "2 * 9 = 18  3 * 9 = 27  4 * 9 = 36  5 * 9 = 45  6 * 9 = 54  7 * 9 = 63  8 * 9 = 72  9 * 9 = 81  "
     ]
    }
   ],
   "source": [
    "for x in range(2, 10):\n",
    "    print()\n",
    "    for y in range(2,10):\n",
    "        print(y, '*', x, '=', x*y, end=\"  \")"
   ]
  },
  {
   "cell_type": "code",
   "execution_count": 165,
   "metadata": {},
   "outputs": [
    {
     "data": {
      "text/plain": [
       "[0, 1, 4, 9, 16, 25, 36, 49, 64, 81]"
      ]
     },
     "execution_count": 165,
     "metadata": {},
     "output_type": "execute_result"
    }
   ],
   "source": [
    "[i**2 for i in range(10)]# range( 초기값=0, 종료값, 증강값=1 )"
   ]
  },
  {
   "cell_type": "code",
   "execution_count": 166,
   "metadata": {},
   "outputs": [
    {
     "data": {
      "text/plain": [
       "{0: 0, 1: 1, 2: 8, 3: 27, 4: 64, 5: 125, 6: 216, 7: 343, 8: 512, 9: 729}"
      ]
     },
     "execution_count": 166,
     "metadata": {},
     "output_type": "execute_result"
    }
   ],
   "source": [
    "{i : i**3 for i in range(10)}#dict 형성"
   ]
  },
  {
   "cell_type": "code",
   "execution_count": 167,
   "metadata": {},
   "outputs": [
    {
     "data": {
      "text/plain": [
       "[0, 4, 16, 36, 64]"
      ]
     },
     "execution_count": 167,
     "metadata": {},
     "output_type": "execute_result"
    }
   ],
   "source": [
    "[i**2 for i in range(10) if i%2 == 0 ]#짝수만 출력"
   ]
  },
  {
   "cell_type": "code",
   "execution_count": 169,
   "metadata": {},
   "outputs": [
    {
     "data": {
      "text/plain": [
       "[(1, 10),\n",
       " (1, 11),\n",
       " (1, 12),\n",
       " (1, 13),\n",
       " (1, 14),\n",
       " (2, 10),\n",
       " (2, 11),\n",
       " (2, 12),\n",
       " (2, 13),\n",
       " (2, 14),\n",
       " (3, 10),\n",
       " (3, 11),\n",
       " (3, 12),\n",
       " (3, 13),\n",
       " (3, 14),\n",
       " (4, 10),\n",
       " (4, 11),\n",
       " (4, 12),\n",
       " (4, 13),\n",
       " (4, 14)]"
      ]
     },
     "execution_count": 169,
     "metadata": {},
     "output_type": "execute_result"
    }
   ],
   "source": [
    "rows = range(1, 5)\n",
    "cols = range(10, 15)\n",
    "vectors = [(r, c) for r in rows for c in cols] # 20개의 데이터생성\n",
    "vectors"
   ]
  },
  {
   "cell_type": "code",
   "execution_count": 170,
   "metadata": {},
   "outputs": [
    {
     "data": {
      "text/plain": [
       "[(1, 11), (1, 13), (3, 11), (3, 13)]"
      ]
     },
     "execution_count": 170,
     "metadata": {},
     "output_type": "execute_result"
    }
   ],
   "source": [
    "vectors = [(r, c) for r in rows if r%2 for c in cols if c%2] # 20개의 데이터생성\n",
    "vectors"
   ]
  },
  {
   "cell_type": "code",
   "execution_count": 189,
   "metadata": {
    "scrolled": true
   },
   "outputs": [
    {
     "name": "stdout",
     "output_type": "stream",
     "text": [
      "[1, 2, '3의 배수', 4, '5의 배수', '3의 배수', 7, 8, '3의 배수', '5의 배수', 11, '3의 배수', 13, 14, '3의 배수5의 배수', 16, 17, '3의 배수', 19, '5의 배수']\n"
     ]
    }
   ],
   "source": [
    "# 1부터 20까지의 수중에 3의 배수이면 '3의 배수', 5의 배수이면 '5의 배수' 아니면 숫자가 출력되도록 내장리스트를 이용해서 구현해보시요\n",
    "\n",
    "# vectors2 = [i for i in range(1, 21) if i%3==0 :'3의 배수' elif i%5==0 : '5의 배수' else : i]\n",
    "# vectors2\n",
    "\n",
    "#True == 1, False == 0\n",
    "vector2 = [\"3의 배수\" * (i%3==0) + \"5의 배수\" * (i%5==0) or i for i in range(1, 21)]\n",
    "print(vector2)\n",
    "\n",
    "    "
   ]
  },
  {
   "cell_type": "code",
   "execution_count": null,
   "metadata": {},
   "outputs": [],
   "source": [
    "# 수학함수\n",
    "- 컴퓨터에서는 각도를 사용하지 못함 => radian으로 사용\n",
    "- exp, log, sqrt"
   ]
  },
  {
   "cell_type": "code",
   "execution_count": 198,
   "metadata": {},
   "outputs": [
    {
     "name": "stdout",
     "output_type": "stream",
     "text": [
      "숫자를 입력하시요 : 23\n",
      "                       *\n",
      "                      **\n",
      "                     ***\n",
      "                    ****\n",
      "                   *****\n",
      "                  ******\n",
      "                 *******\n",
      "                ********\n",
      "               *********\n",
      "              **********\n",
      "             ***********\n",
      "            ************\n",
      "           *************\n",
      "          **************\n",
      "         ***************\n",
      "        ****************\n",
      "       *****************\n",
      "      ******************\n",
      "     *******************\n",
      "    ********************\n",
      "   *********************\n",
      "  **********************\n",
      " ***********************\n"
     ]
    }
   ],
   "source": [
    "numberOfRows=int(input('숫자를 입력하시요 : '))\n",
    "# for i in range(numberOfRows):\n",
    "#     for j in range(i+1):\n",
    "#         print(\"*\", end=\"\")\n",
    "#     print()\n",
    "\n",
    "# 반대로    \n",
    "for i in range(numberOfRows):\n",
    "    for k in range(numberOfRows-i):\n",
    "        print(\" \", end=\"\")    \n",
    "    for j in range(i + 1):\n",
    "        print(\"*\", end=\"\")\n",
    "    print()"
   ]
  },
  {
   "cell_type": "code",
   "execution_count": 201,
   "metadata": {
    "scrolled": true
   },
   "outputs": [
    {
     "name": "stdout",
     "output_type": "stream",
     "text": [
      "숫자를 입력하시요 : 23\n",
      "                        \n",
      "                       *\n",
      "                      **\n",
      "                     ***\n",
      "                    ****\n",
      "                   *****\n",
      "                  ******\n",
      "                 *******\n",
      "                ********\n",
      "               *********\n",
      "              **********\n",
      "             ***********\n",
      "            ************\n",
      "           *************\n",
      "          **************\n",
      "         ***************\n",
      "        ****************\n",
      "       *****************\n",
      "      ******************\n",
      "     *******************\n",
      "    ********************\n",
      "   *********************\n",
      "  **********************\n"
     ]
    }
   ],
   "source": [
    "numberOfRows=int(input('숫자를 입력하시요 : '))\n",
    "for i in range(numberOfRows):\n",
    "    print(\" \"*(numberOfRows-i), \"*\"*i)"
   ]
  },
  {
   "cell_type": "code",
   "execution_count": null,
   "metadata": {},
   "outputs": [],
   "source": [
    "# 함수 function 일급객체 : 클래스가 함수가 될수있고(__call__) 함수가 클래스\n",
    "- 오버라이딩 ( 클래스를 함수처럼 사용가능 )\n",
    "- 매개변수의 종류\n",
    "    - required parameter 반드시 매개변수 수를 일치시켜야함\n",
    "    - default parameter (param=10 : 생략이 가능) rage(10) # 원래 시작값=0, 최종값, 증감값=1\n",
    "    - key parameter (함수에 값을 전달할 때 key를 사용하면 순서를 변경)\n",
    "    - variable-length parameter 변동 매개변수 * list, ** dict\n",
    "- 매개변수 전달방식\n",
    "    - referance 전달방식 (주소값에 의해 전달)\n",
    "    - value(값)에 의한 전달방식은 함수 내부에서 대입이 벌어지는 경우\n",
    "- 함수의 변수 종류\n",
    "    - 지역변수, 매개변수, 멤버변수, 스태틱변수(static)\n",
    "- 구조적 프로그래밍 -> 객체지향프로그래밍 -> 일반화프로그래밍 -> 함수적프로그래밍\n",
    "    - 함수적 프로그래밍 : cpu에는 core 존재\n",
    "    - 일반화 프로그래밍 (stl<T>) => 데이터타입 유연화 => 파이썬에서는 데이터타입을 지정하지않음\n",
    "- 함수적 프로그래밍 지원(반복문 없이 데이터 변형) : 코어를 사용해서 고속으로 처리\n",
    "    - map : 데이터에 함수적용\n",
    "    - filter : 원하는 값만 필터링\n",
    "    - reduce : 종합\n",
    "- 벡터화 연산\n",
    "- 재귀함수 (함수 자신이 자신을 호출 : 반드시 종료조건 필요)\n",
    "- closure = decorator -> javascript 에 있었던 기능 ( 함수로 클래스를 대신하던 것 )\n",
    "    -함수가 함수를 리턴"
   ]
  },
  {
   "cell_type": "code",
   "execution_count": null,
   "metadata": {},
   "outputs": [],
   "source": [
    "# y = ax + b\n",
    "# x : 정의역 : 실수, 독립변수, 매개변수\n",
    "# y : 치역         , 종속변수, 리턴값\n",
    "def reg(x, a=10, b=30): # default parameter\n",
    "    return a*x+b\n",
    "reg(10, 30, 100)\n",
    "reg(100)"
   ]
  },
  {
   "cell_type": "code",
   "execution_count": 202,
   "metadata": {},
   "outputs": [
    {
     "name": "stdout",
     "output_type": "stream",
     "text": [
      "시작\n",
      "add의 결과 :  30\n",
      "addtion의 결과 :  30\n",
      "결과 :  30\n"
     ]
    }
   ],
   "source": [
    "def add(a,b):\n",
    "    return a+b\n",
    "def subtract():\n",
    "    return a-b\n",
    "def multiple(a,b):\n",
    "    return a*b\n",
    "def divide(a,b):\n",
    "    return a/b\n",
    "\n",
    "def changefun(g, a,b):\n",
    "    return g(a,b)\n",
    "print('시작')\n",
    "print('add의 결과 : ', add(10,20))\n",
    "addtion = add # 변수에 함수를 대입 - 함수의 주소값을 전달하기때문에 ()는 제외\n",
    "print('addtion의 결과 : ', addtion(10,20))\n",
    "print('결과 : ', changefun(add, 10, 20))# 함수의 매개변수 함수가 전달됨\n"
   ]
  },
  {
   "cell_type": "code",
   "execution_count": 306,
   "metadata": {
    "scrolled": true
   },
   "outputs": [
    {
     "name": "stdout",
     "output_type": "stream",
     "text": [
      "함수 내부에서 출력 :  [1, 2, 3, 4]\n",
      "함수 외부에서 출력 :  [10, 20, 30]\n"
     ]
    }
   ],
   "source": [
    "def changeme( mylist ): # stack의 지역변수\n",
    "#     mylist.clear();\n",
    "#     mylist.append([5, 4, 3, 2]) # call by reference 방식\n",
    "    mylist = [1, 2, 3, 4] # call by value 방식\n",
    "    print(\"함수 내부에서 출력 : \", mylist)\n",
    "    return\n",
    "mylist = [10, 20, 30] # 전역\n",
    "changeme(mylist)\n",
    "print(\"함수 외부에서 출력 : \", mylist)\n",
    "    "
   ]
  },
  {
   "cell_type": "code",
   "execution_count": 212,
   "metadata": {},
   "outputs": [
    {
     "name": "stdout",
     "output_type": "stream",
     "text": [
      "args is  (1, 2)\n",
      "kwargs is  {'z': 5}\n",
      "Hello Now I'm going to call <function g at 0x0000025D82F39160>\n",
      "1\n",
      "2\n",
      "5\n"
     ]
    },
    {
     "data": {
      "text/plain": [
       "0.6"
      ]
     },
     "execution_count": 212,
     "metadata": {},
     "output_type": "execute_result"
    }
   ],
   "source": [
    "def say_hello_then_call(f, *args, **kwargs): # * list ** dict\n",
    "    print('args is ', args)\n",
    "    print('kwargs is ', kwargs)\n",
    "    print(\"Hello Now I'm going to call %s\" % f)\n",
    "    return f(*args, **kwargs)\n",
    "\n",
    "def g(x, y, z=1):\n",
    "    print(x)\n",
    "    print(y)\n",
    "    print(z)\n",
    "    return(x+y) / z\n",
    "say_hello_then_call(g,1,2,z=5)"
   ]
  },
  {
   "cell_type": "code",
   "execution_count": 217,
   "metadata": {
    "scrolled": true
   },
   "outputs": [
    {
     "name": "stdout",
     "output_type": "stream",
     "text": [
      "15\n"
     ]
    }
   ],
   "source": [
    "# 커링( 함수의 매개변수를 제한 )\n",
    "def all_number(x,y):\n",
    "    return x+y\n",
    "add_five = lambda y: all_number(5, y) # wrapper 감쌓다\n",
    "print(add_five(10))"
   ]
  },
  {
   "cell_type": "code",
   "execution_count": 220,
   "metadata": {},
   "outputs": [
    {
     "name": "stdout",
     "output_type": "stream",
     "text": [
      "8\n"
     ]
    }
   ],
   "source": [
    "def power(val, count):\n",
    "    if count==1:\n",
    "        return val\n",
    "    else:\n",
    "        return val * power(val, count-1) # (2, 3) (2, 2) (2, 1)\n",
    "print(power(2,3))"
   ]
  },
  {
   "cell_type": "code",
   "execution_count": null,
   "metadata": {},
   "outputs": [],
   "source": [
    "# generator\n",
    "# for문 뒤에 올 수 있는 것\n",
    "    - collection ( list, tuple, dict, set )\n",
    "    - iterators ( range )\n",
    "    - generator ( 생성기 - 비동기 방식 yield를 이용해서 실행 )\n",
    "    - enumerate ( 범주화 )"
   ]
  },
  {
   "cell_type": "code",
   "execution_count": 228,
   "metadata": {},
   "outputs": [
    {
     "name": "stdout",
     "output_type": "stream",
     "text": [
      "0.7558610113046583\n",
      "0.17012562007361987\n",
      "0.09427479850553355\n",
      "0.7258046450957025\n",
      "0.29230432943119966\n"
     ]
    }
   ],
   "source": [
    "import random # 난수발생기 - 의사 난수 (순서가 결정)\n",
    "def gaus_dist(n):\n",
    "    while n > 0:\n",
    "        yield random.random() #비동기 방식 ( 멈춤상태 ) # 카운터가 끝날때까지 값이 연속으로 리턴된다!\n",
    "        n-=1\n",
    "gd = gaus_dist(5)\n",
    "for i in gd:\n",
    "    print(i)"
   ]
  },
  {
   "cell_type": "code",
   "execution_count": 235,
   "metadata": {
    "scrolled": false
   },
   "outputs": [
    {
     "name": "stdout",
     "output_type": "stream",
     "text": [
      "급여를 입력하시요 : 1000\n",
      "근무시간을 입력하시요 : 50\n",
      "주급은 55000.0 입니다\n"
     ]
    }
   ],
   "source": [
    "# 총근무시간과 시간당 급여를 입력받아 주급을 계산하는 프로그램을 작성하시오\n",
    "#    - 조건 : 40시간을 초과한 근무는 1.5배해서 지급합니다\n",
    "#    - 함수의 매개변수는 시간당 급여와 주 작업시간\n",
    "\n",
    "sal1=int(input('급여를 입력하시요 : '))\n",
    "worktime1=int(input('근무시간을 입력하시요 : '))\n",
    "\n",
    "basictime = 40\n",
    "def jugup(sal, worktime):\n",
    "    all_sal = worktime * sal;\n",
    "    if basictime <= worktime:\n",
    "        all_sal = (basictime * sal) + ( sal * 1.5 * (worktime - basictime))\n",
    "    return all_sal\n",
    "\n",
    "print(f\"주급은 {jugup(sal1, worktime1)} 입니다\")\n",
    "\n"
   ]
  },
  {
   "cell_type": "code",
   "execution_count": 237,
   "metadata": {},
   "outputs": [
    {
     "name": "stdout",
     "output_type": "stream",
     "text": [
      "['김종호', '다함께', '동계팀', '신념인', '진정인', '협동이', '희망이']\n"
     ]
    }
   ],
   "source": [
    "#이진 검색(정렬된 데이터)\n",
    "    #데이터를 순서적으로 정렬\n",
    "    #가운데서 데이터를 검색\n",
    "    #반을 검색 대상에서 제거\n",
    "    #순차검색보다 낫다\n",
    "name_list=[\"진정인\", \"김종호\", \"희망이\", \"협동이\", \"동계팀\", \"신념인\", \"다함께\"]\n",
    "name_list.sort() # 아스키코드 정렬\n",
    "print(name_list)"
   ]
  },
  {
   "cell_type": "code",
   "execution_count": 302,
   "metadata": {},
   "outputs": [],
   "source": [
    "def binary_serch_recursive(search_list, key, lower_bound, upper_bound):\n",
    "    middle_pos = (lower_bound + upper_bound) // 2 # 중심위치 계산\n",
    "    \n",
    "#     print(search_list[middle_pos] , key, lower_bound, upper_bound)\n",
    "#     if (search_list[middle_pos] != key) and (lower_bound == upper_bound): \n",
    "    if lower_bound > upper_bound: # 역전된 상황은 검색중단\n",
    "        print(\"데이터가 없습니다\") \n",
    "    elif search_list[middle_pos] < key:   # 아스키코드 비교\n",
    "        binary_serch_recursive(search_list,\n",
    "                               key,\n",
    "                               middle_pos +1,\n",
    "                               upper_bound)\n",
    "    elif search_list[middle_pos] > key:    \n",
    "        binary_serch_recursive(search_list,\n",
    "                               key,\n",
    "                               lower_bound,\n",
    "                              middle_pos -1)\n",
    "    else:\n",
    "        print(\"데이터가 있는 인덱스:\", middle_pos) "
   ]
  },
  {
   "cell_type": "code",
   "execution_count": 301,
   "metadata": {},
   "outputs": [
    {
     "name": "stdout",
     "output_type": "stream",
     "text": [
      "데이터가 있는 인덱스: 0\n"
     ]
    }
   ],
   "source": [
    "lower_bound = 0\n",
    "upper_bound = len(name_list) - 1\n",
    "result=binary_serch_recursive(name_list, \"김종호\", lower_bound, upper_bound)"
   ]
  }
 ],
 "metadata": {
  "kernelspec": {
   "display_name": "Python 3",
   "language": "python",
   "name": "python3"
  },
  "language_info": {
   "codemirror_mode": {
    "name": "ipython",
    "version": 3
   },
   "file_extension": ".py",
   "mimetype": "text/x-python",
   "name": "python",
   "nbconvert_exporter": "python",
   "pygments_lexer": "ipython3",
   "version": "3.7.4"
  }
 },
 "nbformat": 4,
 "nbformat_minor": 4
}
