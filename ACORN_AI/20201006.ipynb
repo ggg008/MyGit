{
 "cells": [
  {
   "cell_type": "code",
   "execution_count": 2,
   "metadata": {},
   "outputs": [
    {
     "name": "stdout",
     "output_type": "stream",
     "text": [
      "삼각형의 넒이는 100.0\n"
     ]
    }
   ],
   "source": [
    "#이렇게 짜면 안됌\n",
    "width=10\n",
    "height=20\n",
    "area=10*20/2\n",
    "print(\"삼각형의 넒이는\", area)"
   ]
  },
  {
   "cell_type": "code",
   "execution_count": 7,
   "metadata": {},
   "outputs": [
    {
     "name": "stdout",
     "output_type": "stream",
     "text": [
      "10 20 100.0\n"
     ]
    }
   ],
   "source": [
    "# 파이썬 클래스 특징 : 멤버변수는 어떤 함수(클래스)에서도 생성이 가능\n",
    "# 실시간 멤버변수 멤버함수 추가 가능\n",
    "# self는 매개변수갯수에 포함되지않음\n",
    "# c, java 초기화함수에서 초기화 되는것만 멤버변수\n",
    "class Triangle:\n",
    "    def __init__(self, width, height): # 생성자, 생성자는 상속되지않음 \n",
    "        self.width = width \n",
    "        self.height= height\n",
    "        # 인스턴스 될때 한번작동, 명시적 호출불가\n",
    "        # 예외 : 상속에서 부모의 생성자를 호출해야되는 경우\n",
    "    def setData(self, width, height):\n",
    "        self.width = width # 멤버변수 추가\n",
    "        self.height= height\n",
    "    def area(self):\n",
    "        return self.width*self.height/2\n",
    "tri1 = Triangle(20, 30) # instance\n",
    "tri1.setData(10, 20)\n",
    "# 접근제한자의 디폴트가 public\n",
    "print(tri1.width, tri1.height, tri1.area())"
   ]
  },
  {
   "cell_type": "code",
   "execution_count": 20,
   "metadata": {},
   "outputs": [],
   "source": [
    "class MyClass(object):\n",
    "    ### 클래스의 예 ***\n",
    "    i = 12345 # 클래스 변수 : 인스턴스되는 오브젝트가 공유\n",
    "    def __init__(self):\n",
    "        self.i=54321 # 멤버변수\n",
    "        num = 100 # 지역변수\n",
    "    def f(self):\n",
    "        return self.i"
   ]
  },
  {
   "cell_type": "code",
   "execution_count": 21,
   "metadata": {},
   "outputs": [
    {
     "name": "stdout",
     "output_type": "stream",
     "text": [
      "None\n",
      "12345\n",
      "54321\n"
     ]
    },
    {
     "data": {
      "text/plain": [
       "54321"
      ]
     },
     "execution_count": 21,
     "metadata": {},
     "output_type": "execute_result"
    }
   ],
   "source": [
    "print(MyClass.__doc__)# 오브젝트의 멤버변수\n",
    "print(MyClass.i)\n",
    "myclass = MyClass()\n",
    "print(myclass.i) \n",
    "# 인스턴스화 될때 생성자를 호출해서 값이 바뀌었다\n",
    "myclass.f()"
   ]
  },
  {
   "cell_type": "code",
   "execution_count": 25,
   "metadata": {},
   "outputs": [
    {
     "name": "stdout",
     "output_type": "stream",
     "text": [
      "생성 Tue Oct  6 11:21:23 2020\n",
      "Sleeping for 3sec\n",
      "사망 Tue Oct  6 11:21:26 2020\n"
     ]
    }
   ],
   "source": [
    "#파이썬에서 시간은 timestamp로 지정 ( 1900.1.1 흐른 초로 표현)\n",
    "from time import time, ctime, sleep\n",
    "class Life:\n",
    "    def __init__(self):\n",
    "        self.birth=ctime()#convert time => local time\n",
    "        print('생성', self.birth)\n",
    "    def __del__(self): #소멸자, 자동으로 garbage collection : 참조하는 변수가 없을때\n",
    "        print('사망', ctime())\n",
    "    def test(self):\n",
    "        #mylife = Life()\n",
    "        print('Sleeping for 3sec')\n",
    "        sleep(3)\n",
    "li=Life()    \n",
    "li.test()\n",
    "del li\n",
    "\n",
    "    "
   ]
  },
  {
   "cell_type": "code",
   "execution_count": 40,
   "metadata": {},
   "outputs": [],
   "source": [
    "# 1.x :\n",
    "# 2.x : class 사용이 늘어나고 상속도 등장\n",
    "class Employee:\n",
    "    empCount = 0\n",
    "    def __init__(self, name, salary):# 인스턴스 될때\n",
    "        self.name = name\n",
    "        self.salary = salary\n",
    "        Employee.empCount+=1\n",
    "    def displayCount(self):\n",
    "        print(\"직원 수=%d\" % Employee.empCount)\n",
    "    def displayEmployee(self): # __붙으면 private\n",
    "        print(\"이름 : \", self.name, \", 급여 : \", self.salary)\n",
    "    def __call__(self, *pargs, **kargs): #오버라이딩\n",
    "        print('Called : ', pargs, kargs)\n",
    "        "
   ]
  },
  {
   "cell_type": "code",
   "execution_count": 41,
   "metadata": {},
   "outputs": [
    {
     "name": "stdout",
     "output_type": "stream",
     "text": [
      "직원 수=1\n",
      "직원 수는 2\n",
      "Called :  ('빅데타', 500, 100) {'c': 100}\n",
      "이름 :  김종호 , 급여 :  500\n"
     ]
    }
   ],
   "source": [
    "emp = Employee('김종호', 500)\n",
    "emp.displayCount()\n",
    "emp1 = Employee('김종호', 500)\n",
    "print(\"직원 수는 %d\" %Employee.empCount)\n",
    "emp(\"빅데타\", 500, 100, c=100) #함수처럼 호출\n",
    "emp1.age=7 #실시간으로 추가 ( 자바스크립트에서 온 기능 )\n",
    "del emp1.age\n",
    "#emp.__displayEmployee() #호출불가\n",
    "emp.displayEmployee()"
   ]
  },
  {
   "cell_type": "code",
   "execution_count": 42,
   "metadata": {},
   "outputs": [
    {
     "name": "stdout",
     "output_type": "stream",
     "text": [
      "Employee.__base__ <class 'object'>\n",
      "Employee.__name__ Employee\n",
      "Employee.__dict__ {'__module__': '__main__', 'empCount': 2, '__init__': <function Employee.__init__ at 0x0000017153C99B80>, 'displayCount': <function Employee.displayCount at 0x0000017153C99AF0>, 'displayEmployee': <function Employee.displayEmployee at 0x0000017153C99E50>, '__call__': <function Employee.__call__ at 0x0000017153A0D040>, '__dict__': <attribute '__dict__' of 'Employee' objects>, '__weakref__': <attribute '__weakref__' of 'Employee' objects>, '__doc__': None}\n"
     ]
    }
   ],
   "source": [
    "print(\"Employee.__base__\", Employee.__base__) # 부모확인\n",
    "print(\"Employee.__name__\", Employee.__name__) \n",
    "print(\"Employee.__dict__\", Employee.__dict__)"
   ]
  },
  {
   "cell_type": "code",
   "execution_count": 54,
   "metadata": {},
   "outputs": [
    {
     "name": "stdout",
     "output_type": "stream",
     "text": [
      "이름 :  김종호 , 나이 :  500\n",
      "나의 이름은 김종호\n"
     ]
    }
   ],
   "source": [
    "# 이름과 나이를 저장하는 Student class를 생성하시오\n",
    "# - 이름과 나이를 출력하는 print 함수를 생성하시오\n",
    "\n",
    "class Student:\n",
    "    def __init__(self, name, age):\n",
    "        self.name = name\n",
    "        self.age = age\n",
    "    def displaySelf(self):\n",
    "        print(\"이름 : \", self.name, \", 나이 : \", self.age)\n",
    "#     def print(self):\n",
    "#         print(\"이름 : \", self.name, \", 나이 : \", self.age)\n",
    "    def __repr__(self):\n",
    "        return \"나의 이름은 \" + self.name\n",
    "\n",
    "stu = Student('김종호', 500)\n",
    "stu.displaySelf()\n",
    "print(stu)"
   ]
  },
  {
   "cell_type": "code",
   "execution_count": 57,
   "metadata": {},
   "outputs": [
    {
     "name": "stdout",
     "output_type": "stream",
     "text": [
      "나의 이름은 김중흐\n",
      "나의 이름은 김종호\n"
     ]
    }
   ],
   "source": [
    "g = stu.__class__('김중흐', 999) # __class__ 인스턴스 사용해서 인스턴스가 됨\n",
    "\n",
    "print(g)\n",
    "print(stu)"
   ]
  },
  {
   "cell_type": "code",
   "execution_count": 84,
   "metadata": {},
   "outputs": [],
   "source": [
    "# Point (x, y) # 크기를 구하고 두포인트의 충돌여부 확인\n",
    "import math\n",
    "class Point:\n",
    "    def __init__(self, x, y):\n",
    "        self.x=x\n",
    "        self.y=y\n",
    "    def __str__(self):\n",
    "        return \"좌표는 (%d, %d)\" %(self.x, self.y)\n",
    "    def dist(self, other):\n",
    "        distance=math.sqrt((self.x-other.x)**2 + (self.y-other.y)**2) #sqrt 루트\n",
    "        return distance\n",
    "    def collision(self, other):\n",
    "        return self.dist(other) < 3"
   ]
  },
  {
   "cell_type": "code",
   "execution_count": 85,
   "metadata": {},
   "outputs": [
    {
     "name": "stdout",
     "output_type": "stream",
     "text": [
      "좌표는 (7, 3)\n",
      "좌표는 (4, 7)\n",
      "두 점사의 거리는 =  5.0\n",
      "충돌하지 않았습니다\n"
     ]
    }
   ],
   "source": [
    "#(7.3), (4.7) 두 포인트가 충돌하는지 확인해보시오\n",
    "pA = Point(7, 3);\n",
    "pB = Point(4, 7);\n",
    "print(pA)\n",
    "print(pB)\n",
    "print('두 점사의 거리는 = ', pA.dist(pB))\n",
    "if pA.collision(pB):\n",
    "    print('충돌했습니다')\n",
    "else:\n",
    "    print('충돌하지 않았습니다')\n"
   ]
  },
  {
   "cell_type": "code",
   "execution_count": 96,
   "metadata": {},
   "outputs": [
    {
     "name": "stdout",
     "output_type": "stream",
     "text": [
      "원의 중심은 : 좌표는 (7, 3) 반지름은 1 원의 면적은 :3.141592653589793 원의 둘레 : 6.283185307179586\n",
      "원의 중심은 : 좌표는 (4, 7) 반지름은 5 원의 면적은 :78.53981633974483 원의 둘레 : 31.41592653589793\n",
      "충돌한다\n"
     ]
    },
    {
     "data": {
      "text/plain": [
       "'충돌한다'"
      ]
     },
     "execution_count": 96,
     "metadata": {},
     "output_type": "execute_result"
    }
   ],
   "source": [
    "# Point class f를 이용해서 Circle class를 생성해보세요 : 위치가 중요\n",
    "# (중심점 반지름)\n",
    "# 면적을 구하는 함수\n",
    "# 둘레를 구하는 함수\n",
    "# 원과 원의 충돌을 체크하는 함수 작헝하시오\n",
    "\n",
    "import math\n",
    "class Circle:\n",
    "    def __init__(self, center, radius):\n",
    "        self.center=center\n",
    "        self.radius=radius\n",
    "    def area_calc(self):\n",
    "        area = math.pi * float(self.radius**2)\n",
    "        return area    \n",
    "    def perimeter_calc(self):\n",
    "        perimeter = 2 * math.pi * self.radius\n",
    "        return perimeter \n",
    "        return distance    \n",
    "    def collision(self, other):\n",
    "        if self.center.dist(other.center) < self.radius + other.radius :\n",
    "            result = '충돌한다'\n",
    "        else:\n",
    "            result = '충돌하지 않음'\n",
    "        return result\n",
    "    def __repr__(self):\n",
    "        return ('원의 중심은 : ' + str(self.center) + \n",
    "                ' 반지름은 ' + str(self.radius) + \n",
    "                ' 원의 면적은 :' + str(self.area_calc()) + \n",
    "                ' 원의 둘레 : ' + str(self.perimeter_calc()))\n",
    "        \n",
    "cirA = Circle(pA, 1)\n",
    "cirB = Circle(pB, 5)\n",
    "print(cirA)\n",
    "print(cirB)\n",
    "print(cirA.collision(cirB))\n",
    "Circle.collision(cirA, cirB)\n",
    "    \n"
   ]
  },
  {
   "cell_type": "code",
   "execution_count": 97,
   "metadata": {},
   "outputs": [],
   "source": [
    "# vector 크기와 방향\n",
    "# 벡터 연상은 요소별로 + - * / 를 수행\n",
    "# 내적연산\n",
    "# 거리값 계산을 위한 피타고라스 정리\n",
    "class Vector:\n",
    "    def __init__(self, x, y):\n",
    "        self.x=x\n",
    "        self.y=y\n",
    "    def __repr__(self):\n",
    "        return \"(좌표는 %d, %d)\"%(self.x, self.y)\n",
    "    def __add__(self, other): # 연산자 오버로딩 + \n",
    "        return Vector(self.x + other.x, self.y + other.y)\n",
    "    def __mul__(self, other):\n",
    "        return Vector(self.x * other.x, self.y * other.y)\n",
    "    def __sub__(self, other):\n",
    "        return Vector(self.x - other.x, self.y - other.y)\n",
    "    def __truediv__(self, other):\n",
    "        return Vector(self.x / other.x, self.y / other.y)\n",
    "        \n",
    "        "
   ]
  },
  {
   "cell_type": "code",
   "execution_count": 102,
   "metadata": {},
   "outputs": [
    {
     "name": "stdout",
     "output_type": "stream",
     "text": [
      "(좌표는 100, 23)\n",
      "(좌표는 200, 46)\n",
      "(좌표는 120, 50)\n",
      "(좌표는 80, -4)\n",
      "(좌표는 2000, 621)\n",
      "(좌표는 5, 0)\n"
     ]
    }
   ],
   "source": [
    "f = Vector(100, 23)\n",
    "g = Vector(20, 27)\n",
    "print(f)\n",
    "print(f+f)\n",
    "print(f+g)#사용자정의 데이터 타입\n",
    "print(f-g)\n",
    "print(f*g)\n",
    "print(f/g)"
   ]
  },
  {
   "cell_type": "code",
   "execution_count": 106,
   "metadata": {},
   "outputs": [],
   "source": [
    "# 3차원으로 확장해보시오 선형대수\n",
    "class Vector:\n",
    "    def __init__(self, x, y, z):\n",
    "        self.x=x\n",
    "        self.y=y\n",
    "        self.z=z\n",
    "    def __repr__(self):\n",
    "        return \"(좌표는 %d, %d, %d)\"%(self.x, self.y, self.z)\n",
    "    def __add__(self, other): # 연산자 오버로딩 + \n",
    "        return Vector(self.x + other.x, self.y + other.y, self.z + other.z)\n",
    "    def __mul__(self, other):\n",
    "        return Vector(self.x * other.x, self.y * other.y, self.z * other.z)\n",
    "    def __sub__(self, other):\n",
    "        return Vector(self.x - other.x, self.y - other.y, self.z - other.z)\n",
    "    def __truediv__(self, other):\n",
    "        return Vector(self.x / other.x, self.y / other.y, self.z / other.z)\n",
    "    def norm(self):\n",
    "        return math.sqrt(self.x**2 + self.y**2 + self.z**2)\n",
    "    def normalize(self):# 크기가 1일때 각 방향값\n",
    "        norm = self.norm()\n",
    "        return self.x/norm, self.y/norm, self.z/norm\n",
    "    def dot(self, other): # 컴퓨터의 기본 학습논리 내적 (내적을 위해 투영)\n",
    "        return (self.x * other.x + self.y * other.y + self.z * other.z )\n",
    "    def cosangle(self, other):\n",
    "        dot = self.dot(other)\n",
    "        norm1 = self.norm()\n",
    "        norm2 = other.norm()\n",
    "        return dot/(norm1 * norm2)\n",
    "    def theta(self, other):\n",
    "        cosangle = self.cosangle(other)\n",
    "        return math.acos(cosangle) * (180/math.pi) # 각도 변환 (라디안 -> degress)\n",
    "    "
   ]
  },
  {
   "cell_type": "code",
   "execution_count": 110,
   "metadata": {},
   "outputs": [
    {
     "name": "stdout",
     "output_type": "stream",
     "text": [
      "(좌표는 10, 0, 0)\n",
      "(좌표는 20, 0, 0)\n",
      "(좌표는 10, -27, 0)\n",
      "(좌표는 0, 0, 0)\n",
      "f벡터의 크기= 10.0\n",
      "g벡터의 크기= 27.0\n",
      "f의 normal vector= (1.0, 0.0, 0.0)\n",
      "g의 normal vector= (0.0, 1.0, 0.0)\n",
      "두 벡터의 내적= 0\n",
      "f와 g의 사이각은= 90.0\n",
      "f와 g의 코사인 사이각은=  0.0\n"
     ]
    }
   ],
   "source": [
    "f = Vector(10,0,0)\n",
    "g = Vector(0,27,0)\n",
    "print(f)\n",
    "print(f+f)\n",
    "print(f-g)\n",
    "print(f*g)\n",
    "print(\"f벡터의 크기=\", f.norm())\n",
    "print(\"g벡터의 크기=\", g.norm())\n",
    "print(\"f의 normal vector=\", f.normalize()) # 1,0,0\n",
    "print(\"g의 normal vector=\", g.normalize()) # 0,1,0\n",
    "print(\"두 벡터의 내적=\", g.dot(f))\n",
    "print(\"f와 g의 사이각은=\", f.theta(g))\n",
    "print(\"f와 g의 코사인 사이각은= \", f.cosangle(g))"
   ]
  },
  {
   "cell_type": "code",
   "execution_count": 111,
   "metadata": {},
   "outputs": [],
   "source": [
    "# 오전 종료 ==========================================================================================================================================================================================================="
   ]
  },
  {
   "cell_type": "code",
   "execution_count": 207,
   "metadata": {},
   "outputs": [],
   "source": [
    "# decorator 장식자 디자인 패턴 - html태그을 장식\n",
    "def print_name(first, last):\n",
    "    return ('실무는 %s 처럼, %s 학습1' %(last, first))\n",
    "# closure\n",
    "def p_decorMY(func):\n",
    "    def func_wrapper(*args, **kwargs):\n",
    "        text = func(*args, **kwargs)\n",
    "        return '<p>%s</p>' % text\n",
    "    return func_wrapper"
   ]
  },
  {
   "cell_type": "code",
   "execution_count": 208,
   "metadata": {
    "scrolled": true
   },
   "outputs": [
    {
     "data": {
      "text/plain": [
       "'<p>실무는 연습 처럼, 빅데이터 학습1</p>'"
      ]
     },
     "execution_count": 208,
     "metadata": {},
     "output_type": "execute_result"
    }
   ],
   "source": [
    "print_name0 = p_decorMY(print_name)\n",
    "print_name0('빅데이터', '연습')"
   ]
  },
  {
   "cell_type": "code",
   "execution_count": 202,
   "metadata": {},
   "outputs": [],
   "source": [
    "@p_decor\n",
    "def print_name2(first, last):\n",
    "    return ('실무는 %s 처럼, %s 학습2' % (last, first))"
   ]
  },
  {
   "cell_type": "code",
   "execution_count": 204,
   "metadata": {},
   "outputs": [
    {
     "data": {
      "text/plain": [
       "'<p>실무는 연습2 처럼, 빅데이터2 학습2</p>'"
      ]
     },
     "execution_count": 204,
     "metadata": {},
     "output_type": "execute_result"
    }
   ],
   "source": [
    "print_name2('빅데이터2', '연습2')"
   ]
  },
  {
   "cell_type": "code",
   "execution_count": 209,
   "metadata": {},
   "outputs": [
    {
     "name": "stdout",
     "output_type": "stream",
     "text": [
      "초기화.\n",
      "장식자 시작\n",
      "데코레이션 시작 my_function\n",
      "원래함수의 기능.\n",
      "데코레이션 종료 my_function\n"
     ]
    }
   ],
   "source": [
    "# 장식자를 만들려면 함수초기화가 되어지도록 하고\n",
    "# __call__함수를 오버라이딩\n",
    "class Verbose:\n",
    "    def __init__(self, f):\n",
    "        print('초기화.')\n",
    "        self.func = f\n",
    "    def __call__(self): # 오버라이딩\n",
    "        print('데코레이션 시작', self.func.__name__)\n",
    "        self.func()\n",
    "        print('데코레이션 종료', self.func.__name__)\n",
    "@Verbose\n",
    "def my_function():\n",
    "    print('원래함수의 기능.')\n",
    "print('장식자 시작')\n",
    "my_function()\n",
    "    "
   ]
  },
  {
   "cell_type": "code",
   "execution_count": 220,
   "metadata": {
    "scrolled": true
   },
   "outputs": [
    {
     "name": "stdout",
     "output_type": "stream",
     "text": [
      "list index out of range\n",
      "프로그램이 정상적으로 종료되었습니다\n"
     ]
    }
   ],
   "source": [
    "# 예외처리(프로그램은 계속 진행되어야한다)\n",
    "# try\n",
    "# except\n",
    "# else : 예외가 발생하지 않을때 실행\n",
    "# finally : 에외가 발생하던 말던 : 메모리 해제( 장치를 해제 )\n",
    "# -\n",
    "# assert : 반드시 가져야할 값을 확인\n",
    "# raise : 강제로 트리거(예외) 발생\n",
    "cities=[]\n",
    "cities.append('하늘')\n",
    "cities.append('땅')\n",
    "try:\n",
    "    print(cities[2])\n",
    "    print('뒤에 출력 가능?')\n",
    "except IndexError as e:\n",
    "    print(e)\n",
    "print('프로그램이 정상적으로 종료되었습니다')\n",
    "    "
   ]
  },
  {
   "cell_type": "code",
   "execution_count": 221,
   "metadata": {},
   "outputs": [],
   "source": [
    "# 변수 -> 자료구조(배열), lsit(삽입삭제), dict(nosql : 빅데이터),\n",
    "# 분산처리 ( hadoop : 데이터 삭제, 수정 기능 무 ) : 컴퓨터 분할 => reduce\n",
    "#  분석 ( 규칙을 발견 : 정보)\n",
    "# 오버로딩, 오버라이딩\n",
    "# 상속 공통분모 정의 = 코딩을 생략\n",
    "# 데이터베이스 관계를 이용해서 테이블간의 관계 - 중복데이터를 제거\n",
    "#  테이블을 찢어서 관계(정규화)\n",
    "#  join(테이블 결합)\n",
    "# 목적 : 양을 줄이고(자료구조) 속도를 고속으로 처리(알고리즘)하는것이 목적 ( 최적화 한다)"
   ]
  },
  {
   "cell_type": "code",
   "execution_count": 231,
   "metadata": {},
   "outputs": [
    {
     "name": "stdout",
     "output_type": "stream",
     "text": [
      "자식메서드\n"
     ]
    }
   ],
   "source": [
    "# 상속 : 공통분모 -> 부모\n",
    "#  부모는 자식을 가르킬수 있다 - delegator 대리자 => design pattern( 100이상의 종류 )\n",
    "class Parent(object):\n",
    "    def myMethod(self):\n",
    "        print('부모메서드')\n",
    "class Child(Parent):\n",
    "    def myMethod(self): # 재정의\n",
    "        print('자식메서드')\n",
    "ch = Child()\n",
    "ch.myMethod()"
   ]
  },
  {
   "cell_type": "code",
   "execution_count": 239,
   "metadata": {},
   "outputs": [],
   "source": [
    "class Animal:\n",
    "    def __init__(self, name):\n",
    "        self.name = name\n",
    "    def move(self):\n",
    "        print(\"move\")\n",
    "    def speak(self):\n",
    "        pass # 몸통없이 에러가 나지 않도록 방지 ( 협업 프로그래밍 )\n",
    "    \n",
    " \n",
    "class Dog (Animal):\n",
    "    def speak(self):\n",
    "        print(\"bark\")\n",
    "\n",
    "class Duck (Animal):\n",
    "    def speak(self):\n",
    "        print(\"quack\") "
   ]
  },
  {
   "cell_type": "code",
   "execution_count": 241,
   "metadata": {},
   "outputs": [
    {
     "name": "stdout",
     "output_type": "stream",
     "text": [
      "doggy\n",
      "move\n",
      "bark\n"
     ]
    }
   ],
   "source": [
    "dog = Dog('doggy')\n",
    "n  = dog.name\n",
    "print(n)\n",
    "dog.move();\n",
    "dog.speak();"
   ]
  },
  {
   "cell_type": "code",
   "execution_count": 243,
   "metadata": {},
   "outputs": [
    {
     "name": "stdout",
     "output_type": "stream",
     "text": [
      "bark\n",
      "quack\n"
     ]
    }
   ],
   "source": [
    "animals = [Dog('doggy'), Duck('duck')] # 100\n",
    "for a in animals:\n",
    "    a.speak()"
   ]
  },
  {
   "cell_type": "code",
   "execution_count": 247,
   "metadata": {},
   "outputs": [
    {
     "name": "stdout",
     "output_type": "stream",
     "text": [
      "개!\n",
      "sleep\n",
      "늑대\n",
      "--------\n",
      "고양이\n",
      "sleep\n",
      "야옹\n",
      "--------\n",
      "사자\n",
      "sleep\n",
      "어흥\n",
      "--------\n",
      "개!\n",
      "sleep\n",
      "늑대\n",
      "고양이\n",
      "sleep\n",
      "야옹\n",
      "사자\n",
      "sleep\n",
      "어흥\n"
     ]
    }
   ],
   "source": [
    "class Animal:\n",
    "    def Name(self):\n",
    "        pass\n",
    "    def Sleep(self):\n",
    "        print('sleep')\n",
    "    def MakeNoise(self):\n",
    "        pass\n",
    "class Dog(Animal):\n",
    "    def Name(self):\n",
    "        print('개!')\n",
    "    def MakeNoise(self):\n",
    "        print('늑대')\n",
    "class Cat(Animal):\n",
    "    def Name(self):\n",
    "        print('고양이')\n",
    "    def MakeNoise(self):\n",
    "        print('야옹')\n",
    "class Lion(Animal):\n",
    "    def Name(self):\n",
    "        print('사자')\n",
    "    def MakeNoise(self):\n",
    "        print('어흥')\n",
    "class horse(Animal):\n",
    "    def Name(self):\n",
    "        print('말')\n",
    "    def MakeNoise(self):\n",
    "        print('힝이잉')\n",
    "\n",
    "class TestAnimals: # 대리자 ( delegator )\n",
    "    def PrintName(self, animal): # 부모 애니멀 : 부모는 자식을 가르킬수 있다\n",
    "        animal.Name()\n",
    "    def GotoSleep(self, animal):\n",
    "        animal.Sleep()\n",
    "    def MakeNoise(self, animal):\n",
    "        animal.MakeNoise()\n",
    "TestAnimals = TestAnimals()\n",
    "dog = Dog()\n",
    "cat = Cat()\n",
    "lion=Lion()\n",
    "\n",
    "# 프로그램 내부가 간단해 짐\n",
    "TestAnimals.PrintName(dog)\n",
    "TestAnimals.GotoSleep(dog)\n",
    "TestAnimals.MakeNoise(dog)\n",
    "print('--------')\n",
    "TestAnimals.PrintName(cat)\n",
    "TestAnimals.GotoSleep(cat)\n",
    "TestAnimals.MakeNoise(cat)\n",
    "print('--------')\n",
    "TestAnimals.PrintName(lion)\n",
    "TestAnimals.GotoSleep(lion)\n",
    "TestAnimals.MakeNoise(lion)\n",
    "print('--------')\n",
    "\n",
    "mam = []\n",
    "mam.append(dog)\n",
    "mam.append(cat)\n",
    "mam.append(lion)\n",
    "\n",
    "for ma in mam:\n",
    "    TestAnimals.PrintName(ma)\n",
    "    TestAnimals.GotoSleep(ma)\n",
    "    TestAnimals.MakeNoise(ma) "
   ]
  },
  {
   "cell_type": "code",
   "execution_count": 259,
   "metadata": {},
   "outputs": [
    {
     "name": "stdout",
     "output_type": "stream",
     "text": [
      "점수를 입력하시요 50\n",
      "F\n",
      "점수를 입력하시요 45\n",
      "불합격\n",
      "점수를 입력하시요 22\n",
      "가\n",
      "점수를 입력하시요 22\n",
      "F\n",
      "점수를 입력하시요 22\n",
      "불합격\n",
      "점수를 입력하시요 2\n",
      "가\n"
     ]
    }
   ],
   "source": [
    "class Evaluation:\n",
    "    def printcalcGrade(self,average):\n",
    "        pass         \n",
    "class Hakjum(Evaluation):\n",
    "    def printcalcGrade(self, average):\n",
    "        if average >= 90:       return \"A\"\n",
    "        elif average >= 80:     return \"B\"\n",
    "        elif average >= 70:     return \"C\"\n",
    "        elif average >= 60:     return \"D\"\n",
    "        else:  return \"F\"\n",
    "        \n",
    "class Pass_Fail(Evaluation):       \n",
    "    def printcalcGrade(self,average):\n",
    "        if average >= 60:       return \"합격\"\n",
    "        else:       return \"불합격\"\n",
    "\n",
    "class Element_Evaluation(Evaluation):       \n",
    "    def printcalcGrade(self,average):\n",
    "        if average >= 90:    return \"수\"\n",
    "        elif average >=80:   return \"우\"\n",
    "        elif average >=70:   return \"미\"\n",
    "        elif average >=60:   return \"양\"\n",
    "        else:  return \"가\"\n",
    "\n",
    "class Evaluation_print:\n",
    "    def print_evalution(self, evaluation):\n",
    "        jumsu = eval(input(\"점수를 입력하시요 \"))\n",
    "        print(evaluation.printcalcGrade(jumsu))\n",
    "       \n",
    "       \n",
    "evaluation_print = Evaluation_print()\n",
    "hakjum    = Hakjum()\n",
    "pass_fail =  Pass_Fail()\n",
    "element   = Element_Evaluation()\n",
    "evaluation_print.print_evalution(hakjum);\n",
    "evaluation_print.print_evalution(pass_fail);\n",
    "\n",
    "evaluation_print.print_evalution(element);\n",
    "\n",
    "\n",
    "evaluation_method = []\n",
    "evaluation_method.append(hakjum)\n",
    "evaluation_method.append(pass_fail)\n",
    "evaluation_method.append(element)\n",
    "\n",
    "for evalu in evaluation_method:\n",
    "    evaluation_print.print_evalution(evalu)"
   ]
  },
  {
   "cell_type": "code",
   "execution_count": 250,
   "metadata": {},
   "outputs": [
    {
     "name": "stdout",
     "output_type": "stream",
     "text": [
      "C.m()\n"
     ]
    }
   ],
   "source": [
    "class A:\n",
    "    def m(self):\n",
    "        print(\"A.m()호출 \")\n",
    "class B(A):\n",
    "    def m(self):\n",
    "        print(\"B.m()호출\")   \n",
    "class C(A):\n",
    "    def m(self): \n",
    "        print(\"C.m()\")\n",
    "class D(C, B):\n",
    "    pass\n",
    "dinc = D()\n",
    "dinc.m()"
   ]
  },
  {
   "cell_type": "code",
   "execution_count": 11,
   "metadata": {},
   "outputs": [
    {
     "name": "stdout",
     "output_type": "stream",
     "text": [
      " 0: 0: 0\n",
      " 0: 0: 0\n"
     ]
    }
   ],
   "source": [
    "# 시계, 달력 클래스\n",
    "class Clock(object):  \n",
    "    def __init__(self, hours=0, minutes=0, seconds=0):\n",
    "        self.__hours = hours\n",
    "        self.__minutes= minutes\n",
    "        self.__seconds = seconds\n",
    "        self.isEndDay = False  \n",
    "    def set(self, hours, minutes, seconds=0):\n",
    "        self.__hours = hours\n",
    "        self.__minutes = minutes\n",
    "        self.__seconds = seconds\n",
    "    def tick(self):\n",
    "        if self.__seconds == 59:\n",
    "            self.__seconds = 0\n",
    "            if(self.__minutes == 59):\n",
    "                self.__minutes = 0\n",
    "                if(self.__hours == 23):\n",
    "                    self.__hours = 0\n",
    "#                     print('하루끝')\n",
    "                    self.isEndDay = True\n",
    "                else:\n",
    "                    self.__hours+=1\n",
    "            else:\n",
    "                self.__minutes+=1\n",
    "        else:\n",
    "            self.__seconds+=1\n",
    "    def display(self):\n",
    "        print(\"%d:%d:%d\" % (self.__hours, self.__minutes, self.__seconds))\n",
    "    def __str__(self):\n",
    "        return \"%2d:%2d:%2d\" % (self.__hours, self.__minutes, self.__seconds)\n",
    "    def check(self):\n",
    "        if self.__hours == 0 and self.__seconds==0 and self.__minutes==0:\n",
    "            return True\n",
    "        else:\n",
    "            return False\n",
    "\n",
    "# 12시가 되도록 세팅하시오\n",
    "x = Clock()\n",
    "print(x)\n",
    "for i in range(24 * 60 * 60):\n",
    "    x.tick()\n",
    "print(x)"
   ]
  },
  {
   "cell_type": "code",
   "execution_count": 14,
   "metadata": {},
   "outputs": [],
   "source": [
    "#년월일\n",
    "class Calendar(object):\n",
    "    months = (31,28,31,30,31,30,31,31,30,31,30,31) # tuple # 클래스 변수\n",
    "    def __init__(self, day=1, month=1, year=1900): # time stamp 경과시간을 초\n",
    "        self.__day = day # private\n",
    "        self.__month = month\n",
    "        self.__year = year\n",
    "    def leapyear(self,y): # 윤년\n",
    "        if y % 4: # 1,2,3 윤년이 아님\n",
    "           return 0;\n",
    "        else: # 0 나누어서 떨어진경우 윤년\n",
    "           if y % 100: # 떨어지지 않으면 29일이됨\n",
    "               return 1;\n",
    "           else: # 떨어짐\n",
    "               if y % 400: # 나머지가 있으면\n",
    "                  return 0\n",
    "               else: # 떨어지면\n",
    "                  return 1;\n",
    "    def set(self, day, month, year):\n",
    "        self.__day = day\n",
    "        self.__month = month\n",
    "        self.__year = year\n",
    "\n",
    "    def advance(self):\n",
    "        months = Calendar.months\n",
    "        max_days = months[self.__month-1] # 인덱스는 0부터 시작\n",
    "        if self.__month == 2: # 2월인 경우\n",
    "            max_days += self.leapyear(self.__year) # 28, 29\n",
    "        if self.__day == max_days: # 월최종일이면\n",
    "            self.__day = 1\n",
    "            if (self.__month == 12):\n",
    "                self.__month = 1\n",
    "                self.__year += 1\n",
    "            else:\n",
    "                self.__month += 1\n",
    "        else:\n",
    "#             print('하루 더하기')\n",
    "            self.__day += 1\n",
    "    def __str__(self):\n",
    "        return str(self.__year) +\"/\"+ str(self.__month)+ \"/\"+ str(self.__day)"
   ]
  },
  {
   "cell_type": "code",
   "execution_count": 289,
   "metadata": {},
   "outputs": [
    {
     "name": "stdout",
     "output_type": "stream",
     "text": [
      "1900/1/1\n",
      "2020/10/6\n",
      " 0: 0: 0\n",
      "하루끝\n",
      "TICK\n",
      "하루 더하기\n",
      "2020/10/7\n"
     ]
    }
   ],
   "source": [
    "# 날짜를 오늘로 만들어 보시오\n",
    "\n",
    "cal = Calendar();\n",
    "print(cal)\n",
    "cal.set(6, 10, 2020)\n",
    "print(cal)\n",
    "\n",
    "# 두개의 클래스를 결합해서 시분초에서 하루가 지나면 일이 하루 증가하도록 연결시켜보시오\n",
    "\n",
    "x = Clock()\n",
    "print(x)\n",
    "hour = 0\n",
    "for i in range(24 * 60 * 60):\n",
    "    x.tick()   \n",
    "#     print(x.isEndDay)\n",
    "    if x.isEndDay:\n",
    "        print('TICK')\n",
    "        cal.advance()      \n",
    "        x.isEndDay = False\n",
    "print(cal)\n"
   ]
  },
  {
   "cell_type": "code",
   "execution_count": 16,
   "metadata": {},
   "outputs": [
    {
     "name": "stdout",
     "output_type": "stream",
     "text": [
      "2020/1/1,  0: 0: 0\n",
      "2020/10/27,  0: 0: 0\n"
     ]
    }
   ],
   "source": [
    "#다중 상속\n",
    "class CalendarClock(Calendar, Clock):\n",
    "    def __init__(self, year=1900, month=1, day=1, hours=0, minutes=0, seconds=0):\n",
    "        Calendar.__init__(self, day, month, year)\n",
    "        Clock.__init__(self, hours, minutes, seconds)\n",
    "    def __str__(self):\n",
    "        return Calendar.__str__(self) + \", \" + Clock.__str__(self)\n",
    "    def tick_advance(self):\n",
    "        self.tick()\n",
    "        if self.check():\n",
    "            self.advance()\n",
    "        \n",
    "#\n",
    "\n",
    "t = CalendarClock(2020, 1, 1);\n",
    "print(t)\n",
    "for i in range(30 * 10 * 60 * 60 * 24):\n",
    "    t.tick_advance()\n",
    "print(t)\n",
    "\n",
    "        \n",
    "            "
   ]
  },
  {
   "cell_type": "code",
   "execution_count": null,
   "metadata": {
    "scrolled": true
   },
   "outputs": [
    {
     "name": "stdout",
     "output_type": "stream",
     "text": [
      "menu = [\"종료(0), 입력(1), 출력(2), 계산(3)\"]\n"
     ]
    }
   ],
   "source": [
    "# Student class는 1인분에 대해서만 정의합니다\n",
    "#  bunho, name, mat, eng, total, average, grade(A,B,C,D,F)\n",
    "#  inputData \n",
    "#  calc_total_average \n",
    "#  calcSemGrade \n",
    "#  __repr__ 개인점수 출력\n",
    "# Management ( 3인분 ) Facade design pattern\n",
    "#  입력, 출력, 성적계산\n",
    "# 메뉴를 이용해서 Management를 구동\n",
    "#  menu = [\"입력(1), 출력(2), 계산(3)\"]\n",
    "#  menu = [\"입력(1), 출력(2), 계산(3), 검색(4), 이름수정(5), 이름삭제(6), 정렬(7), 종료(8)\"]\n",
    "# 등수를 계산하는 메뉴\n",
    "#  총점으로 정렬하고, 변수하날 추가해서 순서대로 넘버링(1,2,3,4)\n",
    "#  다시번호순으로 정렬\n",
    "#  append 사용하면 추가됨\n",
    "#  등수를 내기전에 등수를 지우고 다시 등수를 내는 방향으로 문제 해결\n",
    "# 저장메뉴\n",
    "#  저장 pickle 사용 : pickle.dump(data, f)\n",
    "#  로드 data=pickle.load(f)\n",
    "# 통계 : 과목별 평균, 분산, 표준편차를 출력하는 함수\n",
    "#  과목별 데이터를 분리\n",
    "#  평균 = 합계 / 개수\n",
    "#  분산(variance) = sigma(데이터 - 평균)**2 / 개수(표본:n-1, 모집단:n)\n",
    "#  표준편차(deviation) : math.sqrt(분산)\n",
    "\n",
    "\n",
    "\n",
    "class Student:\n",
    "    def __init__(self, bunho, name, mat, eng):\n",
    "        self.bunho = bunho\n",
    "        self.name = name\n",
    "        self.mat = mat\n",
    "        self.eng = eng\n",
    "        self.average = self.mat + self.eng / 2\n",
    "    def __repr__(self):\n",
    "        return \"%d번 학생 %s의 점수는 수학 %d점, 영어 %d점\" %(self.bunho, self.name, self.mat, self.eng) \n",
    "    def calc_total_average(self):\n",
    "        return self.average\n",
    "    def calcSemGrade(self):\n",
    "        average = self.average        \n",
    "        if average >= 90:    return \"A\"\n",
    "        elif average >=80:   return \"B\"\n",
    "        elif average >=70:   return \"C\"\n",
    "        elif average >=60:   return \"D\"\n",
    "        else:  return \"F\"\n",
    "    \n",
    "#   \n",
    "class Management:\n",
    "    def __init__(self):\n",
    "        self.stuList = []\n",
    "        self.stuList.append(Student(len(self.stuList), '김종부', 55, 10))\n",
    "        self.stuList.append(Student(len(self.stuList), '송민규', 50, 30))\n",
    "        self.stuList.append(Student(len(self.stuList), '세징야', 45, 100))\n",
    "    def displayStu(self):\n",
    "        for i in self.stuList:\n",
    "            print(i)\n",
    "    def inputStu(self, name, mat, eng):\n",
    "        self.stuList.append(Student(len(self.stuList), name, mat, eng))\n",
    "    def calcStu(self):\n",
    "        sumAverage = 0\n",
    "        for stu in self.stuList:\n",
    "            sumAverage = stu.average;\n",
    "        return sumAverage / len(self.stuList)\n",
    "        \n",
    "        \n",
    "        \n",
    "ma = Management()\n",
    "\n",
    "selmenu = -1\n",
    "\n",
    "while selmenu != 0:\n",
    "    print('menu = [\"종료(0), 입력(1), 출력(2), 계산(3)\"]')\n",
    "    selmenu = int(input(\"원하는 명령을 입력하시오 : \")) # 문자열로 입력\n",
    "    if selmenu == 0:\n",
    "        print('종료')\n",
    "        pass\n",
    "    elif selmenu == 1:    \n",
    "        print('학생추가')\n",
    "        name = input(\"학생의 이름 : \")\n",
    "        mat = input(\"학생의 수학점수 : \")\n",
    "        eng = input(\"학생의 영어점수 : \")\n",
    "        ma.inputStu(name, int(mat), int(eng))\n",
    "    elif selmenu == 2:\n",
    "        print('학생목록')\n",
    "        ma.displayStu()\n",
    "    elif selmenu == 3:\n",
    "        print('총 학생 점수평균')\n",
    "        print(ma.calcStu(), '점')\n",
    "    else: \n",
    "        pass\n",
    "\n",
    "    \n",
    "\n"
   ]
  },
  {
   "cell_type": "code",
   "execution_count": null,
   "metadata": {},
   "outputs": [],
   "source": [
    "\"\"\"\n",
    "#참고용\n",
    "#  검색\n",
    "\n",
    " def search_name(self):       \n",
    "        name = input(\"검색할 학생 이름을 입력하시요\")\n",
    "        sel = 0\n",
    "        for per in self.sungjuk:        \n",
    "            if (per.name == name):\n",
    "                print( per)\n",
    "                return sel\n",
    "            sel += 1\n",
    "        print(\"검색하고자 하는 학생이 없읍니다.\" )\n",
    "        return\n",
    "\n",
    "# 등수\n",
    "\n",
    "   def rank(self, Students):\n",
    "        if len(Students[len(Students)-1]) == 5:\n",
    "            print('총점과 평균을 계산하시오.')\n",
    "            return\n",
    "\n",
    "        Students.sort(key = lambda x : x[5], reverse = True)\n",
    "        rank_num = 1\n",
    "        for i in range(len(Students)):\n",
    "            if len(Students[i]) == 8:\n",
    "                del Students[i][7]\n",
    "            Students[i].append(rank_num)\n",
    "            rank_num+=1\n",
    "        Students.sort(key = lambda x : x[0])\n",
    "        return Students\n",
    "\n",
    "# 저장\n",
    "\n",
    "    def SavePickle(self, saveDir=\"d://\", saveFileName = \"sungjuck.txt\"):\n",
    "        f = open(saveDir + saveFileName, 'wb')\n",
    "        data = []\n",
    "        for a in self.student:\n",
    "            data.append(a())\n",
    "        pickle.dump(data, f)\n",
    "        f.close()\n",
    "\n",
    " \n",
    "\n",
    "# 통계\n",
    "\n",
    "   def Statistics(self):\n",
    "        average = [0,0,0]\n",
    "        variance = [0,0,0]\n",
    "        deviation = [0,0,0]\n",
    "        korList = []\n",
    "        engList = []\n",
    "        mathList = []\n",
    "        for one in self.student:\n",
    "            average[0] += one.kor\n",
    "            average[1] += one.eng\n",
    "            average[2] += one.mat\n",
    "            korList.append(one.kor)\n",
    "            engList.append(one.eng)\n",
    "            mathList.append(one.mat)\n",
    "           \n",
    "        average[0] = round(average[0]/len(self.student),2)\n",
    "        average[1] = round(average[1]/len(self.student),2)\n",
    "        average[2] = round(average[2]/len(self.student),2)\n",
    "       \n",
    "        allList = [korList, engList, mathList]\n",
    "        for one in range(len(average)):\n",
    "            vsum = 0\n",
    "            for x in allList[one]:\n",
    "                vsum +=  (x - average[one])**2\n",
    "            variance[one] = round(vsum / len(allList[one]),2)\n",
    "            deviation[one] = round(math.sqrt(variance[one]),2)\n",
    "        print(\"평균:%s\\t 표준편차:%s\\t 분산:%s\"%(average, variance, deviation))     \n",
    "\"\"\""
   ]
  }
 ],
 "metadata": {
  "kernelspec": {
   "display_name": "Python 3",
   "language": "python",
   "name": "python3"
  },
  "language_info": {
   "codemirror_mode": {
    "name": "ipython",
    "version": 3
   },
   "file_extension": ".py",
   "mimetype": "text/x-python",
   "name": "python",
   "nbconvert_exporter": "python",
   "pygments_lexer": "ipython3",
   "version": "3.7.4"
  }
 },
 "nbformat": 4,
 "nbformat_minor": 4
}
