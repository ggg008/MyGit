{
 "cells": [
  {
   "cell_type": "code",
   "execution_count": 42,
   "metadata": {
    "scrolled": true
   },
   "outputs": [
    {
     "name": "stdout",
     "output_type": "stream",
     "text": [
      "2,김만덕,100,99\n",
      "3,고려인,100,99\n",
      "4,종로구,100,80\n",
      "9,typhoon,100,100\n",
      "10,typhoon,100,100\n",
      "11,typhoon,100,100\n",
      "12,typhoon,100,100\n",
      "13,에이콘,50,50\n",
      "14,에이콘,50,50\n",
      "15,에이콘,50,50\n",
      "16,에이콘,50,50\n",
      "17,에이콘,50,50\n",
      "18,에이콘,50,50\n",
      "19,전공사,11,22\n",
      "<generator object <genexpr> at 0x000001C3907D8970>\n"
     ]
    }
   ],
   "source": [
    "# 아나콘다 프롬프트에서 pymysql 설치 \n",
    "# pip install pymysql \n",
    "import pymysql\n",
    "#os 에서 할당 => 접속이 안됌\n",
    "con = pymysql.connect(host=\"192.168.0.106\", port=3306, user='root',\n",
    "                     passwd='1234acorn', db='sungjuk_test', charset='utf8', autocommit=True)\n",
    "try:\n",
    "    with con.cursor() as cur:\n",
    "        cur.execute(\"select * from student\") # 명령실행\n",
    "        rows = cur.fetchall() # record set 생성, fetchone, fetchmany, fetchall\n",
    "#         rows = cur.fetchmany()\n",
    "        desc = cur.description\n",
    "        for row in rows: # 한 행식 => tuplae 형식으로 데이터 리턴\n",
    "            print(f'{row[0]},{row[1]},{row[2]},{row[3]}')\n",
    "finally:\n",
    "    con.close() # 테이블의 필드 이름\n",
    "print(i[0] for i in cur.description)\n",
    "                    "
   ]
  },
  {
   "cell_type": "code",
   "execution_count": 8,
   "metadata": {},
   "outputs": [
    {
     "name": "stdout",
     "output_type": "stream",
     "text": [
      "새로운 학생이 등록되었습니다\n"
     ]
    }
   ],
   "source": [
    "import pymysql\n",
    "#os 에서 할당 => 접속이 안됌\n",
    "con = pymysql.connect(host=\"192.168.0.106\", port=3306, user='root',\n",
    "                     passwd='1234acorn', db='sungjuk_test', charset='utf8', autocommit=True)\n",
    "person=(\"typhoon\", 100, 100, 100, 'CH00000001')\n",
    "try:\n",
    "    with con.cursor() as cur:\n",
    "        cur.execute(\"\"\"INSERT INTO student(name, kor, mat, eng, schoolcode)\n",
    "                    values(%s, %s, %s, %s, %s)\"\"\", # 명령실행\n",
    "        (person[0], person[1], person[2], person[3], person[4]))\n",
    "        con.commit()\n",
    "        print('새로운 학생이 등록되었습니다')\n",
    "finally:\n",
    "    con.close() # 테이블의 필드 이름\n"
   ]
  },
  {
   "cell_type": "code",
   "execution_count": 17,
   "metadata": {
    "scrolled": true
   },
   "outputs": [
    {
     "name": "stdout",
     "output_type": "stream",
     "text": [
      "((2, '김만덕', 100, 99, 99, 298, 99.33, 'A', 'CH00000001'), (3, '고려인', 100, 99, 99, 298, 99.33, 'A', 'CH00000001'), (4, '종로구', 100, 80, 70, 250, 83.33, 'B', 'IC00000001'), (5, '전공사', 11, 22, 33, 66, 22.0, 'F', 'SE00000001'), (9, 'typhoon', 100, 100, 100, 300, 100.0, 'A', 'CH00000001'), (10, 'typhoon', 100, 100, 100, 300, 100.0, 'A', 'CH00000001'), (11, 'typhoon', 100, 100, 100, 300, 100.0, 'A', 'CH00000001'), (12, 'typhoon', 100, 100, 100, 300, 100.0, 'A', 'CH00000001'))\n"
     ]
    }
   ],
   "source": [
    "#stored procedure\n",
    "import pymysql\n",
    "#os 에서 할당 => 접속이 안됌\n",
    "con = pymysql.connect(host=\"192.168.0.106\", port=3306, user='root',\n",
    "                     passwd='1234acorn', db='sungjuk_test', charset='utf8', autocommit=True)\n",
    "person=(\"typhoon\", 100, 100, 100, 'CH00000001')\n",
    "try:\n",
    "    with con.cursor() as cur:\n",
    "        cur.callproc('student_select')\n",
    "        if(cur.rowcount):\n",
    "            print(cur.fetchall())\n",
    "finally:\n",
    "    con.close() # 테이블의 필드 이름\n",
    "    cur.close()"
   ]
  },
  {
   "cell_type": "code",
   "execution_count": 5,
   "metadata": {
    "scrolled": true
   },
   "outputs": [
    {
     "name": "stdout",
     "output_type": "stream",
     "text": [
      "0\n",
      "새로운 학생이 등록되었습니다\n"
     ]
    }
   ],
   "source": [
    "# student_insert에 데이터를 입력하시오\n",
    "import pymysql\n",
    "#os 에서 할당 => 접속이 안됌\n",
    "con = pymysql.connect(host=\"192.168.0.106\", port=3306, user='root',\n",
    "                     passwd='1234acorn', db='sungjuk_test', charset='utf8',\n",
    "                      cursorclass=pymysql.cursors.DictCursor, autocommit=True) \n",
    "                        # cursorclass=pymysql.cursors.DictCursor # 딕셔너리로 작동하게\n",
    "person=(\"에이콘\", 50, 50, 50, 'CH00000001', 0) # result = 0\n",
    "try:\n",
    "    with con.cursor() as cur:\n",
    "#         cur.callproc(\"student_insert(%s, %s, %s, %s, %s)\", (person[0], person[1], person[2], person[3], person[4]))\n",
    "#         cur.callproc(\"student_insert('에이콘', 50, 50, 50, 'CH00000001')\")\n",
    "        cur.callproc('student_insert', person)\n",
    "        cur.execute('select @_student_insert_5') # @ DB 사용자 정의 변수 # 5번째 데이터를 받아와라\n",
    "        result = cur.fetchone()\n",
    "        print(result['@_student_insert_5'])# 딕셔너리 형태로 데이터 확인\n",
    "        \n",
    "        print('새로운 학생이 등록되었습니다')\n",
    "finally:\n",
    "    con.close() # 테이블의 필드 이름\n",
    "    cur.close()"
   ]
  },
  {
   "cell_type": "code",
   "execution_count": 2,
   "metadata": {
    "scrolled": true
   },
   "outputs": [
    {
     "name": "stdout",
     "output_type": "stream",
     "text": [
      "0\n",
      "성공\n"
     ]
    }
   ],
   "source": [
    "# student_update를 호출해서 에이콘의 점수를 100, 90, 80점으로 수정\n",
    "import pymysql\n",
    "#os 에서 할당 => 접속이 안됌\n",
    "con = pymysql.connect(host=\"192.168.0.106\", port=3306, user='root',\n",
    "                     passwd='1234acorn', db='sungjuk_test', charset='utf8',\n",
    "                      cursorclass=pymysql.cursors.DictCursor, autocommit=True)\n",
    "person=(13, \"에이콘\", 10, 10, 10, 0) # result = 0\n",
    "try:\n",
    "    with con.cursor() as cur:\n",
    "        cur.callproc('student_update', person)\n",
    "        cur.execute('select @_student_update_5') # @ DB 사용자 정의 변수 # 5번째 데이터를 받아와라\n",
    "        result = cur.fetchone()\n",
    "        print(result['@_student_update_5'])# 딕셔너리 형태로 데이터 확인\n",
    "        if result['@_student_update_5'] == 2 :\n",
    "            print('수정할 이름이 없습니다')\n",
    "        elif result['@_student_update_5'] == -1 :\n",
    "            print('에러가 발생하였습니다')\n",
    "        elif result['@_student_update_5'] == 0 :\n",
    "            print('성공')\n",
    "        else:\n",
    "            print('알수없음')\n",
    "finally:\n",
    "    con.close() # 테이블의 필드 이름\n",
    "    cur.close()"
   ]
  },
  {
   "cell_type": "code",
   "execution_count": 9,
   "metadata": {},
   "outputs": [
    {
     "name": "stdout",
     "output_type": "stream",
     "text": [
      "0\n",
      "삭제 완료\n"
     ]
    }
   ],
   "source": [
    "#에이콘 삭제\n",
    "import pymysql\n",
    "#os 에서 할당 => 접속이 안됌\n",
    "con = pymysql.connect(host=\"192.168.0.106\", port=3306, user='root',\n",
    "                     passwd='1234acorn', db='sungjuk_test', charset='utf8',\n",
    "                      cursorclass=pymysql.cursors.DictCursor, autocommit=True)\n",
    "person=(\"typhoon\", 0) # result = 0\n",
    "try:\n",
    "    with con.cursor() as cur:\n",
    "        cur.callproc('student_delete', person)\n",
    "        cur.execute('select @_student_delete_1') # @ DB 사용자 정의 변수 # 1번째 데이터를 받아와라\n",
    "        result = cur.fetchone()\n",
    "        print(result['@_student_delete_1'])# 딕셔너리 형태로 데이터 확인\n",
    "        if result['@_student_delete_1'] == 2 :\n",
    "            print('삭제할 이름이 없습니다')\n",
    "        elif result['@_student_delete_1'] == 0 :\n",
    "            print('성공')\n",
    "        else:\n",
    "            print('알수없음')\n",
    "finally:\n",
    "    con.close() # 테이블의 필드 이름\n",
    "    cur.close()"
   ]
  },
  {
   "cell_type": "code",
   "execution_count": 39,
   "metadata": {},
   "outputs": [],
   "source": [
    "# 오후 코드\n",
    "import requests\n",
    "import pandas as pd\n",
    "from bs4 import BeautifulSoup\n",
    "class HTMLTablePaser:\n",
    "    def parse_url(self, url):\n",
    "        response = requests.get(url)\n",
    "        soup = BeautifulSoup(response.text, 'lxml')\n",
    "        return [(table('id'), self.parse_html_table(table)) for table in soup.find_all('table')]\n",
    "    \n",
    "    def parse_html_table(self, table):\n",
    "        n_columns = 0\n",
    "        n_rows = 0\n",
    "        column_names = []\n",
    "        for row in table.find_all('tr'): # 행\n",
    "            td_tags = row.find_all('td') # 열\n",
    "            if len(td_tags) > 0 :\n",
    "                n_rows += 1 #행누적\n",
    "                if n_columns == 0: # 처음인 경우\n",
    "                    # Set the number of columns for our table\n",
    "                    n_columns = len(td_tags)\n",
    "            th_tags = row.find_all('th')# 헤더 열 이름\n",
    "            if len(th_tags) > 0 and len(column_names) == 0:\n",
    "                for th in th_tags:\n",
    "                    column_names.append(th.get_text())\n",
    "                    \n",
    "        if len(column_names) > 0 and len(column_names) != n_columns:\n",
    "            raise Exception(\"컬럼 타이틀이 컬럼과 숫자가 맞지않음\")\n",
    "                \n",
    "        columns = column_names if len(column_names) > 0 else range(0, n_columns)\n",
    "        # pandas 데이터프레임\n",
    "        df = pd.DataFrame(columns=columns, index=range(0, n_rows))#공백\n",
    "        row_marker = 0 # 행을 확인하는것\n",
    "        for row in table.find_all('tr'):\n",
    "            column_marker = 0 # 열을 확인하는 변수\n",
    "            columns = row.find_all('td')\n",
    "            for column in columns:\n",
    "                df.iloc[row_marker, column_marker] = column.get_text()\n",
    "                #태그, 속성 ,텍스트\n",
    "                column_marker += 1\n",
    "                if len(columns) > 0:\n",
    "                    row_marker += 1\n",
    "            for col in df: #형변환\n",
    "                try: #문자 -> 숫자변경\n",
    "                    df[col] = df[col].astype(float)\n",
    "                except ValueError:\n",
    "                    pass\n",
    "            return df\n",
    "                "
   ]
  },
  {
   "cell_type": "code",
   "execution_count": 42,
   "metadata": {
    "scrolled": true
   },
   "outputs": [
    {
     "name": "stdout",
     "output_type": "stream",
     "text": [
      "[([],   Firstname Lastname             Email\n",
      "0      John      Doe  john@example.com\n",
      "1      Mary      Moe  mary@example.com\n",
      "2      July   Dooley  july@example.com), ([],   Firstname Lastname             Email\n",
      "0      John      Doe  john@example.com\n",
      "1      Mary      Moe  mary@example.com\n",
      "2      July   Dooley  july@example.com), ([],   Firstname Lastname             Email\n",
      "0      John      Doe  john@example.com\n",
      "1      Mary      Moe  mary@example.com\n",
      "2      July   Dooley  july@example.com), ([],   Firstname Lastname             Email\n",
      "0      John      Doe  john@example.com\n",
      "1      Mary      Moe  mary@example.com\n",
      "2      July   Dooley  july@example.com), ([],   Firstname Lastname             Email\n",
      "0      John      Doe  john@example.com\n",
      "1      Mary      Moe  mary@example.com\n",
      "2      July   Dooley  july@example.com), ([],   Firstname Lastname             Email\n",
      "0      John      Doe  john@example.com\n",
      "1      Mary      Moe  mary@example.com\n",
      "2      July   Dooley  july@example.com), ([],   Firstname Lastname             Email\n",
      "0      John      Doe  john@example.com\n",
      "1      Mary      Moe  mary@example.com\n",
      "2      July   Dooley  july@example.com), ([],   Firstname Lastname             Email\n",
      "0      John      Doe  john@example.com\n",
      "1      Mary      Moe  mary@example.com\n",
      "2      July   Dooley  july@example.com), ([],    Firstname    Lastname              Email\n",
      "0    Default  Defaultson   def@somemail.com\n",
      "1    Primary         Joe    joe@example.com\n",
      "2    Success         Doe   john@example.com\n",
      "3     Danger         Moe   mary@example.com\n",
      "4       Info      Dooley   july@example.com\n",
      "5    Warning        Refs     bo@example.com\n",
      "6     Active   Activeson    act@example.com\n",
      "7  Secondary   Secondson    sec@example.com\n",
      "8      Light       Angie  angie@example.com\n",
      "9       Dark          Bo     bo@example.com), ([],               Class                                        Description\n",
      "0    .table-primary                Blue: Indicates an important action\n",
      "1    .table-success   Green: Indicates a successful or positive action\n",
      "2     .table-danger  Red: Indicates a dangerous or potentially nega...\n",
      "3       .table-info  Light blue: Indicates a neutral informative ch...\n",
      "4    .table-warning  Orange: Indicates a warning that might need at...\n",
      "5     .table-active  Grey: Applies the hover color to the table row...\n",
      "6  .table-secondary   Grey: Indicates a slightly less important action\n",
      "7      .table-light           Light grey table or table row background\n",
      "8       .table-dark            Dark grey table or table row background), ([],   Firstname Lastname             Email\n",
      "0      John      Doe  john@example.com\n",
      "1      Mary      Moe  mary@example.com\n",
      "2      July   Dooley  july@example.com), ([],   Firstname Lastname             Email\n",
      "0      John      Doe  john@example.com\n",
      "1      Mary      Moe  mary@example.com\n",
      "2      July   Dooley  july@example.com), ([],   Firstname Lastname             Email\n",
      "0      John      Doe  john@example.com\n",
      "1      Mary      Moe  mary@example.com\n",
      "2      July   Dooley  july@example.com), ([],                   Class Screen width\n",
      "0  .table-responsive-sm      < 576px\n",
      "1  .table-responsive-md      < 768px\n",
      "2  .table-responsive-lg      < 992px\n",
      "3  .table-responsive-xl     < 1200px)]\n"
     ]
    }
   ],
   "source": [
    "import pprint\n",
    "import requests\n",
    "url=\"https://www.w3schools.com/bootstrap4/bootstrap_tables.asp\"\n",
    "hp=HTMLTableParser()\n",
    "# table=hp.parse_url(url)[0][1]\n",
    "table=hp.parse_url(url)\n",
    "print(table)\n",
    "\n"
   ]
  }
 ],
 "metadata": {
  "kernelspec": {
   "display_name": "Python 3",
   "language": "python",
   "name": "python3"
  },
  "language_info": {
   "codemirror_mode": {
    "name": "ipython",
    "version": 3
   },
   "file_extension": ".py",
   "mimetype": "text/x-python",
   "name": "python",
   "nbconvert_exporter": "python",
   "pygments_lexer": "ipython3",
   "version": "3.7.4"
  }
 },
 "nbformat": 4,
 "nbformat_minor": 4
}
