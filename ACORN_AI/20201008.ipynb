{
 "cells": [
  {
   "cell_type": "code",
   "execution_count": 42,
   "metadata": {
    "scrolled": false
   },
   "outputs": [
    {
     "name": "stdout",
     "output_type": "stream",
     "text": [
      "2,김만덕,100,99\n",
      "3,고려인,100,99\n",
      "4,종로구,100,80\n",
      "9,typhoon,100,100\n",
      "10,typhoon,100,100\n",
      "11,typhoon,100,100\n",
      "12,typhoon,100,100\n",
      "13,에이콘,50,50\n",
      "14,에이콘,50,50\n",
      "15,에이콘,50,50\n",
      "16,에이콘,50,50\n",
      "17,에이콘,50,50\n",
      "18,에이콘,50,50\n",
      "19,전공사,11,22\n",
      "<generator object <genexpr> at 0x000001C3907D8970>\n"
     ]
    }
   ],
   "source": [
    "# pip install pymysql\n",
    "import pymysql\n",
    "#os 에서 할당 => 접속이 안됌\n",
    "con = pymysql.connect(host=\"192.168.0.106\", port=3306, user='root',\n",
    "                     passwd='1234acorn', db='sungjuk_test', charset='utf8', autocommit=True)\n",
    "try:\n",
    "    with con.cursor() as cur:\n",
    "        cur.execute(\"select * from student\") # 명령실행\n",
    "        rows = cur.fetchall() # record set 생성, fetchone, fetchmany, fetchall\n",
    "#         rows = cur.fetchmany()\n",
    "        desc = cur.description\n",
    "        for row in rows: # 한 행식 => tuplae 형식으로 데이터 리턴\n",
    "            print(f'{row[0]},{row[1]},{row[2]},{row[3]}')\n",
    "finally:\n",
    "    con.close() # 테이블의 필드 이름\n",
    "print(i[0] for i in cur.description)\n",
    "                    "
   ]
  },
  {
   "cell_type": "code",
   "execution_count": 8,
   "metadata": {},
   "outputs": [
    {
     "name": "stdout",
     "output_type": "stream",
     "text": [
      "새로운 학생이 등록되었습니다\n"
     ]
    }
   ],
   "source": [
    "# pip install pymysql\n",
    "import pymysql\n",
    "#os 에서 할당 => 접속이 안됌\n",
    "con = pymysql.connect(host=\"192.168.0.106\", port=3306, user='root',\n",
    "                     passwd='1234acorn', db='sungjuk_test', charset='utf8', autocommit=True)\n",
    "person=(\"typhoon\", 100, 100, 100, 'CH00000001')\n",
    "try:\n",
    "    with con.cursor() as cur:\n",
    "        cur.execute(\"\"\"INSERT INTO student(name, kor, mat, eng, schoolcode)\n",
    "                    values(%s, %s, %s, %s, %s)\"\"\", # 명령실행\n",
    "        (person[0], person[1], person[2], person[3], person[4]))\n",
    "        con.commit()\n",
    "        print('새로운 학생이 등록되었습니다')\n",
    "finally:\n",
    "    con.close() # 테이블의 필드 이름\n"
   ]
  },
  {
   "cell_type": "code",
   "execution_count": 17,
   "metadata": {
    "scrolled": true
   },
   "outputs": [
    {
     "name": "stdout",
     "output_type": "stream",
     "text": [
      "((2, '김만덕', 100, 99, 99, 298, 99.33, 'A', 'CH00000001'), (3, '고려인', 100, 99, 99, 298, 99.33, 'A', 'CH00000001'), (4, '종로구', 100, 80, 70, 250, 83.33, 'B', 'IC00000001'), (5, '전공사', 11, 22, 33, 66, 22.0, 'F', 'SE00000001'), (9, 'typhoon', 100, 100, 100, 300, 100.0, 'A', 'CH00000001'), (10, 'typhoon', 100, 100, 100, 300, 100.0, 'A', 'CH00000001'), (11, 'typhoon', 100, 100, 100, 300, 100.0, 'A', 'CH00000001'), (12, 'typhoon', 100, 100, 100, 300, 100.0, 'A', 'CH00000001'))\n"
     ]
    }
   ],
   "source": [
    "#stored procedure\n",
    "# pip install pymysql\n",
    "import pymysql\n",
    "#os 에서 할당 => 접속이 안됌\n",
    "con = pymysql.connect(host=\"192.168.0.106\", port=3306, user='root',\n",
    "                     passwd='1234acorn', db='sungjuk_test', charset='utf8', autocommit=True)\n",
    "person=(\"typhoon\", 100, 100, 100, 'CH00000001')\n",
    "try:\n",
    "    with con.cursor() as cur:\n",
    "        cur.callproc('student_select')\n",
    "        if(cur.rowcount):\n",
    "            print(cur.fetchall())\n",
    "finally:\n",
    "    con.close() # 테이블의 필드 이름\n",
    "    cur.close()"
   ]
  },
  {
   "cell_type": "code",
   "execution_count": 5,
   "metadata": {
    "scrolled": true
   },
   "outputs": [
    {
     "name": "stdout",
     "output_type": "stream",
     "text": [
      "0\n",
      "새로운 학생이 등록되었습니다\n"
     ]
    }
   ],
   "source": [
    "# student_insert에 데이터를 입력하시오\n",
    "import pymysql\n",
    "#os 에서 할당 => 접속이 안됌\n",
    "con = pymysql.connect(host=\"192.168.0.106\", port=3306, user='root',\n",
    "                     passwd='1234acorn', db='sungjuk_test', charset='utf8',\n",
    "                      cursorclass=pymysql.cursors.DictCursor, autocommit=True)\n",
    "person=(\"에이콘\", 50, 50, 50, 'CH00000001', 0) # result = 0\n",
    "try:\n",
    "    with con.cursor() as cur:\n",
    "#         cur.callproc(\"student_insert(%s, %s, %s, %s, %s)\", (person[0], person[1], person[2], person[3], person[4]))\n",
    "#         cur.callproc(\"student_insert('에이콘', 50, 50, 50, 'CH00000001')\")\n",
    "        cur.callproc('student_insert', person)\n",
    "        cur.execute('select @_student_insert_5') # @ DB 사용자 정의 변수 # 5번째 데이터를 받아와라\n",
    "        result = cur.fetchone()\n",
    "        print(result['@_student_insert_5'])# 딕셔너리 형대로 데이터 확인\n",
    "        \n",
    "        print('새로운 학생이 등록되었습니다')\n",
    "finally:\n",
    "    con.close() # 테이블의 필드 이름\n",
    "    cur.close()"
   ]
  },
  {
   "cell_type": "code",
   "execution_count": 2,
   "metadata": {
    "scrolled": true
   },
   "outputs": [
    {
     "name": "stdout",
     "output_type": "stream",
     "text": [
      "0\n",
      "성공\n"
     ]
    }
   ],
   "source": [
    "# student_update를 호출해서 에이콘의 점수를 100, 90, 80점으로 수정\n",
    "import pymysql\n",
    "#os 에서 할당 => 접속이 안됌\n",
    "con = pymysql.connect(host=\"192.168.0.106\", port=3306, user='root',\n",
    "                     passwd='1234acorn', db='sungjuk_test', charset='utf8',\n",
    "                      cursorclass=pymysql.cursors.DictCursor, autocommit=True)\n",
    "person=(13, \"에이콘\", 10, 10, 10, 0) # result = 0\n",
    "try:\n",
    "    with con.cursor() as cur:\n",
    "        cur.callproc('student_update', person)\n",
    "        cur.execute('select @_student_update_5') # @ DB 사용자 정의 변수 # 5번째 데이터를 받아와라\n",
    "        result = cur.fetchone()\n",
    "        print(result['@_student_update_5'])# 딕셔너리 형대로 데이터 확인\n",
    "        if result['@_student_update_5'] == 2 :\n",
    "            print('수정할 이름이 없습니다')\n",
    "        elif result['@_student_update_5'] == -1 :\n",
    "            print('에러가 발생하였습니다')\n",
    "        elif result['@_student_update_5'] == 0 :\n",
    "            print('성공')\n",
    "        else:\n",
    "            print('알수없음')\n",
    "finally:\n",
    "    con.close() # 테이블의 필드 이름\n",
    "    cur.close()"
   ]
  },
  {
   "cell_type": "code",
   "execution_count": 9,
   "metadata": {},
   "outputs": [
    {
     "name": "stdout",
     "output_type": "stream",
     "text": [
      "0\n",
      "삭제 완료\n"
     ]
    }
   ],
   "source": [
    "#에이콘 삭제\n",
    "import pymysql\n",
    "#os 에서 할당 => 접속이 안됌\n",
    "con = pymysql.connect(host=\"192.168.0.106\", port=3306, user='root',\n",
    "                     passwd='1234acorn', db='sungjuk_test', charset='utf8',\n",
    "                      cursorclass=pymysql.cursors.DictCursor, autocommit=True)\n",
    "person=(\"typhoon\", 0) # result = 0\n",
    "try:\n",
    "    with con.cursor() as cur:\n",
    "        cur.callproc('student_delete', person)\n",
    "        cur.execute('select @_student_delete_1') # @ DB 사용자 정의 변수 # 1번째 데이터를 받아와라\n",
    "        result = cur.fetchone()\n",
    "        print(result['@_student_delete_1'])# 딕셔너리 형대로 데이터 확인\n",
    "        if result['@_student_delete_1'] == 2 :\n",
    "            print('삭제할 이름이 없습니다')\n",
    "        elif result['@_student_delete_1'] == 0 :\n",
    "            print('성공')\n",
    "        else:\n",
    "            print('알수없음')\n",
    "finally:\n",
    "    con.close() # 테이블의 필드 이름\n",
    "    cur.close()"
   ]
  }
 ],
 "metadata": {
  "kernelspec": {
   "display_name": "Python 3",
   "language": "python",
   "name": "python3"
  },
  "language_info": {
   "codemirror_mode": {
    "name": "ipython",
    "version": 3
   },
   "file_extension": ".py",
   "mimetype": "text/x-python",
   "name": "python",
   "nbconvert_exporter": "python",
   "pygments_lexer": "ipython3",
   "version": "3.8.3"
  }
 },
 "nbformat": 4,
 "nbformat_minor": 4
}
