{
 "cells": [
  {
   "cell_type": "code",
   "execution_count": 3,
   "metadata": {},
   "outputs": [
    {
     "data": {
      "text/plain": [
       "array([0.5, 0.5])"
      ]
     },
     "execution_count": 3,
     "metadata": {},
     "output_type": "execute_result"
    }
   ],
   "source": [
    "# scikits 중 머신러닝 담당: sklearn\n",
    "from sklearn import linear_model\n",
    "reg = linear_model.LinearRegression(n_jobs=-1) # 모델 인스턴스, n_jobs 파라미터는 cpu코어 사용개수 의미 , -1은 전부사용\n",
    "reg.fit([[0, 0], [1, 1], [2, 2]], [0, 1, 2]) # 회귀 , 최소제곱법으로 기울기, 절편 구함 \n",
    "reg.coef_ # sklearn메서드 리턴 메서드에 _붙음\n",
    "\n",
    "# OLM(ordinary(평범한) linear model, 일반적인 최소제곱법)을 대비한 GLM(general(일반화) lm) : 정규성을 띄지 않은 데이터에 사용\n"
   ]
  },
  {
   "cell_type": "code",
   "execution_count": 7,
   "metadata": {},
   "outputs": [
    {
     "name": "stdout",
     "output_type": "stream",
     "text": [
      "x의 평균값: 5.0\n",
      "y의 평균값: 90.5\n",
      "분모 20.0\n",
      "분자 46.0\n",
      "기울기 a = 2.3\n",
      "y 절편 b = 79.0\n"
     ]
    }
   ],
   "source": [
    "#분류 예측\n",
    "\"\"\"\n",
    "a=sum((x-xbar)*(y-ybar)) / sum((x-xbar)^2) # 공식 위부분-상관계수를 내는 공식 / 분산\n",
    "\n",
    "b=ybar-(xbar*a)\n",
    "                                                \n",
    "\"\"\"\n",
    "import numpy as np\n",
    "x=[2, 4, 6, 8]\n",
    "y=[81, 93, 91, 97]\n",
    "# y = ax + b\n",
    "mx=np.mean(x)\n",
    "my=np.mean(y)\n",
    "print(\"x의 평균값:\", mx)\n",
    "print(\"y의 평균값:\", my)\n",
    "\n",
    "divisor = sum([(i-mx)**2 for i in x])\n",
    "def top(x, mx, y, my):\n",
    "    d=0\n",
    "    for i in range(len(x)):\n",
    "        d+=(x[i] - mx) * (y[i] - my) # 누적합 d=d+(x[i]-mx)*(y[i]-my)\n",
    "    return d\n",
    "dividend  = top(x, mx, y ,my)\n",
    "print('분모', divisor)\n",
    "print('분자', dividend)\n",
    "a = dividend/divisor\n",
    "b = my - (mx*a)\n",
    "print('기울기 a =', a)\n",
    "print('y 절편 b =', b)\n",
    "    "
   ]
  },
  {
   "cell_type": "code",
   "execution_count": 9,
   "metadata": {
    "scrolled": true
   },
   "outputs": [
    {
     "name": "stderr",
     "output_type": "stream",
     "text": [
      "<ipython-input-9-c25bc15ca3b5>:6: FutureWarning: `rcond` parameter will change to the default of machine precision times ``max(M, N)`` where M and N are the input matrix dimensions.\n",
      "To use the future default and silence this warning we advise to pass `rcond=None`, to keep using the old, explicitly pass `rcond=-1`.\n",
      "  w = np.linalg.lstsq(A.T, y)[0]\n"
     ]
    },
    {
     "data": {
      "image/png": "[encoded data removed]",
      "text/plain": [
       "<Figure size 432x288 with 1 Axes>"
      ]
     },
     "metadata": {
      "needs_background": "light"
     },
     "output_type": "display_data"
    }
   ],
   "source": [
    "import numpy as np\n",
    "import matplotlib.pyplot as plt\n",
    "x = np.arange(0, 9)\n",
    "A = np.array([x, np.ones(9)])\n",
    "y = [19, 20, 20.5, 21.5, 22, 23, 23, 25.5, 24]\n",
    "w = np.linalg.lstsq(A.T, y)[0] # 최소 제곱법\n",
    "line = w[0]*x+w[1] # 기울기, 절편\n",
    "plt.plot(x, line, 'r-')\n",
    "plt.plot(x, y, 'o')\n",
    "plt.show()"
   ]
  },
  {
   "cell_type": "code",
   "execution_count": 27,
   "metadata": {},
   "outputs": [
    {
     "name": "stdout",
     "output_type": "stream",
     "text": [
      "<bound method NDFrame.head of         CRIM    ZN  INDUS  CHAS    NOX     RM   AGE     DIS  RAD    TAX  PTRATIO       B  LSTAT\n",
      "0    0.00632  18.0   2.31   0.0  0.538  6.575  65.2  4.0900  1.0  296.0     15.3  396.90   4.98\n",
      "1    0.02731   0.0   7.07   0.0  0.469  6.421  78.9  4.9671  2.0  242.0     17.8  396.90   9.14\n",
      "2    0.02729   0.0   7.07   0.0  0.469  7.185  61.1  4.9671  2.0  242.0     17.8  392.83   4.03\n",
      "3    0.03237   0.0   2.18   0.0  0.458  6.998  45.8  6.0622  3.0  222.0     18.7  394.63   2.94\n",
      "4    0.06905   0.0   2.18   0.0  0.458  7.147  54.2  6.0622  3.0  222.0     18.7  396.90   5.33\n",
      "..       ...   ...    ...   ...    ...    ...   ...     ...  ...    ...      ...     ...    ...\n",
      "501  0.06263   0.0  11.93   0.0  0.573  6.593  69.1  2.4786  1.0  273.0     21.0  391.99   9.67\n",
      "502  0.04527   0.0  11.93   0.0  0.573  6.120  76.7  2.2875  1.0  273.0     21.0  396.90   9.08\n",
      "503  0.06076   0.0  11.93   0.0  0.573  6.976  91.0  2.1675  1.0  273.0     21.0  396.90   5.64\n",
      "504  0.10959   0.0  11.93   0.0  0.573  6.794  89.3  2.3889  1.0  273.0     21.0  393.45   6.48\n",
      "505  0.04741   0.0  11.93   0.0  0.573  6.030  80.8  2.5050  1.0  273.0     21.0  396.90   7.88\n",
      "\n",
      "[506 rows x 13 columns]>\n"
     ]
    },
    {
     "data": {
      "text/html": [
       "<div>\n",
       "<style scoped>\n",
       "    .dataframe tbody tr th:only-of-type {\n",
       "        vertical-align: middle;\n",
       "    }\n",
       "\n",
       "    .dataframe tbody tr th {\n",
       "        vertical-align: top;\n",
       "    }\n",
       "\n",
       "    .dataframe thead th {\n",
       "        text-align: right;\n",
       "    }\n",
       "</style>\n",
       "<table border=\"1\" class=\"dataframe\">\n",
       "  <thead>\n",
       "    <tr style=\"text-align: right;\">\n",
       "      <th></th>\n",
       "      <th>MEDV</th>\n",
       "    </tr>\n",
       "  </thead>\n",
       "  <tbody>\n",
       "    <tr>\n",
       "      <th>0</th>\n",
       "      <td>24.0</td>\n",
       "    </tr>\n",
       "    <tr>\n",
       "      <th>1</th>\n",
       "      <td>21.6</td>\n",
       "    </tr>\n",
       "    <tr>\n",
       "      <th>2</th>\n",
       "      <td>34.7</td>\n",
       "    </tr>\n",
       "    <tr>\n",
       "      <th>3</th>\n",
       "      <td>33.4</td>\n",
       "    </tr>\n",
       "    <tr>\n",
       "      <th>4</th>\n",
       "      <td>36.2</td>\n",
       "    </tr>\n",
       "  </tbody>\n",
       "</table>\n",
       "</div>"
      ],
      "text/plain": [
       "   MEDV\n",
       "0  24.0\n",
       "1  21.6\n",
       "2  34.7\n",
       "3  33.4\n",
       "4  36.2"
      ]
     },
     "execution_count": 27,
     "metadata": {},
     "output_type": "execute_result"
    }
   ],
   "source": [
    "#보스턴 집값 예측\n",
    "from sklearn.linear_model import LinearRegression\n",
    "from sklearn.datasets import load_boston # Bunch => 분석을 위해 데이터프레임으로 변환\n",
    "import matplotlib.pyplot as plt\n",
    "import pandas as pd\n",
    "boston = load_boston()\n",
    "# data : 독립변수\n",
    "# target : 종속변수\n",
    "# feature_names : 변수 이름\n",
    "# DESCR : 설명\n",
    "dfx = pd.DataFrame(boston.data, columns=boston.feature_names) # 독립변수\n",
    "dfy = pd.DataFrame(boston.target, columns=[\"MEDV\"]) # 종속변수\n",
    "print(dfx.head)\n",
    "dfy.head()"
   ]
  },
  {
   "cell_type": "code",
   "execution_count": 19,
   "metadata": {},
   "outputs": [
    {
     "name": "stdout",
     "output_type": "stream",
     "text": [
      ".. _boston_dataset:\n",
      "\n",
      "Boston house prices dataset\n",
      "---------------------------\n",
      "\n",
      "**Data Set Characteristics:**  \n",
      "\n",
      "    :Number of Instances: 506 \n",
      "\n",
      "    :Number of Attributes: 13 numeric/categorical predictive. Median Value (attribute 14) is usually the target.\n",
      "\n",
      "    :Attribute Information (in order):\n",
      "        - CRIM     per capita crime rate by town\n",
      "        - ZN       proportion of residential land zoned for lots over 25,000 sq.ft.\n",
      "        - INDUS    proportion of non-retail business acres per town\n",
      "        - CHAS     Charles River dummy variable (= 1 if tract bounds river; 0 otherwise)\n",
      "        - NOX      nitric oxides concentration (parts per 10 million)\n",
      "        - RM       average number of rooms per dwelling\n",
      "        - AGE      proportion of owner-occupied units built prior to 1940\n",
      "        - DIS      weighted distances to five Boston employment centres\n",
      "        - RAD      index of accessibility to radial highways\n",
      "        - TAX      full-value property-tax rate per $10,000\n",
      "        - PTRATIO  pupil-teacher ratio by town\n",
      "        - B        1000(Bk - 0.63)^2 where Bk is the proportion of blacks by town\n",
      "        - LSTAT    % lower status of the population\n",
      "        - MEDV     Median value of owner-occupied homes in $1000's\n",
      "\n",
      "    :Missing Attribute Values: None\n",
      "\n",
      "    :Creator: Harrison, D. and Rubinfeld, D.L.\n",
      "\n",
      "This is a copy of UCI ML housing dataset.\n",
      "https://archive.ics.uci.edu/ml/machine-learning-databases/housing/\n",
      "\n",
      "\n",
      "This dataset was taken from the StatLib library which is maintained at Carnegie Mellon University.\n",
      "\n",
      "The Boston house-price data of Harrison, D. and Rubinfeld, D.L. 'Hedonic\n",
      "prices and the demand for clean air', J. Environ. Economics & Management,\n",
      "vol.5, 81-102, 1978.   Used in Belsley, Kuh & Welsch, 'Regression diagnostics\n",
      "...', Wiley, 1980.   N.B. Various transformations are used in the table on\n",
      "pages 244-261 of the latter.\n",
      "\n",
      "The Boston house-price data has been used in many machine learning papers that address regression\n",
      "problems.   \n",
      "     \n",
      ".. topic:: References\n",
      "\n",
      "   - Belsley, Kuh & Welsch, 'Regression diagnostics: Identifying Influential Data and Sources of Collinearity', Wiley, 1980. 244-261.\n",
      "   - Quinlan,R. (1993). Combining Instance-Based and Model-Based Learning. In Proceedings on the Tenth International Conference of Machine Learning, 236-243, University of Massachusetts, Amherst. Morgan Kaufmann.\n",
      "\n"
     ]
    }
   ],
   "source": [
    "type(boston)\n",
    "print(boston.DESCR)"
   ]
  },
  {
   "cell_type": "code",
   "execution_count": 197,
   "metadata": {},
   "outputs": [
    {
     "name": "stdout",
     "output_type": "stream",
     "text": [
      "\n",
      "[-1.08011358e-01  4.64204584e-02  2.05586264e-02  2.68673382e+00\n",
      " -1.77666112e+01  3.80986521e+00  6.92224640e-04 -1.47556685e+00\n",
      "  3.06049479e-01 -1.23345939e-02 -9.52747232e-01  9.31168327e-03\n",
      " -5.24758378e-01]\n",
      "\n",
      "['CRIM' 'ZN' 'INDUS' 'CHAS' 'NOX' 'RM' 'AGE' 'DIS' 'RAD' 'TAX' 'PTRATIO'\n",
      " 'B' 'LSTAT']\n",
      "\n",
      "36.459488385089855\n"
     ]
    }
   ],
   "source": [
    "model_boston = LinearRegression().fit(boston.data, boston.target) # 독립변수, 종속변수\n",
    "type(boston)\n",
    "print()\n",
    "print(model_boston.coef_) # 갯수 : _붙으면 갯수\n",
    "print()\n",
    "print(boston.feature_names)\n",
    "print()\n",
    "print(model_boston.intercept_) # 절편"
   ]
  },
  {
   "cell_type": "code",
   "execution_count": 88,
   "metadata": {
    "scrolled": true
   },
   "outputs": [
    {
     "data": {
      "image/png": "[encoded data removed]",
      "text/plain": [
       "<Figure size 432x288 with 1 Axes>"
      ]
     },
     "metadata": {
      "needs_background": "light"
     },
     "output_type": "display_data"
    }
   ],
   "source": [
    "predictions = model_boston.predict(boston.data) #예측값\n",
    "plt.scatter(boston.target, predictions)\n",
    "plt.xlabel(u\"실제집값\")\n",
    "plt.ylabel(u\"집값예측치\")\n",
    "plt.title(\"집값 예측치와 실제 집값의 관계\")\n",
    "plt.show()"
   ]
  },
  {
   "cell_type": "code",
   "execution_count": 25,
   "metadata": {},
   "outputs": [
    {
     "name": "stdout",
     "output_type": "stream",
     "text": [
      "[ 6.00384338e+00  3.42556238e+00 -4.13240328e+00 -4.79296351e+00\n",
      " -8.25647577e+00 -3.44371554e+00  1.01808268e-01 -7.56401157e+00\n",
      " -4.97636315e+00  2.02621071e-02  3.99949651e+00  2.68679568e+00\n",
      " -7.93478472e-01 -8.47097189e-01  1.08348205e+00 -6.02516792e-01\n",
      " -2.57249021e+00 -5.88598653e-01 -4.02198894e+00  2.06136033e-01\n",
      " -1.07614247e+00 -1.92896331e+00  6.32881292e-01 -6.93714654e-01\n",
      "  7.83383155e-02 -5.13314391e-01 -1.13602345e+00 -9.15257194e-02\n",
      "  1.14737285e+00 -1.23571798e-01 -1.24488241e+00  3.55923295e+00\n",
      " -4.38894264e+00  1.18275814e+00  2.06758913e-01  4.91463526e+00\n",
      "  2.34193708e+00  2.10891142e+00 -1.78497388e+00  5.57625688e-01\n",
      " -6.84897746e-01  1.42056414e+00 -9.61337195e-02 -9.02072745e-02\n",
      "  1.74149176e+00  2.79669817e+00  4.23200323e-01  1.43655088e+00\n",
      " -5.29344623e+00 -2.19392249e+00  1.58152535e+00  3.47222285e+00\n",
      "  2.65585080e+00  6.49018091e-01 -3.53815230e+00 -4.24735053e+00\n",
      "  1.56869782e-01  1.50919806e+00 -1.52462013e+00  1.48493555e+00\n",
      " -8.27419603e-01  2.51110208e+00  1.78742856e+00 -2.44591131e+00\n",
      " -9.62691356e+00  6.86148358e+00  6.13056512e+00 -8.86614358e-01\n",
      "  2.15378565e-02 -1.15163673e-01  1.00148859e+00  4.26577045e-02\n",
      "  1.75744957e+00  6.42957120e-01  1.40499716e+00  2.56693020e+00\n",
      "  2.94545403e+00  2.55699818e+00  6.19826623e-02  2.12817373e+00\n",
      "  4.05769682e-01  3.09486086e+00  1.23576297e+00  2.15873482e+00\n",
      "  8.84566738e-01  1.19049195e+00 -3.31465769e-01  3.69276415e+00\n",
      "  7.07461827e+00  2.13110623e+00  4.51901940e+00  5.41266734e+00\n",
      "  6.04122762e+00  4.08105546e+00  6.43977365e+00  2.24599485e-01\n",
      "  3.32744978e+00 -2.91840482e+00 -8.68545413e+00 -9.48971987e-01\n",
      " -2.91977981e+00 -9.05865254e-01  1.19013684e+00  1.01167129e+00\n",
      "  1.33482591e+00 -9.60059918e-01 -2.31244008e+00  3.50490259e-01\n",
      "  2.84829115e+00  3.72036695e-01 -1.05034136e+00  3.72586744e+00\n",
      "  1.97323638e+00  2.01548315e+00  6.67208881e+00  2.13025591e+00\n",
      "  2.17724626e+00  4.49043261e+00 -6.42163574e-02  1.49180873e+00\n",
      " -8.36792895e-02  2.17107777e+00  5.73855585e-02 -9.33380226e-01\n",
      "  1.76099819e+00  1.08178446e+00 -1.08293367e+00 -1.02123316e+00\n",
      "  9.38685924e-01 -2.44267149e-01  8.35273989e-01 -1.89865979e-01\n",
      " -2.93808434e+00 -2.64192327e+00 -2.34354762e+00 -8.37222650e-01\n",
      " -1.52158117e+00  2.26163954e+00  5.14838967e-01 -1.35118525e+00\n",
      " -4.28580681e-01 -1.04111449e+01  1.19495478e+00 -3.45118520e+00\n",
      " -3.07177638e+00 -1.76414657e+00  2.20820580e-01 -6.08500980e+00\n",
      " -8.08155861e+00 -5.95486263e-01 -6.61418471e-01 -1.29898831e+00\n",
      "  4.82282558e+00 -2.11398106e+00  5.36600228e+00  4.50375923e+00\n",
      "  5.21258907e-01 -8.04017303e+00  4.73017268e+00  2.26752769e+00\n",
      "  5.70827666e+00 -1.32253299e+01 -9.44234156e+00 -8.15271832e+00\n",
      "  2.08867379e+00  3.78892378e-01 -1.27965255e+01 -7.12512527e-01\n",
      "  2.60273955e+00  4.35382114e+00  5.15514660e+00  5.19082812e+00\n",
      " -1.23427810e-01  5.47194308e+00  3.92194340e+00  1.32209056e+00\n",
      "  2.41669307e+00  4.53740979e+00  1.53571968e+00 -4.27768432e+00\n",
      " -5.07559536e+00 -8.43447889e+00 -4.01212679e+00 -1.50761964e+00\n",
      " -3.68179992e+00 -4.83352190e+00 -1.41150277e+01  1.42476722e+00\n",
      "  2.61199147e+00 -3.84900507e-01 -6.23890515e+00 -2.10658593e-01\n",
      " -3.48081286e+00  1.01260771e+00  2.45871004e+00 -9.15444279e+00\n",
      "  2.82770079e+00  2.36920810e+00  1.04691164e-01 -4.80654838e+00\n",
      " -2.25606094e+00  5.18719501e+00 -5.22851608e+00 -6.46806876e+00\n",
      " -6.81050156e+00  9.03479638e-02 -7.17152885e-01 -4.64552786e+00\n",
      " -9.05710080e-01 -2.99412282e+00  6.92510964e-01 -2.23957246e+00\n",
      "  3.38929215e-01 -2.88057446e+00 -1.25808326e+01 -4.89508521e-01\n",
      "  3.30334775e+00 -3.44812873e-01  3.41525464e+00  6.68652768e+00\n",
      "  6.48419746e+00  2.07456656e+00  4.64051958e+00 -3.54180104e-01\n",
      " -6.42897547e+00 -1.01853813e+01 -1.39424503e-02  7.99532503e-01\n",
      " -1.12433476e+01 -2.65884883e-01  1.84492269e-01  1.58837292e+00\n",
      " -3.65189520e+00 -1.11367137e+01  2.71383523e+00  1.26705571e+00\n",
      "  5.00010745e+00  1.21987156e+00  4.72717057e+00  5.12940678e+00\n",
      "  5.29375938e+00  3.64262478e+00  1.92007891e+00  3.70208414e+00\n",
      " -1.27142440e+00 -5.10108739e+00 -4.28361225e+00 -6.38155722e-01\n",
      " -3.21168690e+00 -2.12010850e+00 -1.93664530e-01  2.42158213e-01\n",
      " -4.68035993e+00 -1.28543663e+01  2.07228316e+00  7.95808866e-01\n",
      " -6.48890761e+00 -6.69760957e+00  4.83614206e-01  4.88988594e+00\n",
      "  1.01211508e+00 -5.93368669e+00 -7.81071499e+00  3.44634089e+00\n",
      " -6.66024531e-01  5.44574300e+00  5.26735926e-01 -9.16044250e+00\n",
      " -4.18207607e+00  5.00817905e+00  1.20295533e+00  2.00340972e+00\n",
      "  4.11169472e+00  2.76765982e-01  3.70639164e+00  1.79668274e+00\n",
      "  2.41085858e+00  1.73993382e+00  1.25192656e+00  2.09807009e-01\n",
      " -6.60243034e+00 -1.06876814e+00 -5.66036925e+00 -5.32691661e+00\n",
      " -6.03109145e-01  5.35659230e+00  1.74154101e-03  3.84206674e+00\n",
      "  4.91364580e+00  2.11395839e+00  4.93563311e+00 -2.89650367e+00\n",
      "  3.93339820e+00  1.91783237e+00  2.72982348e+00 -1.42356632e-01\n",
      "  2.62669985e-01 -7.60712419e-01  6.61309844e+00  2.91054611e+00\n",
      "  5.97159449e+00  6.94275871e+00  2.48191022e+00 -3.01127681e-01\n",
      " -2.89094544e+00  2.36831792e+00  2.16226857e+00  4.50905124e+00\n",
      "  5.84244237e+00  3.28965827e+00  2.44266897e+00  4.77889843e+00\n",
      "  3.88133979e+00  3.94580246e+00  1.68120057e+00  4.33909901e+00\n",
      " -1.84274272e-01 -1.42418314e+00  1.19070277e+00  3.25290392e-01\n",
      "  1.08682244e+00  1.76937282e+00  2.46952447e+00  9.51237906e-01\n",
      "  1.17834011e-01  6.78691323e-02  6.80761771e-01 -2.85910384e+00\n",
      "  1.87418105e+00  1.65249073e+00  1.79260894e+00  2.88446605e+00\n",
      "  3.93888000e+00 -5.93930750e-02  8.55099290e-01 -4.81270932e-01\n",
      "  6.60971763e-01  7.84903873e-01  1.56672320e+00  2.24965774e+00\n",
      "  2.72939305e+00 -2.37211204e+00  5.54734975e+00  3.80647912e+00\n",
      " -2.65205883e+00 -9.54988786e-01 -2.41640359e+00  2.17380082e+00\n",
      "  3.04205117e+00 -4.45162438e+00 -2.44055905e+00 -3.55394577e+00\n",
      " -1.71936173e+00 -4.69746494e+00 -3.87513368e+00 -4.00511538e+00\n",
      "  1.83704691e+00  1.01806607e+00 -4.97811132e-01 -3.39451943e+00\n",
      " -2.33383895e+00 -9.68073818e-01 -2.57153196e+00  3.43150811e+00\n",
      "  1.55944739e+01 -1.32180927e+01 -6.35713752e+00 -1.22683768e+01\n",
      " -2.61992710e+01 -1.73559264e+01 -1.53931596e+01 -2.50566867e+01\n",
      " -2.40001909e+01 -7.67367500e+00 -1.30222019e+01  1.03071306e+01\n",
      "  3.84061065e+00  6.93274414e+00  2.73331301e+00  6.63512587e+00\n",
      "  3.96994825e+00  7.57682833e+00  2.12768280e+00  7.61775118e-01\n",
      " -5.52081884e+00  8.60221708e-01 -4.37157804e+00 -1.78135190e+00\n",
      " -3.74801430e+00  2.70764735e+00  2.11225183e+00 -5.90112735e+00\n",
      "  1.91166432e-01  6.42124193e+00  5.24181175e+00  7.20445783e+00\n",
      "  6.79559075e+00  7.83632779e+00  1.55162319e+00  4.59016778e+00\n",
      "  6.28145871e+00  1.06117451e+01  6.16126587e+00  4.67948781e+00\n",
      " -1.12183639e+00  3.21115861e+00 -3.83373807e+00 -7.91705214e+00\n",
      " -3.49243631e+00 -7.64731546e+00  2.23082977e-01 -2.39280190e-01\n",
      " -1.61814819e+01 -4.49421613e+00 -1.12813107e+01  2.38376737e+00\n",
      "  5.86660811e+00 -3.50437637e+00 -2.65220148e+00  6.20661794e+00\n",
      "  2.90002670e+00  3.92427476e+00 -2.27822868e+00 -2.24713895e-01\n",
      "  2.92617624e+00  1.62374976e+00  6.14590647e+00  3.17519426e+00\n",
      "  3.25756243e+00  3.54234787e+00  3.65955693e+00  4.59554354e+00\n",
      "  5.42728300e+00  2.73141861e+00  4.26090435e+00 -3.85838929e-02\n",
      "  4.92079384e+00  1.19760054e-01 -3.53248898e+00  2.65913130e-01\n",
      "  2.20609699e+00  1.95580592e-01  3.40485002e-01  2.65901029e+00\n",
      "  7.14746834e-01  1.74003587e-01  2.78344618e+00  5.52695239e+00\n",
      "  3.41834650e+00  4.22742507e+00  3.12271631e+00  4.21291095e+00\n",
      "  2.48215236e+00  4.68944791e+00  3.80001330e-01  1.72089335e+00\n",
      " -1.27441868e-02 -6.23662098e-01  2.28668531e+00 -1.48752391e+00\n",
      "  2.64860533e+00  2.47208927e+00  2.74073197e-01  2.22940768e+00\n",
      " -1.08088146e+00 -2.01383747e+00 -4.62521477e+00 -2.15223149e+00\n",
      " -2.11594238e+00 -1.51161603e+00  2.67194411e-01  3.37718032e+00\n",
      " -7.44192736e-01 -4.22175373e+00  2.59147632e+00  2.81146280e+00\n",
      "  3.83481600e+00 -4.57272618e-01  4.60496304e+00  4.62763906e-01\n",
      "  4.68788663e-01  3.39887315e+00  3.56994302e+00 -7.16012169e-01\n",
      " -1.14483804e+00  1.02225914e+00  5.55919608e-01  7.25361044e-01\n",
      " -3.34416283e+00  1.22386687e+00 -4.43600328e+00  1.59085382e-01\n",
      " -4.16881455e+00 -1.17337946e+00 -3.88750586e+00 -6.21458036e+00\n",
      " -5.68679213e+00  8.08541439e-01  9.80517444e-02  9.54988409e-01\n",
      "  3.66870847e+00  1.13334055e+00  1.77571892e+00  3.72742610e+00\n",
      "  4.12796681e+00  1.04442123e+01]\n"
     ]
    }
   ],
   "source": [
    "#문제 예측값과 실제값의 차를 출력하시오\n",
    "print(predictions - boston.target)\n"
   ]
  },
  {
   "cell_type": "code",
   "execution_count": null,
   "metadata": {},
   "outputs": [],
   "source": [
    "\"\"\"\n",
    "Ridge = linear regression + regularization 규제\n",
    "-다중공선성으로 인한 과적합 방지\n",
    "-규제의 강도를 조절하는 매개변수가 alpha\n",
    "-하이퍼 파라메터\n",
    "\"\"\""
   ]
  },
  {
   "cell_type": "code",
   "execution_count": 50,
   "metadata": {},
   "outputs": [
    {
     "name": "stdout",
     "output_type": "stream",
     "text": [
      "훈련 세트 점수 : 0.75\n",
      "테스트 세트 점수 : 0.73\n"
     ]
    }
   ],
   "source": [
    "from sklearn.linear_model import Ridge\n",
    "from sklearn.linear_model import Lasso\n",
    "from sklearn.datasets import load_breast_cancer\n",
    "from sklearn.model_selection import train_test_split\n",
    "cancer = load_breast_cancer()\n",
    "\n",
    "X_train, X_test, y_train, y_test = train_test_split(cancer.data, cancer.target, stratify=cancer.target, random_state=42)\n",
    "#train test 추출\n",
    "#stratify 층화분리 (데이터의 Y값이 치우치지 않게)\n",
    "#random_state 의사난수 : 값을 주면 같은 값이 나옴\n",
    "\n",
    "ridge = Ridge(alpha=1).fit(X_train, y_train) # 튜닝\n",
    "#ridge fitting된 모델 생성\n",
    "\n",
    "# R^2 : 독립변수가 종속변수를 설명하는 정도 : 설명력\n",
    "print(\"훈련 세트 점수 : {:.2f}\".format(ridge.score(X_train, y_train))) # 성공률 75%\n",
    "print(\"테스트 세트 점수 : {:.2f}\".format(ridge.score(X_test, y_test))) # 성공률 73%"
   ]
  },
  {
   "cell_type": "code",
   "execution_count": 58,
   "metadata": {},
   "outputs": [
    {
     "name": "stdout",
     "output_type": "stream",
     "text": [
      "훈련 세트 점수 : 0.77\n",
      "테스트 세트 점수 : 0.74\n"
     ]
    }
   ],
   "source": [
    "lasso = Lasso(alpha=0.0001, max_iter=100000).fit(X_train, y_train)\n",
    "print(\"훈련 세트 점수 : {:.2f}\".format(lasso.score(X_train, y_train)))\n",
    "print(\"테스트 세트 점수 : {:.2f}\".format(lasso.score(X_test, y_test)))"
   ]
  },
  {
   "cell_type": "code",
   "execution_count": 59,
   "metadata": {},
   "outputs": [],
   "source": [
    "# 비선형회귀\n",
    "from sklearn.preprocessing import PolynomialFeatures\n",
    "x = np.array([2, 3, 4])\n",
    "poly = PolynomialFeatures(3, include_bias=False)\n",
    "poly.fit_transform(x[:, None])\n",
    "from sklearn.pipeline import make_pipeline\n",
    "poly_model = make_pipeline(PolynomialFeatures(7), LinearRegression())"
   ]
  },
  {
   "cell_type": "code",
   "execution_count": 64,
   "metadata": {},
   "outputs": [
    {
     "ename": "TypeError",
     "evalue": "unhashable type: 'slice'",
     "output_type": "error",
     "traceback": [
      "\u001b[1;31m---------------------------------------------------------------------------\u001b[0m",
      "\u001b[1;31mTypeError\u001b[0m                                 Traceback (most recent call last)",
      "\u001b[1;32m~\\anaconda3\\lib\\site-packages\\sklearn\\pipeline.py\u001b[0m in \u001b[0;36m__getitem__\u001b[1;34m(self, ind)\u001b[0m\n\u001b[0;32m    208\u001b[0m         \u001b[1;32mtry\u001b[0m\u001b[1;33m:\u001b[0m\u001b[1;33m\u001b[0m\u001b[1;33m\u001b[0m\u001b[0m\n\u001b[1;32m--> 209\u001b[1;33m             \u001b[0mname\u001b[0m\u001b[1;33m,\u001b[0m \u001b[0mest\u001b[0m \u001b[1;33m=\u001b[0m \u001b[0mself\u001b[0m\u001b[1;33m.\u001b[0m\u001b[0msteps\u001b[0m\u001b[1;33m[\u001b[0m\u001b[0mind\u001b[0m\u001b[1;33m]\u001b[0m\u001b[1;33m\u001b[0m\u001b[1;33m\u001b[0m\u001b[0m\n\u001b[0m\u001b[0;32m    210\u001b[0m         \u001b[1;32mexcept\u001b[0m \u001b[0mTypeError\u001b[0m\u001b[1;33m:\u001b[0m\u001b[1;33m\u001b[0m\u001b[1;33m\u001b[0m\u001b[0m\n",
      "\u001b[1;31mTypeError\u001b[0m: list indices must be integers or slices, not tuple",
      "\nDuring handling of the above exception, another exception occurred:\n",
      "\u001b[1;31mTypeError\u001b[0m                                 Traceback (most recent call last)",
      "\u001b[1;32m<ipython-input-64-64f2e5564d34>\u001b[0m in \u001b[0;36m<module>\u001b[1;34m\u001b[0m\n\u001b[0;32m      4\u001b[0m \u001b[1;33m\u001b[0m\u001b[0m\n\u001b[0;32m      5\u001b[0m \u001b[0mxfit\u001b[0m \u001b[1;33m=\u001b[0m \u001b[0mpoly_model\u001b[0m\u001b[1;33m.\u001b[0m\u001b[0mfit\u001b[0m\u001b[1;33m(\u001b[0m\u001b[0mx\u001b[0m\u001b[1;33m[\u001b[0m\u001b[1;33m:\u001b[0m\u001b[1;33m,\u001b[0m \u001b[0mnp\u001b[0m\u001b[1;33m.\u001b[0m\u001b[0mnewaxis\u001b[0m\u001b[1;33m]\u001b[0m\u001b[1;33m,\u001b[0m \u001b[0my\u001b[0m\u001b[1;33m)\u001b[0m\u001b[1;33m\u001b[0m\u001b[1;33m\u001b[0m\u001b[0m\n\u001b[1;32m----> 6\u001b[1;33m \u001b[0myfit\u001b[0m \u001b[1;33m=\u001b[0m \u001b[0mpoly_model\u001b[0m\u001b[1;33m.\u001b[0m\u001b[0mpredict\u001b[0m\u001b[1;33m(\u001b[0m\u001b[0mxfit\u001b[0m\u001b[1;33m[\u001b[0m\u001b[1;33m:\u001b[0m\u001b[1;33m,\u001b[0m \u001b[0mnp\u001b[0m\u001b[1;33m.\u001b[0m\u001b[0mnewaxis\u001b[0m\u001b[1;33m]\u001b[0m\u001b[1;33m)\u001b[0m\u001b[1;33m\u001b[0m\u001b[1;33m\u001b[0m\u001b[0m\n\u001b[0m\u001b[0;32m      7\u001b[0m \u001b[1;33m\u001b[0m\u001b[0m\n\u001b[0;32m      8\u001b[0m \u001b[0mplt\u001b[0m\u001b[1;33m.\u001b[0m\u001b[0mscatter\u001b[0m\u001b[1;33m(\u001b[0m\u001b[0mx\u001b[0m\u001b[1;33m,\u001b[0m \u001b[0my\u001b[0m\u001b[1;33m)\u001b[0m\u001b[1;33m\u001b[0m\u001b[1;33m\u001b[0m\u001b[0m\n",
      "\u001b[1;32m~\\anaconda3\\lib\\site-packages\\sklearn\\pipeline.py\u001b[0m in \u001b[0;36m__getitem__\u001b[1;34m(self, ind)\u001b[0m\n\u001b[0;32m    210\u001b[0m         \u001b[1;32mexcept\u001b[0m \u001b[0mTypeError\u001b[0m\u001b[1;33m:\u001b[0m\u001b[1;33m\u001b[0m\u001b[1;33m\u001b[0m\u001b[0m\n\u001b[0;32m    211\u001b[0m             \u001b[1;31m# Not an int, try get step by name\u001b[0m\u001b[1;33m\u001b[0m\u001b[1;33m\u001b[0m\u001b[1;33m\u001b[0m\u001b[0m\n\u001b[1;32m--> 212\u001b[1;33m             \u001b[1;32mreturn\u001b[0m \u001b[0mself\u001b[0m\u001b[1;33m.\u001b[0m\u001b[0mnamed_steps\u001b[0m\u001b[1;33m[\u001b[0m\u001b[0mind\u001b[0m\u001b[1;33m]\u001b[0m\u001b[1;33m\u001b[0m\u001b[1;33m\u001b[0m\u001b[0m\n\u001b[0m\u001b[0;32m    213\u001b[0m         \u001b[1;32mreturn\u001b[0m \u001b[0mest\u001b[0m\u001b[1;33m\u001b[0m\u001b[1;33m\u001b[0m\u001b[0m\n\u001b[0;32m    214\u001b[0m \u001b[1;33m\u001b[0m\u001b[0m\n",
      "\u001b[1;31mTypeError\u001b[0m: unhashable type: 'slice'"
     ]
    }
   ],
   "source": [
    "rng = np.random.RandomState(1)\n",
    "x = 10 * rng.rand(50)\n",
    "y = np.sin(x) + 0.1 * rng.randn(50)\n",
    "\n",
    "poly_model.fit(x[:, np.newaxis], y)\n",
    "yfit = poly_model.predict(xfit[:, np.newaxis])\n",
    "\n",
    "plt.scatter(x, y)\n",
    "# plt.plot(xfit, yfit)            "
   ]
  },
  {
   "cell_type": "code",
   "execution_count": 68,
   "metadata": {},
   "outputs": [
    {
     "name": "stdout",
     "output_type": "stream",
     "text": [
      "0.5\n"
     ]
    },
    {
     "data": {
      "text/plain": [
       "2"
      ]
     },
     "execution_count": 68,
     "metadata": {},
     "output_type": "execute_result"
    }
   ],
   "source": [
    "\"\"\"\n",
    "        실제값\n",
    "예측값  TP       FP\n",
    "        TN       FN\n",
    "recall(재현율)   specificity 특이도 \n",
    "sensitivity(민감도)\n",
    "= TP/(TP+TN)     = FN/(FP+FN)\n",
    "\n",
    "\"\"\"\n",
    "\n",
    "from sklearn.metrics import accuracy_score # 모델 평가 : 정확도\n",
    "x_pred = [0, 2, 1, 3]\n",
    "y_true = [0, 1, 2, 3]\n",
    "print(accuracy_score(y_true, x_pred, normalize=True))\n",
    "accuracy_score(y_true, x_pred, normalize=False)"
   ]
  },
  {
   "cell_type": "code",
   "execution_count": 69,
   "metadata": {},
   "outputs": [
    {
     "data": {
      "text/plain": [
       "array([0.96666667, 0.96666667, 0.96666667, 0.93333333, 1.        ])"
      ]
     },
     "execution_count": 69,
     "metadata": {},
     "output_type": "execute_result"
    }
   ],
   "source": [
    "\"\"\"\n",
    "support vector machine\n",
    "서포트 벡터를 이용해서 그룹간 간격을 멀리한다\n",
    "\n",
    "\"\"\"\n",
    "\n",
    "from sklearn import svm, datasets \n",
    "from sklearn.model_selection import cross_val_score\n",
    "iris = datasets.load_iris()\n",
    "X, y = iris.data, iris.target\n",
    "clf = svm.SVC(gamma='scale', random_state=0) #SVC, SVR 클래시파이, 리그레스 (예측 분류)\n",
    "cross_val_score(clf, X, y, scoring='recall_macro', cv=5) # 재현율을 이용해서 평가"
   ]
  },
  {
   "cell_type": "code",
   "execution_count": 103,
   "metadata": {},
   "outputs": [
    {
     "name": "stdout",
     "output_type": "stream",
     "text": [
      "              precision    recall  f1-score   support\n",
      "\n",
      "           0       0.67      1.00      0.80         2\n",
      "           1       0.00      0.00      0.00         1\n",
      "           2       0.67      0.67      0.67         3\n",
      "\n",
      "    accuracy                           0.67         6\n",
      "   macro avg       0.44      0.56      0.49         6\n",
      "weighted avg       0.56      0.67      0.60         6\n",
      "\n"
     ]
    },
    {
     "name": "stderr",
     "output_type": "stream",
     "text": [
      "C:\\Users\\2-18\\anaconda3\\lib\\site-packages\\sklearn\\metrics\\_classification.py:1221: UndefinedMetricWarning: Precision and F-score are ill-defined and being set to 0.0 in labels with no predicted samples. Use `zero_division` parameter to control this behavior.\n",
      "  _warn_prf(average, modifier, msg_start, len(result))\n"
     ]
    }
   ],
   "source": [
    "from sklearn.metrics import confusion_matrix\n",
    "y_true = [2,0,2,2,0,1]\n",
    "y_pred = [0,0,2,2,0,2]\n",
    "\"\"\"\n",
    "  0 1 2\n",
    "0\n",
    "1\n",
    "2\n",
    "카운팅\n",
    "\"\"\"\n",
    "confusion_matrix(y_true, y_pred) # 혼동행렬 : 대각선이 정분류율, 나머지는 틀림"
   ]
  },
  {
   "cell_type": "code",
   "execution_count": 105,
   "metadata": {},
   "outputs": [
    {
     "name": "stdout",
     "output_type": "stream",
     "text": [
      "[[2 0]\n",
      " [2 2]]\n",
      "\n",
      "accuracy 0.6666666666666666\n",
      "precision 1.0\n",
      "recall 0.5\n",
      "f1 0.6666666666666666\n",
      "\n",
      "accuracy 0.6666666666666666\n",
      "precision 1.0\n",
      "recall 0.5\n",
      "f1 0.6666666666666666\n",
      "\n",
      "              precision    recall  f1-score   support\n",
      "\n",
      "           0       0.50      1.00      0.67         2\n",
      "           1       1.00      0.50      0.67         4\n",
      "\n",
      "    accuracy                           0.67         6\n",
      "   macro avg       0.75      0.75      0.67         6\n",
      "weighted avg       0.83      0.67      0.67         6\n",
      "\n",
      "[[2 0]\n",
      " [2 2]]\n"
     ]
    }
   ],
   "source": [
    "import sklearn.metrics as metrics\n",
    "\n",
    "y = np.array([1,1,1,1,0,0]) #실제값\n",
    "p = np.array([1,1,0,0,0,0]) #예측값\n",
    "print(metrics.confusion_matrix(y, p))\n",
    "accuracy = np.mean(np.equal(y, p)) # =4/6 정확도\n",
    "right = np.sum(y*p == 1) # 2개\n",
    "precision = right/np.sum(p) # 2/2 정밀도\n",
    "recall = right/np.sum(y) # 2/4  재현율\n",
    "f1 = 2 * precision*recall/(precision+recall) # 평가방법 ( 정밀도하고 재현율 구현(=민감도)) 에프원스코어\n",
    "print()\n",
    "print('accuracy', accuracy)\n",
    "print('precision', precision)\n",
    "print('recall', recall)\n",
    "print('f1', f1)\n",
    "print()\n",
    "# 분류에 대한 평가함수들 : 범주형 데이터 평가\n",
    "# 예측 : 연속형 데이터 : mse, mae(mean abs error) 절대값 에러\n",
    "# rmse(root mean square error)\n",
    "# ★\n",
    "print('accuracy', metrics.accuracy_score(y,p))\n",
    "print('precision', metrics.precision_score(y,p))\n",
    "print('recall', metrics.recall_score(y,p))\n",
    "print('f1', metrics.f1_score(y,p))\n",
    "print()\n",
    "print(metrics.classification_report(y,p))\n",
    "print(metrics.confusion_matrix(y,p))\n",
    "      "
   ]
  },
  {
   "cell_type": "code",
   "execution_count": null,
   "metadata": {},
   "outputs": [],
   "source": [
    "\"\"\"\n",
    "marco avg : 단순평균\n",
    "weighted avg : 가중평균\n",
    "\"\"\"\n",
    "# 오전 종료 ==========================================================================================================================================================================================================="
   ]
  },
  {
   "cell_type": "code",
   "execution_count": 112,
   "metadata": {},
   "outputs": [
    {
     "name": "stderr",
     "output_type": "stream",
     "text": [
      "C:\\Users\\2-18\\anaconda3\\lib\\site-packages\\sklearn\\utils\\deprecation.py:86: FutureWarning: Function make_blobs is deprecated; Please import make_blobs directly from scikit-learn\n",
      "  warnings.warn(msg, category=FutureWarning)\n",
      "C:\\Users\\2-18\\anaconda3\\lib\\site-packages\\sklearn\\svm\\_base.py:976: ConvergenceWarning: Liblinear failed to converge, increase the number of iterations.\n",
      "  warnings.warn(\"Liblinear failed to converge, increase \"\n"
     ]
    },
    {
     "data": {
      "text/plain": [
       "<matplotlib.legend.Legend at 0x2c78e59f340>"
      ]
     },
     "execution_count": 112,
     "metadata": {},
     "output_type": "execute_result"
    },
    {
     "data": {
      "image/png": "[encoded data removed]",
      "text/plain": [
       "<Figure size 720x216 with 2 Axes>"
      ]
     },
     "metadata": {},
     "output_type": "display_data"
    }
   ],
   "source": [
    "# 두개 모델을 씀\n",
    "from sklearn.linear_model import LogisticRegression \n",
    "# 분류 한다 : 독립변수가 연속형, 종속변수가 범주형\n",
    "# sigmoid 를 사용 : 0 ~ 1 : 확률값으로 뷴류\n",
    "from sklearn.svm import LinearSVC #Support vector machine\n",
    "import matplotlib.pyplot as plt\n",
    "import mglearn\n",
    "\n",
    "X, y = mglearn.datasets.make_forge()\n",
    "fig, axes = plt.subplots(1, 2, figsize=(10, 3))\n",
    "\n",
    "for model, ax in zip([LinearSVC(), LogisticRegression()], axes):\n",
    "    clf = model.fit(X, y)\n",
    "    \n",
    "    mglearn.plots.plot_2d_separator(clf, X, fill=True, eps=0.5, ax=ax, alpha=.7) \n",
    "    #분할면\n",
    "    # eps epsion 상수 : 부동소수점 : 0.5밑은 다같은 수 : 미세하게 조정 안해도된다는 뜻\n",
    "    \n",
    "    mglearn.discrete_scatter(X[:,0], X[:, 1], y, ax=ax)\n",
    "    ax.set_title(\"{}\".format(clf.__class__.__name__))\n",
    "    ax.set_xlabel(\"특성 0\")\n",
    "    ax.set_ylabel(\"특성 1\")\n",
    "    \n",
    "axes[0].legend()\n"
   ]
  },
  {
   "cell_type": "code",
   "execution_count": 113,
   "metadata": {
    "scrolled": true
   },
   "outputs": [
    {
     "data": {
      "text/html": [
       "<div>\n",
       "<style scoped>\n",
       "    .dataframe tbody tr th:only-of-type {\n",
       "        vertical-align: middle;\n",
       "    }\n",
       "\n",
       "    .dataframe tbody tr th {\n",
       "        vertical-align: top;\n",
       "    }\n",
       "\n",
       "    .dataframe thead th {\n",
       "        text-align: right;\n",
       "    }\n",
       "</style>\n",
       "<table border=\"1\" class=\"dataframe\">\n",
       "  <thead>\n",
       "    <tr style=\"text-align: right;\">\n",
       "      <th></th>\n",
       "      <th>name</th>\n",
       "      <th>status</th>\n",
       "      <th>MDVP:Fo(Hz)</th>\n",
       "      <th>MDVP:Fhi(Hz)</th>\n",
       "      <th>MDVP:Flo(Hz)</th>\n",
       "      <th>MDVP:Jitter(%)</th>\n",
       "      <th>MDVP:Jitter(Abs)</th>\n",
       "      <th>MDVP:RAP</th>\n",
       "      <th>MDVP:PPQ</th>\n",
       "      <th>Jitter:DDP</th>\n",
       "      <th>MDVP:Shimmer</th>\n",
       "      <th>MDVP:Shimmer(dB)</th>\n",
       "      <th>Shimmer:APQ3</th>\n",
       "      <th>Shimmer:APQ5</th>\n",
       "      <th>MDVP:APQ</th>\n",
       "      <th>Shimmer:DDA</th>\n",
       "      <th>NHR</th>\n",
       "      <th>HNR</th>\n",
       "      <th>RPDE</th>\n",
       "      <th>DFA</th>\n",
       "      <th>spread1</th>\n",
       "      <th>spread2</th>\n",
       "      <th>D2</th>\n",
       "      <th>PPE</th>\n",
       "    </tr>\n",
       "  </thead>\n",
       "  <tbody>\n",
       "    <tr>\n",
       "      <th>0</th>\n",
       "      <td>phon_R01_S01_1</td>\n",
       "      <td>1</td>\n",
       "      <td>-0.829300</td>\n",
       "      <td>-0.436165</td>\n",
       "      <td>-0.952037</td>\n",
       "      <td>0.334914</td>\n",
       "      <td>0.749759</td>\n",
       "      <td>0.132963</td>\n",
       "      <td>0.760800</td>\n",
       "      <td>0.131755</td>\n",
       "      <td>0.745985</td>\n",
       "      <td>0.739536</td>\n",
       "      <td>0.607859</td>\n",
       "      <td>1.119147</td>\n",
       "      <td>0.332985</td>\n",
       "      <td>0.607532</td>\n",
       "      <td>-0.067893</td>\n",
       "      <td>-0.193225</td>\n",
       "      <td>-0.807838</td>\n",
       "      <td>1.760814</td>\n",
       "      <td>0.801323</td>\n",
       "      <td>0.480477</td>\n",
       "      <td>-0.210531</td>\n",
       "      <td>0.868886</td>\n",
       "    </tr>\n",
       "    <tr>\n",
       "      <th>1</th>\n",
       "      <td>phon_R01_S01_2</td>\n",
       "      <td>1</td>\n",
       "      <td>-0.770972</td>\n",
       "      <td>-0.530974</td>\n",
       "      <td>-0.057721</td>\n",
       "      <td>0.715418</td>\n",
       "      <td>1.037674</td>\n",
       "      <td>0.453892</td>\n",
       "      <td>1.276809</td>\n",
       "      <td>0.452684</td>\n",
       "      <td>1.681731</td>\n",
       "      <td>1.768464</td>\n",
       "      <td>1.547912</td>\n",
       "      <td>2.276504</td>\n",
       "      <td>1.159454</td>\n",
       "      <td>1.548254</td>\n",
       "      <td>-0.137843</td>\n",
       "      <td>-0.634508</td>\n",
       "      <td>-0.387524</td>\n",
       "      <td>1.837562</td>\n",
       "      <td>1.479853</td>\n",
       "      <td>1.311185</td>\n",
       "      <td>0.275077</td>\n",
       "      <td>1.803605</td>\n",
       "    </tr>\n",
       "    <tr>\n",
       "      <th>2</th>\n",
       "      <td>phon_R01_S01_3</td>\n",
       "      <td>1</td>\n",
       "      <td>-0.909476</td>\n",
       "      <td>-0.723168</td>\n",
       "      <td>-0.109875</td>\n",
       "      <td>0.884991</td>\n",
       "      <td>1.325589</td>\n",
       "      <td>0.720770</td>\n",
       "      <td>1.585687</td>\n",
       "      <td>0.721813</td>\n",
       "      <td>1.202693</td>\n",
       "      <td>1.027636</td>\n",
       "      <td>1.175643</td>\n",
       "      <td>1.726176</td>\n",
       "      <td>0.699187</td>\n",
       "      <td>1.175323</td>\n",
       "      <td>-0.291633</td>\n",
       "      <td>-0.279760</td>\n",
       "      <td>-0.662075</td>\n",
       "      <td>1.942048</td>\n",
       "      <td>1.141445</td>\n",
       "      <td>1.017682</td>\n",
       "      <td>-0.103629</td>\n",
       "      <td>1.402661</td>\n",
       "    </tr>\n",
       "    <tr>\n",
       "      <th>3</th>\n",
       "      <td>phon_R01_S01_4</td>\n",
       "      <td>1</td>\n",
       "      <td>-0.909622</td>\n",
       "      <td>-0.649092</td>\n",
       "      <td>-0.114229</td>\n",
       "      <td>0.775389</td>\n",
       "      <td>1.325589</td>\n",
       "      <td>0.578885</td>\n",
       "      <td>1.284076</td>\n",
       "      <td>0.577677</td>\n",
       "      <td>1.340396</td>\n",
       "      <td>1.207698</td>\n",
       "      <td>1.340547</td>\n",
       "      <td>1.848749</td>\n",
       "      <td>0.806859</td>\n",
       "      <td>1.340229</td>\n",
       "      <td>-0.280719</td>\n",
       "      <td>-0.281346</td>\n",
       "      <td>-0.613134</td>\n",
       "      <td>1.832380</td>\n",
       "      <td>1.440945</td>\n",
       "      <td>1.293840</td>\n",
       "      <td>0.062145</td>\n",
       "      <td>1.806954</td>\n",
       "    </tr>\n",
       "    <tr>\n",
       "      <th>4</th>\n",
       "      <td>phon_R01_S01_5</td>\n",
       "      <td>1</td>\n",
       "      <td>-0.925657</td>\n",
       "      <td>-0.606245</td>\n",
       "      <td>-0.130608</td>\n",
       "      <td>1.368893</td>\n",
       "      <td>1.901418</td>\n",
       "      <td>1.095750</td>\n",
       "      <td>2.047187</td>\n",
       "      <td>1.096793</td>\n",
       "      <td>1.836448</td>\n",
       "      <td>1.552389</td>\n",
       "      <td>1.899444</td>\n",
       "      <td>2.532491</td>\n",
       "      <td>1.216839</td>\n",
       "      <td>1.899461</td>\n",
       "      <td>-0.178026</td>\n",
       "      <td>-0.506745</td>\n",
       "      <td>-0.783021</td>\n",
       "      <td>1.909364</td>\n",
       "      <td>1.780940</td>\n",
       "      <td>0.096195</td>\n",
       "      <td>-0.130026</td>\n",
       "      <td>2.267082</td>\n",
       "    </tr>\n",
       "  </tbody>\n",
       "</table>\n",
       "</div>"
      ],
      "text/plain": [
       "             name  status  MDVP:Fo(Hz)  MDVP:Fhi(Hz)  MDVP:Flo(Hz)  ...       DFA   spread1   spread2        D2       PPE\n",
       "0  phon_R01_S01_1       1    -0.829300     -0.436165     -0.952037  ...  1.760814  0.801323  0.480477 -0.210531  0.868886\n",
       "1  phon_R01_S01_2       1    -0.770972     -0.530974     -0.057721  ...  1.837562  1.479853  1.311185  0.275077  1.803605\n",
       "2  phon_R01_S01_3       1    -0.909476     -0.723168     -0.109875  ...  1.942048  1.141445  1.017682 -0.103629  1.402661\n",
       "3  phon_R01_S01_4       1    -0.909622     -0.649092     -0.114229  ...  1.832380  1.440945  1.293840  0.062145  1.806954\n",
       "4  phon_R01_S01_5       1    -0.925657     -0.606245     -0.130608  ...  1.909364  1.780940  0.096195 -0.130026  2.267082\n",
       "\n",
       "[5 rows x 24 columns]"
      ]
     },
     "execution_count": 113,
     "metadata": {},
     "output_type": "execute_result"
    }
   ],
   "source": [
    "data = pd.read_csv(\"Parkinson.csv\")\n",
    "data.head()\n",
    "#status 종속변수"
   ]
  },
  {
   "cell_type": "code",
   "execution_count": 120,
   "metadata": {},
   "outputs": [
    {
     "data": {
      "text/html": [
       "<div>\n",
       "<style scoped>\n",
       "    .dataframe tbody tr th:only-of-type {\n",
       "        vertical-align: middle;\n",
       "    }\n",
       "\n",
       "    .dataframe tbody tr th {\n",
       "        vertical-align: top;\n",
       "    }\n",
       "\n",
       "    .dataframe thead th {\n",
       "        text-align: right;\n",
       "    }\n",
       "</style>\n",
       "<table border=\"1\" class=\"dataframe\">\n",
       "  <thead>\n",
       "    <tr style=\"text-align: right;\">\n",
       "      <th></th>\n",
       "      <th>name</th>\n",
       "      <th>status</th>\n",
       "      <th>MDVP:Fo(Hz)</th>\n",
       "      <th>MDVP:Fhi(Hz)</th>\n",
       "      <th>MDVP:Flo(Hz)</th>\n",
       "      <th>MDVP:Jitter(%)</th>\n",
       "      <th>MDVP:Jitter(Abs)</th>\n",
       "      <th>MDVP:RAP</th>\n",
       "      <th>MDVP:PPQ</th>\n",
       "      <th>Jitter:DDP</th>\n",
       "      <th>MDVP:Shimmer</th>\n",
       "      <th>MDVP:Shimmer(dB)</th>\n",
       "      <th>Shimmer:APQ3</th>\n",
       "      <th>Shimmer:APQ5</th>\n",
       "      <th>MDVP:APQ</th>\n",
       "      <th>Shimmer:DDA</th>\n",
       "      <th>NHR</th>\n",
       "      <th>HNR</th>\n",
       "      <th>RPDE</th>\n",
       "      <th>DFA</th>\n",
       "      <th>spread1</th>\n",
       "      <th>spread2</th>\n",
       "      <th>D2</th>\n",
       "      <th>PPE</th>\n",
       "    </tr>\n",
       "  </thead>\n",
       "  <tbody>\n",
       "    <tr>\n",
       "      <th>128</th>\n",
       "      <td>phon_R01_S32_1</td>\n",
       "      <td>1</td>\n",
       "      <td>-0.852578</td>\n",
       "      <td>-0.762376</td>\n",
       "      <td>-0.163757</td>\n",
       "      <td>-0.376464</td>\n",
       "      <td>-0.113985</td>\n",
       "      <td>-0.394037</td>\n",
       "      <td>-0.554658</td>\n",
       "      <td>-0.395243</td>\n",
       "      <td>-1.030338</td>\n",
       "      <td>-0.947907</td>\n",
       "      <td>-1.015509</td>\n",
       "      <td>-1.015461</td>\n",
       "      <td>-0.944878</td>\n",
       "      <td>-1.015526</td>\n",
       "      <td>-0.188692</td>\n",
       "      <td>1.122695</td>\n",
       "      <td>-0.395414</td>\n",
       "      <td>-0.331777</td>\n",
       "      <td>-1.108713</td>\n",
       "      <td>-0.884336</td>\n",
       "      <td>-0.139630</td>\n",
       "      <td>-1.042360</td>\n",
       "    </tr>\n",
       "    <tr>\n",
       "      <th>121</th>\n",
       "      <td>phon_R01_S27_7</td>\n",
       "      <td>1</td>\n",
       "      <td>0.547318</td>\n",
       "      <td>0.199307</td>\n",
       "      <td>-0.745540</td>\n",
       "      <td>-0.335105</td>\n",
       "      <td>-0.401899</td>\n",
       "      <td>-0.410928</td>\n",
       "      <td>-0.449276</td>\n",
       "      <td>-0.409882</td>\n",
       "      <td>-0.958030</td>\n",
       "      <td>-0.850159</td>\n",
       "      <td>-1.019459</td>\n",
       "      <td>-0.965431</td>\n",
       "      <td>-0.771538</td>\n",
       "      <td>-1.019147</td>\n",
       "      <td>-0.328344</td>\n",
       "      <td>1.196091</td>\n",
       "      <td>-0.949580</td>\n",
       "      <td>-1.121812</td>\n",
       "      <td>0.895146</td>\n",
       "      <td>0.662418</td>\n",
       "      <td>0.717408</td>\n",
       "      <td>0.314362</td>\n",
       "    </tr>\n",
       "    <tr>\n",
       "      <th>60</th>\n",
       "      <td>phon_R01_S17_1</td>\n",
       "      <td>0</td>\n",
       "      <td>1.330191</td>\n",
       "      <td>0.442588</td>\n",
       "      <td>-0.160002</td>\n",
       "      <td>-0.703201</td>\n",
       "      <td>-0.977729</td>\n",
       "      <td>-0.620376</td>\n",
       "      <td>-0.700012</td>\n",
       "      <td>-0.619330</td>\n",
       "      <td>-0.590112</td>\n",
       "      <td>-0.577493</td>\n",
       "      <td>-0.583993</td>\n",
       "      <td>-0.441785</td>\n",
       "      <td>-0.607073</td>\n",
       "      <td>-0.584005</td>\n",
       "      <td>-0.400278</td>\n",
       "      <td>0.830923</td>\n",
       "      <td>-1.511915</td>\n",
       "      <td>-0.710679</td>\n",
       "      <td>-1.247103</td>\n",
       "      <td>-1.917457</td>\n",
       "      <td>0.206814</td>\n",
       "      <td>-1.168517</td>\n",
       "    </tr>\n",
       "    <tr>\n",
       "      <th>44</th>\n",
       "      <td>phon_R01_S10_3</td>\n",
       "      <td>0</td>\n",
       "      <td>2.160905</td>\n",
       "      <td>0.589624</td>\n",
       "      <td>2.674758</td>\n",
       "      <td>-0.852094</td>\n",
       "      <td>-1.006520</td>\n",
       "      <td>-0.748748</td>\n",
       "      <td>-0.754520</td>\n",
       "      <td>-0.748827</td>\n",
       "      <td>-0.825112</td>\n",
       "      <td>-0.803857</td>\n",
       "      <td>-0.779508</td>\n",
       "      <td>-0.741964</td>\n",
       "      <td>-0.813542</td>\n",
       "      <td>-0.779852</td>\n",
       "      <td>-0.503714</td>\n",
       "      <td>0.788788</td>\n",
       "      <td>-0.581043</td>\n",
       "      <td>-1.500424</td>\n",
       "      <td>-1.263069</td>\n",
       "      <td>-1.621586</td>\n",
       "      <td>-0.133860</td>\n",
       "      <td>-1.280279</td>\n",
       "    </tr>\n",
       "    <tr>\n",
       "      <th>81</th>\n",
       "      <td>phon_R01_S20_4</td>\n",
       "      <td>1</td>\n",
       "      <td>-1.420016</td>\n",
       "      <td>-0.979544</td>\n",
       "      <td>-0.662885</td>\n",
       "      <td>0.165341</td>\n",
       "      <td>0.749759</td>\n",
       "      <td>0.328898</td>\n",
       "      <td>0.095804</td>\n",
       "      <td>0.327691</td>\n",
       "      <td>0.098406</td>\n",
       "      <td>0.070732</td>\n",
       "      <td>0.222754</td>\n",
       "      <td>0.044338</td>\n",
       "      <td>-0.129057</td>\n",
       "      <td>0.223080</td>\n",
       "      <td>-0.163640</td>\n",
       "      <td>-0.504479</td>\n",
       "      <td>0.747997</td>\n",
       "      <td>1.098819</td>\n",
       "      <td>0.507964</td>\n",
       "      <td>-0.192956</td>\n",
       "      <td>-0.390895</td>\n",
       "      <td>0.601653</td>\n",
       "    </tr>\n",
       "  </tbody>\n",
       "</table>\n",
       "</div>"
      ],
      "text/plain": [
       "               name  status  MDVP:Fo(Hz)  MDVP:Fhi(Hz)  ...   spread1   spread2        D2       PPE\n",
       "128  phon_R01_S32_1       1    -0.852578     -0.762376  ... -1.108713 -0.884336 -0.139630 -1.042360\n",
       "121  phon_R01_S27_7       1     0.547318      0.199307  ...  0.895146  0.662418  0.717408  0.314362\n",
       "60   phon_R01_S17_1       0     1.330191      0.442588  ... -1.247103 -1.917457  0.206814 -1.168517\n",
       "44   phon_R01_S10_3       0     2.160905      0.589624  ... -1.263069 -1.621586 -0.133860 -1.280279\n",
       "81   phon_R01_S20_4       1    -1.420016     -0.979544  ...  0.507964 -0.192956 -0.390895  0.601653\n",
       "\n",
       "[5 rows x 24 columns]"
      ]
     },
     "execution_count": 120,
     "metadata": {},
     "output_type": "execute_result"
    }
   ],
   "source": [
    "# 결측치 제거 (행으로)\n",
    "# 문제 데이터 train/test 데이터로 분할하시오\n",
    "\n",
    "data.dropna(axis=1)\n",
    "\n",
    "from sklearn.model_selection import train_test_split\n",
    "\n",
    "train_data, test_data = train_test_split(data, test_size=0.2) # 8:2\n",
    "\n",
    "train_data.head()\n",
    "\n"
   ]
  },
  {
   "cell_type": "code",
   "execution_count": null,
   "metadata": {},
   "outputs": [],
   "source": [
    "# train data : status 비율 확인 # 열 series"
   ]
  },
  {
   "cell_type": "code",
   "execution_count": 121,
   "metadata": {},
   "outputs": [
    {
     "data": {
      "text/plain": [
       "1    29\n",
       "0    10\n",
       "Name: status, dtype: int64"
      ]
     },
     "execution_count": 121,
     "metadata": {},
     "output_type": "execute_result"
    }
   ],
   "source": [
    "# 도수분포표 : \n",
    "train_data['status'].value_counts()\n",
    "test_data['status'].value_counts()"
   ]
  },
  {
   "cell_type": "code",
   "execution_count": null,
   "metadata": {},
   "outputs": [],
   "source": [
    "\"\"\"\n",
    "전처리정리\n",
    "-결측치 : dropna, fillna, 사이킷 : Simpleimputer(mean, median)계산하고 채운다 , KNNimputer()계산하고 채운다: 가장나음\n",
    "-이상치 : boxplot + fillter, z점수\n",
    "-범주화 : LabelEncoder, Binarizer, OneHotEncoder, DictVectorizer\n",
    "-정규화 : \n",
    "    - StandardScaler(z점수 정규화), Normalize(방향값으로)\n",
    "    - MinMaxScaler, RobustScaler\n",
    "-시각화 > 100개 이상일경우(시각화불가능) => 특성 추출하여 2개나 3개로 줄인다 => PCA\n",
    "    - ★\n",
    "    - PCA (Principle component analysisi) : 주성분분석\n",
    "        - 고유값분해 => 고유값과 고유벡터\n",
    "    - MDS (Multi Diemension Scale) : 4차원 척도법 : 분석불가능\n",
    "        - 행렬연산으로 축소 ex : 50x100 100x3 직교하는축(임의의 숫자로 결정) => 50x3\n",
    "        - 자기자신을 거듭제곱하면 정방이면서 대칭인 행렬이 나온다\n",
    "        - 고유값 분해 => 직교하는축\n",
    "\"\"\""
   ]
  },
  {
   "cell_type": "code",
   "execution_count": 122,
   "metadata": {},
   "outputs": [
    {
     "name": "stderr",
     "output_type": "stream",
     "text": [
      "C:\\Users\\2-18\\anaconda3\\lib\\site-packages\\matplotlib\\backends\\backend_agg.py:214: RuntimeWarning: Glyph 8722 missing from current font.\n",
      "  font.set_text(s, 0.0, flags=flags)\n",
      "C:\\Users\\2-18\\anaconda3\\lib\\site-packages\\matplotlib\\backends\\backend_agg.py:183: RuntimeWarning: Glyph 8722 missing from current font.\n",
      "  font.set_text(s, 0, flags=flags)\n"
     ]
    },
    {
     "data": {
      "image/png": "[encoded data removed]",
      "text/plain": [
       "<Figure size 1080x576 with 5 Axes>"
      ]
     },
     "metadata": {
      "needs_background": "light"
     },
     "output_type": "display_data"
    }
   ],
   "source": [
    "import mglearn\n",
    "import matplotlib.pyplot as plt\n",
    "mglearn.plots.plot_scaling()\n",
    "# Z점수 = 데이타 - 평균"
   ]
  },
  {
   "cell_type": "code",
   "execution_count": 124,
   "metadata": {
    "scrolled": true
   },
   "outputs": [
    {
     "name": "stdout",
     "output_type": "stream",
     "text": [
      "[-3. -2. -1.  0.  1.  2.  3.  4.  5.  6.]\n"
     ]
    },
    {
     "data": {
      "text/plain": [
       "<matplotlib.axes._subplots.AxesSubplot at 0x2c78b3888e0>"
      ]
     },
     "execution_count": 124,
     "metadata": {},
     "output_type": "execute_result"
    },
    {
     "name": "stderr",
     "output_type": "stream",
     "text": [
      "C:\\Users\\2-18\\anaconda3\\lib\\site-packages\\matplotlib\\backends\\backend_agg.py:214: RuntimeWarning: Glyph 8722 missing from current font.\n",
      "  font.set_text(s, 0.0, flags=flags)\n",
      "C:\\Users\\2-18\\anaconda3\\lib\\site-packages\\matplotlib\\backends\\backend_agg.py:183: RuntimeWarning: Glyph 8722 missing from current font.\n",
      "  font.set_text(s, 0, flags=flags)\n"
     ]
    },
    {
     "data": {
      "image/png": "[encoded data removed]",
      "text/plain": [
       "<Figure size 432x288 with 1 Axes>"
      ]
     },
     "metadata": {
      "needs_background": "light"
     },
     "output_type": "display_data"
    }
   ],
   "source": [
    "# h : horizontal 수평으로 v : vertical 수직으로 : h, v 앞에 붙으면 이런뜻일것\n",
    "# 전처리 후 범위 출력\n",
    "from sklearn.preprocessing import scale, robust_scale, minmax_scale, maxabs_scale\n",
    "print(np.arange(10, dtype=np.float) - 3)\n",
    "x = (np.arange(10, dtype=np.float) - 3).reshape(-1, 1) #열로 만들어라\n",
    "df = pd.DataFrame(np.hstack([x, scale(x), robust_scale(x), minmax_scale(x), maxabs_scale(x)]),\n",
    "                 columns=['x', 'scale(x)', 'robust_scale(x)', 'minmax_scale(x)', 'maxabs_scale(x)'])\n",
    "df.plot()"
   ]
  },
  {
   "cell_type": "code",
   "execution_count": 126,
   "metadata": {},
   "outputs": [
    {
     "name": "stdout",
     "output_type": "stream",
     "text": [
      "<class 'sklearn.utils.Bunch'>\n",
      "전처리전 평균: [5.84333333 3.05733333 3.758      1.19933333]\n",
      "전처리전 std:: [0.82530129 0.43441097 1.75940407 0.75969263]\n",
      "전처리후 mean: [-1.69031455e-15 -1.84297022e-15 -1.69864123e-15 -1.40924309e-15]\n",
      "전처리후 std: [-1.69031455e-15 -1.84297022e-15 -1.69864123e-15 -1.40924309e-15]\n"
     ]
    },
    {
     "data": {
      "image/png": "[encoded data removed]",
      "text/plain": [
       "<Figure size 432x432 with 3 Axes>"
      ]
     },
     "metadata": {
      "needs_background": "light"
     },
     "output_type": "display_data"
    },
    {
     "name": "stderr",
     "output_type": "stream",
     "text": [
      "C:\\Users\\2-18\\anaconda3\\lib\\site-packages\\matplotlib\\backends\\backend_agg.py:214: RuntimeWarning: Glyph 8722 missing from current font.\n",
      "  font.set_text(s, 0.0, flags=flags)\n",
      "C:\\Users\\2-18\\anaconda3\\lib\\site-packages\\matplotlib\\backends\\backend_agg.py:183: RuntimeWarning: Glyph 8722 missing from current font.\n",
      "  font.set_text(s, 0, flags=flags)\n"
     ]
    },
    {
     "data": {
      "image/png": "[encoded data removed]",
      "text/plain": [
       "<Figure size 432x432 with 3 Axes>"
      ]
     },
     "metadata": {
      "needs_background": "light"
     },
     "output_type": "display_data"
    }
   ],
   "source": [
    "import seaborn as sns\n",
    "from sklearn.datasets import load_iris\n",
    "iris = load_iris() # 105 x 4 (Sepal_Length, Sepal_width, Patal_Length, Petal_width)\n",
    "print(type(iris))\n",
    "data1 = iris.data\n",
    "data2 = scale(iris.data) # scale해도 형태는 같다\n",
    "print(\"전처리전 평균:\", np.mean(data1, axis=0))#열평균\n",
    "print(\"전처리전 std::\", np.std(data1, axis=0))\n",
    "\n",
    "print(\"전처리후 mean:\", np.mean(data2, axis=0))\n",
    "print(\"전처리후 std:\", np.mean(data2, axis=0))\n",
    "\n",
    "sns.jointplot(data1[:,0], data1[:,1]) \n",
    "plt.show()\n",
    "\n",
    "sns.jointplot(data2[:,0], data2[:,1])\n",
    "plt.show()"
   ]
  },
  {
   "cell_type": "code",
   "execution_count": 133,
   "metadata": {},
   "outputs": [
    {
     "data": {
      "text/plain": [
       "array([[ 0.40824829, -0.40824829,  0.81649658],\n",
       "       [ 1.        ,  0.        ,  0.        ],\n",
       "       [ 0.        ,  0.70710678, -0.70710678]])"
      ]
     },
     "execution_count": 133,
     "metadata": {},
     "output_type": "execute_result"
    }
   ],
   "source": [
    "from sklearn import preprocessing\n",
    "x = [[1., -1., 2.],\n",
    "     [2., 0., 0.],\n",
    "     [0., 1., -1.]]\n",
    "# 방향값으로 표현\n",
    "X_normalize = preprocessing.normalize(x, norm='l2') # 피타고라스로 생성된 크기값으로 정규화한다 l1절대값 l2제곱값\n",
    "X_normalize\n",
    "     "
   ]
  },
  {
   "cell_type": "code",
   "execution_count": 134,
   "metadata": {},
   "outputs": [
    {
     "data": {
      "text/plain": [
       "array([[0, 1],\n",
       "       [2, 3],\n",
       "       [4, 5]])"
      ]
     },
     "execution_count": 134,
     "metadata": {},
     "output_type": "execute_result"
    }
   ],
   "source": [
    "from sklearn.preprocessing import PolynomialFeatures #다항식 변경\n",
    "X = np.arange(6).reshape(3, 2)\n",
    "X"
   ]
  },
  {
   "cell_type": "code",
   "execution_count": 135,
   "metadata": {},
   "outputs": [
    {
     "data": {
      "text/plain": [
       "array([[ 1.,  0.,  1.,  0.,  0.,  1.],\n",
       "       [ 1.,  2.,  3.,  4.,  6.,  9.],\n",
       "       [ 1.,  4.,  5., 16., 20., 25.]])"
      ]
     },
     "execution_count": 135,
     "metadata": {},
     "output_type": "execute_result"
    }
   ],
   "source": [
    "poly = PolynomialFeatures(2)# 2차원으로 버꿔라 [1, a, b, a^2, ab, b^2] (위에 행하나가 a b)=> 2차원 => 회귀(비선형회귀)\n",
    "poly.fit_transform(X)"
   ]
  },
  {
   "cell_type": "code",
   "execution_count": 196,
   "metadata": {},
   "outputs": [
    {
     "name": "stdout",
     "output_type": "stream",
     "text": [
      "[[ 7.   2.   3. ]\n",
      " [ 4.   3.5  6. ]\n",
      " [10.   3.5  9. ]]\n"
     ]
    }
   ],
   "source": [
    "#전처리정리\n",
    "#-결측치\n",
    "#SimpleImputer\n",
    "#서브 모듈\n",
    "from sklearn.impute import SimpleImputer\n",
    "imp_mean = SimpleImputer(missing_values=np.nan, strategy=\"mean\") # mean, median, most_frequency(최빈수) # 열기준\n",
    "imp_mean.fit(\n",
    "    [[7, 2, 3], \n",
    "     [4, np.nan, 6], \n",
    "     [10, 5, 9]])\n",
    "\n",
    "X = [[np.nan, 2, 3], \n",
    "     [4, np.nan, 6], \n",
    "     [10, np.nan, 9]]\n",
    "print(imp_mean.transform(X))\n"
   ]
  },
  {
   "cell_type": "code",
   "execution_count": 143,
   "metadata": {},
   "outputs": [],
   "source": [
    "SimpleImputer?"
   ]
  },
  {
   "cell_type": "code",
   "execution_count": 139,
   "metadata": {
    "scrolled": true
   },
   "outputs": [
    {
     "data": {
      "text/plain": [
       "array([[1. , 2. , 4. ],\n",
       "       [3. , 4. , 3. ],\n",
       "       [5.5, 6. , 5. ],\n",
       "       [8. , 8. , 7. ]])"
      ]
     },
     "execution_count": 139,
     "metadata": {},
     "output_type": "execute_result"
    }
   ],
   "source": [
    "#KNN\n",
    "from sklearn.impute import KNNImputer\n",
    "X = [[1, 2, np.nan], [3, 4, 3], [np.nan, 6, 5], [8, 8, 7]]\n",
    "imputer = KNNImputer(n_neighbors=2) # k개 nearest neighbor\n",
    "imputer.fit_transform(X)"
   ]
  },
  {
   "cell_type": "code",
   "execution_count": 152,
   "metadata": {},
   "outputs": [],
   "source": [
    "KNNImputer??"
   ]
  },
  {
   "cell_type": "code",
   "execution_count": 162,
   "metadata": {},
   "outputs": [
    {
     "name": "stdout",
     "output_type": "stream",
     "text": [
      "[10, 10, 10, 10, 10, 10, 10, 10, 10, 11, 11, 11, 12, 12, 12, 12, 12, 12, 12, 12, 12, 13, 13, 13, 13, 13, 13, 14, 14, 14, 14, 15, 15, 15, 15, 15, 100]\n",
      "6.5\n",
      "18.5\n",
      "\n",
      "[False False False False False False False False False False False False\n",
      " False False False False False False False False False False False False\n",
      " False False False False False False False False False False False False\n",
      " False]\n",
      "[False False False False False False False False False False False False\n",
      " False False False False False False False False False False False False\n",
      " False False False False False False False False False False False False\n",
      "  True]\n"
     ]
    },
    {
     "data": {
      "text/plain": [
       "array([10, 10, 10, 10, 10, 10, 10, 10, 10, 11, 11, 11, 12, 12, 12, 12, 12,\n",
       "       12, 12, 12, 12, 13, 13, 13, 13, 13, 13, 14, 14, 14, 14, 15, 15, 15,\n",
       "       15, 15])"
      ]
     },
     "execution_count": 162,
     "metadata": {},
     "output_type": "execute_result"
    }
   ],
   "source": [
    "# 사분위수를 이용한 이상치 제거\n",
    "from sklearn.datasets import load_boston\n",
    "\n",
    "dataset= [10,12,12,13,12,11,14,13,15,10,10,10,100,12,14,13, 12,10, 10,11,12,15,12,13,12,11,14,13,15,10,15,12,10,14,13,15,10] \n",
    "\n",
    "dataset = sorted(dataset)\n",
    "print(dataset)\n",
    "# 백분위수를 구하는 함수\n",
    "# 1사분위수, 3사분위수\n",
    "q1, q3 = np.percentile(dataset, [25, 75])\n",
    "igr = q3 - q1 # inter quntile range 3사분위수 - 1사분위수\n",
    "\n",
    "lower_bound = q1 - (1.5 * igr) # 이상치 하한선\n",
    "upper_bound = q3 + (1.5 * igr) # 이상치 상한선\n",
    "print(lower_bound)\n",
    "print(upper_bound)\n",
    "print()\n",
    "print(dataset < lower_bound) # 이상치 확인\n",
    "print(dataset > upper_bound)\n",
    "#에러 나는것을 수정해보자\n",
    "\n",
    "\n",
    "dataset = np.array(dataset) # 추가\n",
    "dataset[dataset < upper_bound] # 불린 인덱싱은 넘파이 파이썬만 가능\n"
   ]
  },
  {
   "cell_type": "code",
   "execution_count": 166,
   "metadata": {},
   "outputs": [
    {
     "data": {
      "text/plain": [
       "[array([0, 1, 2])]"
      ]
     },
     "execution_count": 166,
     "metadata": {},
     "output_type": "execute_result"
    }
   ],
   "source": [
    "from sklearn.preprocessing import OneHotEncoder\n",
    "ohe = OneHotEncoder()\n",
    "X = np.array([[0], [1], [2]]) # 범주의 개수만큼 변수로 변경\n",
    "X\n",
    "ohe.fit(X)\n",
    "ohe.categories_\n"
   ]
  },
  {
   "cell_type": "code",
   "execution_count": 167,
   "metadata": {},
   "outputs": [
    {
     "name": "stdout",
     "output_type": "stream",
     "text": [
      "  (0, 0)\t1.0\n",
      "  (1, 1)\t1.0\n",
      "  (2, 2)\t1.0\n"
     ]
    }
   ],
   "source": [
    "print(ohe.transform(X))"
   ]
  },
  {
   "cell_type": "code",
   "execution_count": 169,
   "metadata": {},
   "outputs": [
    {
     "name": "stdout",
     "output_type": "stream",
     "text": [
      "[[1. 0. 0.]\n",
      " [0. 1. 0.]\n",
      " [0. 0. 1.]]\n"
     ]
    }
   ],
   "source": [
    "print(ohe.transform(X).toarray())"
   ]
  },
  {
   "cell_type": "code",
   "execution_count": 187,
   "metadata": {
    "scrolled": true
   },
   "outputs": [
    {
     "name": "stdout",
     "output_type": "stream",
     "text": [
      "[array([0, 1]), array([0, 1, 2]), array([0, 1, 2, 3, 4])]\n",
      "  (0, 0)\t1.0\n",
      "  (0, 2)\t1.0\n",
      "  (0, 9)\t1.0\n",
      "  (1, 1)\t1.0\n",
      "  (1, 3)\t1.0\n",
      "  (1, 5)\t1.0\n",
      "  (2, 0)\t1.0\n",
      "  (2, 4)\t1.0\n",
      "  (2, 6)\t1.0\n",
      "  (3, 1)\t1.0\n",
      "  (3, 2)\t1.0\n",
      "  (3, 7)\t1.0\n",
      "  (4, 1)\t1.0\n",
      "  (4, 3)\t1.0\n",
      "  (4, 8)\t1.0\n",
      "[[1. 0. 1. 0. 0. 0. 0. 0. 0. 1.]\n",
      " [0. 1. 0. 1. 0. 1. 0. 0. 0. 0.]\n",
      " [1. 0. 0. 0. 1. 0. 1. 0. 0. 0.]\n",
      " [0. 1. 1. 0. 0. 0. 0. 1. 0. 0.]\n",
      " [0. 1. 0. 1. 0. 0. 0. 0. 1. 0.]]\n"
     ]
    }
   ],
   "source": [
    "# 문제 : 원핫인코딩 하여라\n",
    "#np.array([[0, 0, 4], [1, 1, 0], [0, 2, 1], [1, 0, 2], [1, 1, 3]])\n",
    "\n",
    "\n",
    "X = np.array([[0, 0, 4],\n",
    "              [1, 1, 0],\n",
    "              [0, 2, 1],\n",
    "              [1, 0, 2],\n",
    "              [1, 1, 3]])\n",
    "X\n",
    "ohe.fit(X)#학습\n",
    "print(ohe.categories_)# 카테고리 확인 -> 각행의 범주\n",
    "print(ohe.transform(X))# 트랜스폼\n",
    "print(ohe.transform(X).toarray())#배열화 5x3 -> 5x10 : 5x(2+3+5)"
   ]
  },
  {
   "cell_type": "code",
   "execution_count": 188,
   "metadata": {},
   "outputs": [
    {
     "data": {
      "text/plain": [
       "array([1, 2, 6])"
      ]
     },
     "execution_count": 188,
     "metadata": {},
     "output_type": "execute_result"
    }
   ],
   "source": [
    "from sklearn.preprocessing import LabelEncoder # 레이블로 범주화\n",
    "le = LabelEncoder()\n",
    "le.fit([1, 2, 2, 6])\n",
    "le.classes_"
   ]
  },
  {
   "cell_type": "code",
   "execution_count": 189,
   "metadata": {},
   "outputs": [
    {
     "data": {
      "text/plain": [
       "array([0, 0, 1, 2], dtype=int64)"
      ]
     },
     "execution_count": 189,
     "metadata": {},
     "output_type": "execute_result"
    }
   ],
   "source": [
    "le.transform([1, 1, 2, 6]) # [1, 2, 6]과 인덱스"
   ]
  },
  {
   "cell_type": "code",
   "execution_count": 190,
   "metadata": {},
   "outputs": [
    {
     "data": {
      "text/plain": [
       "array([1, 1, 2, 6])"
      ]
     },
     "execution_count": 190,
     "metadata": {},
     "output_type": "execute_result"
    }
   ],
   "source": [
    "le.inverse_transform([0, 0, 1, 2]) # 원상태로 돌려놓기"
   ]
  },
  {
   "cell_type": "code",
   "execution_count": 193,
   "metadata": {},
   "outputs": [
    {
     "data": {
      "text/plain": [
       "array([[2., 0., 1.],\n",
       "       [0., 1., 3.]])"
      ]
     },
     "execution_count": 193,
     "metadata": {},
     "output_type": "execute_result"
    }
   ],
   "source": [
    "# Dict를 벡터로 변환 (범주화)\n",
    "# text mining(텍스트의 출현횟수 추출) 할때 사용\n",
    "# 책을 분석 -> 책에 단어 찾고 -> 갯수를 카운트 -> 많은 단어가 중심단어\n",
    "# 같이 나타나는 단어들 -> 특징화 추출 SVD\n",
    "# : topic analysis : 문서의 주제분석\n",
    "from sklearn.feature_extraction import DictVectorizer\n",
    "v = DictVectorizer(sparse=False)\n",
    "D = [{'foo': 1, 'bar': 2}, {'foo': 3, 'baz': 1}] # key값으로 범주화 값은 범주의 순서에 따라 지정\n",
    "X = v.fit_transform(D) # 학습, 변형\n",
    "X"
   ]
  },
  {
   "cell_type": "code",
   "execution_count": 194,
   "metadata": {},
   "outputs": [
    {
     "data": {
      "text/plain": [
       "['bar', 'baz', 'foo']"
      ]
     },
     "execution_count": 194,
     "metadata": {},
     "output_type": "execute_result"
    }
   ],
   "source": [
    "v.feature_names_"
   ]
  },
  {
   "cell_type": "code",
   "execution_count": 195,
   "metadata": {},
   "outputs": [
    {
     "data": {
      "text/plain": [
       "[{'bar': 2.0, 'foo': 1.0}, {'baz': 1.0, 'foo': 3.0}]"
      ]
     },
     "execution_count": 195,
     "metadata": {},
     "output_type": "execute_result"
    }
   ],
   "source": [
    "v.inverse_transform(X) #dict는 순서가 중요하지 않음 (key로 하니까)"
   ]
  }
 ],
 "metadata": {
  "kernelspec": {
   "display_name": "Python 3",
   "language": "python",
   "name": "python3"
  },
  "language_info": {
   "codemirror_mode": {
    "name": "ipython",
    "version": 3
   },
   "file_extension": ".py",
   "mimetype": "text/x-python",
   "name": "python",
   "nbconvert_exporter": "python",
   "pygments_lexer": "ipython3",
   "version": "3.8.3"
  }
 },
 "nbformat": 4,
 "nbformat_minor": 4
}
