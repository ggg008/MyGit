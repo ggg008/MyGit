{
 "cells": [
  {
   "cell_type": "code",
   "execution_count": 6,
   "metadata": {
    "scrolled": true
   },
   "outputs": [
    {
     "name": "stdout",
     "output_type": "stream",
     "text": [
      "XOR 문제\n",
      "입력 값 : (0, 0) 출력 값 : 0\n",
      "입력 값 : (1, 0) 출력 값 : 1\n",
      "입력 값 : (0, 1) 출력 값 : 1\n",
      "입력 값 : (1, 1) 출력 값 : 0\n",
      "OR 문제\n",
      "입력 값 : (0, 0) 출력 값 : 0\n",
      "입력 값 : (1, 0) 출력 값 : 1\n",
      "입력 값 : (0, 1) 출력 값 : 1\n",
      "입력 값 : (1, 1) 출력 값 : 1\n",
      "AND 문제\n",
      "입력 값 : (0, 0) 출력 값 : 0\n",
      "입력 값 : (1, 0) 출력 값 : 0\n",
      "입력 값 : (0, 1) 출력 값 : 0\n",
      "입력 값 : (1, 1) 출력 값 : 1\n",
      "NAND 문제\n",
      "입력 값 : (0, 0) 출력 값 : 1\n",
      "입력 값 : (1, 0) 출력 값 : 1\n",
      "입력 값 : (0, 1) 출력 값 : 1\n",
      "입력 값 : (1, 1) 출력 값 : 0\n"
     ]
    }
   ],
   "source": [
    "\"\"\"\n",
    "퍼셉트론 perceptron\n",
    "\"\"\"\n",
    "import numpy as np\n",
    "# 가중치 - ANN -> 학습의 대상\n",
    "# 가중치를 이용한 XOR 해결\n",
    "w11 = np.array([-2, -2]) # weight\n",
    "w12 = np.array([2, 2])\n",
    "w2 = np.array([1, 1])\n",
    "\n",
    "b1 = 3 # bias : 0으로 가는것을 방지 y = ax + b: 절편역할 # 가중치 연산 결과값에 +\n",
    "b2 = -1\n",
    "b3 = -1\n",
    "def MLP(x, w, b): # multi layer perceptron\n",
    "    y = np.sum(w * x) + b\n",
    "    # 연산의 결과는 연속적 수치 -> y/n -> 0~1 값을 매핑 af (sigmoid) : 0.5 > y = 1, else = 0\n",
    "    if y <= 0: # activation function 의 역할 : 소수점 연산, 신경망 : 정규화\n",
    "        return 0\n",
    "    else:\n",
    "        return 1\n",
    "def NAND(x1, x2):\n",
    "    return MLP(np.array([x1, x2]), w11, b1)\n",
    "def OR(x1, x2):\n",
    "    return MLP(np.array([x1, x2]), w12, b2)\n",
    "def AND(x1, x2):\n",
    "    return MLP(np.array([x1, x2]), w2, b3)\n",
    "def XOR(x1, x2):\n",
    "    return AND(NAND(x1, x2), OR(x1, x2))\n",
    "print(\"XOR 문제\")\n",
    "for x in [(0, 0), (1, 0), (0, 1), (1, 1)]:\n",
    "    y = XOR(x[0], x[1])\n",
    "    print(\"입력 값 : \" + str(x) + \" 출력 값 : \" + str(y))\n",
    "print(\"OR 문제\")\n",
    "for x in [(0, 0), (1, 0), (0, 1), (1, 1)]:\n",
    "    y = OR(x[0], x[1])\n",
    "    print(\"입력 값 : \" + str(x) + \" 출력 값 : \" + str(y))   \n",
    "print(\"AND 문제\")\n",
    "for x in [(0, 0), (1, 0), (0, 1), (1, 1)]:\n",
    "    y = AND(x[0], x[1])\n",
    "    print(\"입력 값 : \" + str(x) + \" 출력 값 : \" + str(y))  \n",
    "print(\"NAND 문제\")\n",
    "for x in [(0, 0), (1, 0), (0, 1), (1, 1)]:\n",
    "    y = NAND(x[0], x[1])\n",
    "    print(\"입력 값 : \" + str(x) + \" 출력 값 : \" + str(y)) \n"
   ]
  },
  {
   "cell_type": "code",
   "execution_count": 187,
   "metadata": {},
   "outputs": [
    {
     "name": "stdout",
     "output_type": "stream",
     "text": [
      "(100, 2)\n",
      "(75, 2)\n"
     ]
    },
    {
     "data": {
      "image/png": "[encoded data removed]",
      "text/plain": [
       "<Figure size 432x288 with 1 Axes>"
      ]
     },
     "metadata": {},
     "output_type": "display_data"
    }
   ],
   "source": [
    "%matplotlib inline\n",
    "import matplotlib.pyplot as plt\n",
    "import mglearn # 학습에 도움을 주는 패키지\n",
    "\n",
    "from sklearn.neural_network import MLPClassifier\n",
    "from sklearn.datasets import make_moons\n",
    "from sklearn.model_selection import train_test_split\n",
    "\n",
    "X, y = make_moons(n_samples=100, noise=0.25, random_state=3)# (100, 2)\n",
    "\n",
    "print(X.shape)\n",
    "X_train, X_test, y_train, y_test = train_test_split(X, y, stratify=y, random_state=42)\n",
    "\n",
    "# 결과 예측불가 # hyper parameter : optimaze 해야 알수 있다\n",
    "# https://scikit-learn.org/stable/modules/generated/sklearn.neural_network.MLPClassifier.html?highlight=mlp#sklearn.neural_network.MLPClassifier\n",
    "# batch_size를 사용하는 이유는 기울기 0으로 갈 확률이 적어짐\n",
    "# constant : 불변, invscaling' : 역스케일링, 'adaptive' : 적응\n",
    "\n",
    "# mlp = MLPClassifier(max_iter=3000, activation='relu', solver='adam', alpha=0.01, random_state=0).fit(X_train, y_train) # 현재 과적합\n",
    "mlp = MLPClassifier(solver='lbfgs', random_state=0, hidden_layer_sizes=[10, 10]).fit(X_train, y_train)\n",
    "mglearn.plots.plot_2d_separator(mlp, X_train, fill=True, alpha=.3) # 선\n",
    "mglearn.discrete_scatter(X_train[:, 0], X_train[:, 1], y_train)\n",
    "plt.xlabel(\"특성 0\")\n",
    "plt.ylabel(\"특성 1\")\n",
    "\n",
    "print(X_train.shape)"
   ]
  },
  {
   "cell_type": "code",
   "execution_count": 181,
   "metadata": {},
   "outputs": [
    {
     "data": {
      "text/plain": [
       "3"
      ]
     },
     "execution_count": 181,
     "metadata": {},
     "output_type": "execute_result"
    }
   ],
   "source": [
    "# 입력 생성레이어 출력\n",
    "mlp.n_layers_"
   ]
  },
  {
   "cell_type": "code",
   "execution_count": 188,
   "metadata": {},
   "outputs": [
    {
     "data": {
      "text/plain": [
       "[array([[-0.15855127,  1.65408267, -0.74007897, -3.95416422, -0.1076738 ,\n",
       "          7.37539571, -0.08802416,  9.81913382,  7.99356564,  0.25296731],\n",
       "        [-1.40130717,  1.17896331,  4.7764105 , -1.35478871, -0.60499122,\n",
       "         -3.93952976, -0.67666214,  0.47959084,  0.40007515, -0.46719005]]),\n",
       " array([[-2.57212608e-01,  2.54649014e-01, -1.14412726e+00,\n",
       "          1.00730872e+00, -5.41076910e-01, -5.93907060e-01,\n",
       "          3.78895783e-01,  7.68311646e-02, -2.08326606e+00,\n",
       "          4.07711948e+00],\n",
       "        [-1.53481421e-01, -6.77908766e-02, -4.28876578e-01,\n",
       "         -1.27504242e-01,  1.82185280e-01,  4.66638824e-01,\n",
       "         -1.69792897e+00, -4.13108923e-01, -6.64731654e-01,\n",
       "          3.06872837e+00],\n",
       "        [ 7.66868751e-02, -6.58955426e-02,  1.70524181e+00,\n",
       "         -7.43717100e-01, -3.18039302e-01, -5.11723931e-01,\n",
       "          1.60457073e+00, -2.69518041e-01,  1.28711884e-01,\n",
       "         -7.33164618e-01],\n",
       "        [-3.72560686e-01, -4.43794280e-01,  1.33587069e+00,\n",
       "         -9.62160493e-01, -3.43702248e-01, -2.77560866e+00,\n",
       "          8.38735335e-01, -4.45748053e-01,  6.27962645e-01,\n",
       "          2.29176261e+00],\n",
       "        [ 5.20510947e-01, -3.42471793e-02,  5.20840457e-01,\n",
       "          1.14539105e-01,  2.61384906e-01, -5.03417009e-01,\n",
       "         -2.37273812e-01, -4.14918503e-01, -2.22707841e-01,\n",
       "         -4.16523148e-01],\n",
       "        [-1.98845347e-01, -1.04991505e-01, -1.17925456e+00,\n",
       "          1.59150925e+00, -1.22850411e-01,  2.02523573e-01,\n",
       "         -1.18110225e+00, -4.64099890e-01,  2.10702448e+00,\n",
       "          2.80257381e+00],\n",
       "        [-1.98205416e-01,  1.82888455e-01, -4.02244593e-01,\n",
       "          2.36327928e-01, -2.30064553e-01, -3.46099462e-01,\n",
       "          9.45115649e-02, -5.24261336e-01,  3.59352471e-01,\n",
       "         -5.41098343e-01],\n",
       "        [ 1.94256722e-01, -2.72257874e-01, -2.14012907e+00,\n",
       "          1.80599630e+00, -3.18388449e-01,  1.10513174e+00,\n",
       "         -2.33583598e+00,  7.89320198e-02, -4.57368999e+00,\n",
       "          8.41030766e+00],\n",
       "        [-5.77631914e-02,  3.63403314e-01,  4.64614545e+00,\n",
       "         -1.41837197e+00,  3.42810275e-01,  1.00008419e+00,\n",
       "          8.12705283e+00,  8.87870281e-02,  4.70063610e+00,\n",
       "         -1.07241148e+01],\n",
       "        [ 2.46080364e-01,  1.44682883e-03,  6.14022358e-01,\n",
       "          1.57302941e-01, -8.31850004e-02, -4.06430985e-01,\n",
       "          4.76967791e-01, -2.16770760e-01, -4.08127231e-01,\n",
       "         -1.10809279e+00]]),\n",
       " array([[ 0.58413979],\n",
       "        [-0.18611463],\n",
       "        [-3.9913987 ],\n",
       "        [ 2.26147951],\n",
       "        [ 0.43064842],\n",
       "        [ 1.96698676],\n",
       "        [-3.30768214],\n",
       "        [ 0.60082861],\n",
       "        [-9.72816176],\n",
       "        [ 3.57316429]])]"
      ]
     },
     "execution_count": 188,
     "metadata": {},
     "output_type": "execute_result"
    }
   ],
   "source": [
    "# [20]사이즈 단독 : 100x2 -> 2x20 : 2는 앞의 행에 맞추어 결정 # 바이어스가 20\n",
    "# [10, 10] 두개의 레이어 : 100x2 -> 2x10 -> 10x10 # 바이어스 10 : 3번째 행렬 10은 앞의 행에 맞추어 결정\n",
    "mlp.coefs_ # coef ficient"
   ]
  },
  {
   "cell_type": "code",
   "execution_count": 28,
   "metadata": {
    "scrolled": true
   },
   "outputs": [
    {
     "data": {
      "image/png": "[encoded data removed]",
      "text/plain": [
       "<Figure size 1440x576 with 8 Axes>"
      ]
     },
     "metadata": {},
     "output_type": "display_data"
    }
   ],
   "source": [
    "fig, axes = plt.subplots(2, 4, figsize=(20, 8))\n",
    "\"\"\"\n",
    " 100x2 2x10 100x10\n",
    " 100x2 2x100(2개의 변수에서 100개의 변수로 확장) 100x100 (시각화 결론 : 특성이 많으면 과적합된다)\n",
    " alpha 신경망에서의 규제(reqularization) : 과적합 방지\n",
    " 규제가 크면 - 일반화, 작으면 - 과적합\n",
    "\"\"\"\n",
    "for axx, n_hidden_nodes in zip(axes, [10, 100]): # 레이어의 아웃풋 차수\n",
    "    for ax, alpha in zip(axx, [0.1, 0.001, 0.0001, 0.00001]):\n",
    "        mlp = MLPClassifier(solver='lbfgs', random_state=0, activation='tanh', \n",
    "                            hidden_layer_sizes=[n_hidden_nodes, n_hidden_nodes],\n",
    "                           alpha=alpha)\n",
    "        mlp.fit(X_train, y_train)\n",
    "        mglearn.plots.plot_2d_separator(mlp, X_train, fill=True, alpha=.3, ax=ax)\n",
    "        mglearn.discrete_scatter(X_train[:, 0], X_train[:, 1], y_train, ax=ax)\n",
    "        ax.set_title(\"n_hidden=[{}, {}]\\nalpha={:.4f}\".format(n_hidden_nodes, n_hidden_nodes, alpha))"
   ]
  },
  {
   "cell_type": "code",
   "execution_count": 29,
   "metadata": {
    "scrolled": false
   },
   "outputs": [
    {
     "name": "stdout",
     "output_type": "stream",
     "text": [
      "유방암 데이터의 특성별 최대값:\n",
      "[2.811e+01 3.928e+01 1.885e+02 2.501e+03 1.634e-01 3.454e-01 4.268e-01\n",
      " 2.012e-01 3.040e-01 9.744e-02 2.873e+00 4.885e+00 2.198e+01 5.422e+02\n",
      " 3.113e-02 1.354e-01 3.960e-01 5.279e-02 7.895e-02 2.984e-02 3.604e+01\n",
      " 4.954e+01 2.512e+02 4.254e+03 2.226e-01 1.058e+00 1.252e+00 2.910e-01\n",
      " 6.638e-01 2.075e-01]\n"
     ]
    }
   ],
   "source": [
    "from sklearn.datasets import load_breast_cancer\n",
    "cancer = load_breast_cancer()\n",
    "print(\"유방암 데이터의 특성별 최대값:\\n{}\".format(cancer.data.max(axis=0)))"
   ]
  },
  {
   "cell_type": "code",
   "execution_count": 32,
   "metadata": {},
   "outputs": [
    {
     "data": {
      "text/plain": [
       "(569, 30)"
      ]
     },
     "execution_count": 32,
     "metadata": {},
     "output_type": "execute_result"
    }
   ],
   "source": [
    "import pandas as pd\n",
    "pd.DataFrame(cancer.data).shape"
   ]
  },
  {
   "cell_type": "code",
   "execution_count": 35,
   "metadata": {},
   "outputs": [
    {
     "name": "stdout",
     "output_type": "stream",
     "text": [
      "훈련 세트 정확도 : 0.94\n",
      "테스트 세트 정확도 : 0.92\n"
     ]
    }
   ],
   "source": [
    "# 569x30\n",
    "X_train, X_test, y_train, y_test = train_test_split(cancer.data, cancer.target, random_state=0)\n",
    "\n",
    "mlp = MLPClassifier(random_state=42)\n",
    "mlp.fit(X_train, y_train)\n",
    "\n",
    "print(\"훈련 세트 정확도 : {:.2f}\".format(mlp.score(X_train, y_train))) # 94이 나왔다\n",
    "print(\"테스트 세트 정확도 : {:.2f}\".format(mlp.score(X_test, y_test))) # 만약 80이 나온다면 과적합\n"
   ]
  },
  {
   "cell_type": "code",
   "execution_count": 42,
   "metadata": {},
   "outputs": [
    {
     "name": "stdout",
     "output_type": "stream",
     "text": [
      "훈련 세트 정확도 : 0.988\n",
      "테스트 세트 정확도 : 0.979\n"
     ]
    }
   ],
   "source": [
    "mean_on_train = X_train.mean(axis=0)\n",
    "std_on_train = X_train.std(axis=0)\n",
    "\n",
    "X_train_scaled = (X_train - mean_on_train) / std_on_train\n",
    "X_test_scaled = (X_test - mean_on_train) / std_on_train\n",
    "\n",
    "mlp = MLPClassifier(max_iter=1000, alpha=1, solver='sgd', activation='tanh', random_state=0)\n",
    "mlp.fit(X_train_scaled, y_train)\n",
    "\n",
    "print(\"훈련 세트 정확도 : {:.3f}\".format(mlp.score(X_train_scaled, y_train))) \n",
    "print(\"테스트 세트 정확도 : {:.3f}\".format(mlp.score(X_test_scaled, y_test))) \n",
    "\n"
   ]
  },
  {
   "cell_type": "code",
   "execution_count": 55,
   "metadata": {
    "scrolled": false
   },
   "outputs": [
    {
     "data": {
      "text/plain": [
       "{'activation': 'tanh',\n",
       " 'alpha': 1,\n",
       " 'batch_size': 'auto',\n",
       " 'beta_1': 0.9,\n",
       " 'beta_2': 0.999,\n",
       " 'early_stopping': False,\n",
       " 'epsilon': 1e-08,\n",
       " 'hidden_layer_sizes': (100,),\n",
       " 'learning_rate': 'constant',\n",
       " 'learning_rate_init': 0.001,\n",
       " 'max_iter': 1000,\n",
       " 'momentum': 0.9,\n",
       " 'n_iter_no_change': 10,\n",
       " 'nesterovs_momentum': True,\n",
       " 'power_t': 0.5,\n",
       " 'random_state': 0,\n",
       " 'shuffle': True,\n",
       " 'solver': 'sgd',\n",
       " 'tol': 0.0001,\n",
       " 'validation_fraction': 0.1,\n",
       " 'verbose': False,\n",
       " 'warm_start': False}"
      ]
     },
     "execution_count": 55,
     "metadata": {},
     "output_type": "execute_result"
    }
   ],
   "source": [
    "mlp.get_params()"
   ]
  },
  {
   "cell_type": "code",
   "execution_count": 47,
   "metadata": {},
   "outputs": [
    {
     "data": {
      "text/plain": [
       "3"
      ]
     },
     "execution_count": 47,
     "metadata": {},
     "output_type": "execute_result"
    }
   ],
   "source": [
    "# (569, 30) 30x100\n",
    "mlp.n_layers_"
   ]
  },
  {
   "cell_type": "code",
   "execution_count": 48,
   "metadata": {
    "scrolled": false
   },
   "outputs": [
    {
     "data": {
      "text/plain": [
       "[array([[ 0.03474121,  0.04524796,  0.05159253, ..., -0.16689027,\n",
       "          0.1039475 , -0.16231781],\n",
       "        [ 0.07528031, -0.09517393,  0.09854737, ..., -0.10040769,\n",
       "         -0.13171199, -0.03119848],\n",
       "        [-0.03943264,  0.03968993, -0.01858482, ...,  0.09620901,\n",
       "          0.14876056,  0.13604547],\n",
       "        ...,\n",
       "        [-0.08294828,  0.02362873,  0.10288543, ...,  0.0483176 ,\n",
       "          0.11382008, -0.02611098],\n",
       "        [ 0.00071433, -0.09224719, -0.12825274, ..., -0.06589555,\n",
       "          0.13810732, -0.06366936],\n",
       "        [-0.13660954, -0.0381702 ,  0.10304202, ..., -0.06355632,\n",
       "          0.09751167,  0.05702818]]), array([[-0.07362611],\n",
       "        [ 0.12891075],\n",
       "        [-0.15335958],\n",
       "        [ 0.27762568],\n",
       "        [ 0.11024681],\n",
       "        [-0.04298303],\n",
       "        [ 0.07199022],\n",
       "        [ 0.09741096],\n",
       "        [ 0.31041886],\n",
       "        [-0.23212829],\n",
       "        [-0.10886169],\n",
       "        [ 0.12036328],\n",
       "        [-0.18110505],\n",
       "        [ 0.40121763],\n",
       "        [ 0.01414669],\n",
       "        [ 0.04659554],\n",
       "        [-0.12752731],\n",
       "        [ 0.05369831],\n",
       "        [ 0.12561714],\n",
       "        [-0.30040405],\n",
       "        [ 0.09291682],\n",
       "        [ 0.09719114],\n",
       "        [-0.18509696],\n",
       "        [-0.13047436],\n",
       "        [-0.10749759],\n",
       "        [-0.18812774],\n",
       "        [-0.07239872],\n",
       "        [-0.05431266],\n",
       "        [-0.33088039],\n",
       "        [-0.09383707],\n",
       "        [-0.05991712],\n",
       "        [ 0.09231907],\n",
       "        [ 0.11495834],\n",
       "        [ 0.20318961],\n",
       "        [-0.30760371],\n",
       "        [ 0.08380212],\n",
       "        [-0.00472153],\n",
       "        [ 0.37662489],\n",
       "        [ 0.41359151],\n",
       "        [-0.10011804],\n",
       "        [-0.13280747],\n",
       "        [ 0.18026348],\n",
       "        [-0.2571806 ],\n",
       "        [-0.14699802],\n",
       "        [ 0.19462375],\n",
       "        [ 0.17705582],\n",
       "        [-0.19193656],\n",
       "        [ 0.20481903],\n",
       "        [ 0.10102454],\n",
       "        [ 0.03353993],\n",
       "        [-0.01248961],\n",
       "        [ 0.06969841],\n",
       "        [-0.11880675],\n",
       "        [ 0.19091161],\n",
       "        [-0.25949843],\n",
       "        [ 0.09257833],\n",
       "        [ 0.00797507],\n",
       "        [ 0.15788303],\n",
       "        [-0.00978774],\n",
       "        [ 0.25775663],\n",
       "        [ 0.12519159],\n",
       "        [-0.25367499],\n",
       "        [-0.02227968],\n",
       "        [-0.22694912],\n",
       "        [-0.29751982],\n",
       "        [-0.11489833],\n",
       "        [ 0.15738758],\n",
       "        [ 0.24957836],\n",
       "        [-0.29569656],\n",
       "        [ 0.09012416],\n",
       "        [ 0.15840904],\n",
       "        [-0.10818818],\n",
       "        [-0.01956946],\n",
       "        [-0.09907388],\n",
       "        [ 0.07575687],\n",
       "        [-0.12461214],\n",
       "        [-0.12796361],\n",
       "        [-0.08850438],\n",
       "        [-0.15840698],\n",
       "        [-0.25418095],\n",
       "        [-0.04840839],\n",
       "        [-0.03691469],\n",
       "        [-0.18135885],\n",
       "        [ 0.13101095],\n",
       "        [ 0.13278635],\n",
       "        [-0.0929345 ],\n",
       "        [-0.27305781],\n",
       "        [ 0.03615211],\n",
       "        [-0.24752877],\n",
       "        [-0.17961631],\n",
       "        [-0.05558199],\n",
       "        [ 0.02161701],\n",
       "        [-0.09187959],\n",
       "        [ 0.03673367],\n",
       "        [ 0.19047354],\n",
       "        [-0.00198082],\n",
       "        [ 0.3973464 ],\n",
       "        [ 0.13978565],\n",
       "        [-0.04229961],\n",
       "        [ 0.06762129]])]"
      ]
     },
     "execution_count": 48,
     "metadata": {},
     "output_type": "execute_result"
    }
   ],
   "source": [
    "mlp.coefs_"
   ]
  },
  {
   "cell_type": "code",
   "execution_count": 49,
   "metadata": {},
   "outputs": [
    {
     "name": "stdout",
     "output_type": "stream",
     "text": [
      "전체 (2, 1)\n",
      "(2,)\n",
      "(30, 100)\n"
     ]
    }
   ],
   "source": [
    "co = pd.DataFrame(mlp.coefs_)\n",
    "print('전체', co.shape)\n",
    "print(co[0].shape)\n",
    "print(co[0][0].shape)"
   ]
  },
  {
   "cell_type": "code",
   "execution_count": 53,
   "metadata": {},
   "outputs": [
    {
     "data": {
      "text/plain": [
       "<matplotlib.colorbar.Colorbar at 0x23888494988>"
      ]
     },
     "execution_count": 53,
     "metadata": {},
     "output_type": "execute_result"
    },
    {
     "data": {
      "image/png": "[encoded data removed]",
      "text/plain": [
       "<Figure size 1440x360 with 2 Axes>"
      ]
     },
     "metadata": {
      "needs_background": "light"
     },
     "output_type": "display_data"
    }
   ],
   "source": [
    "# (569, 30) 가중치:30x100 # 계산시 내적\n",
    "# 다차원방정식과 같다 : 가중치는 다차원방정식의 계수들이다\n",
    "import matplotlib.pyplot as plt\n",
    "plt.figure(figsize=(20, 5))\n",
    "# interpolation : 보간법 : 컬러를 결정할수 없는 경우에 주변값을 보고 결정하라\n",
    "plt.imshow(mlp.coefs_[0], interpolation='none', cmap='viridis')\n",
    "plt.yticks(range(30), cancer.feature_names)\n",
    "plt.ylabel(\"은닉 유닛\")\n",
    "plt.xlabel(\"입력 특성\")\n",
    "plt.colorbar()"
   ]
  },
  {
   "cell_type": "code",
   "execution_count": 56,
   "metadata": {},
   "outputs": [
    {
     "name": "stdout",
     "output_type": "stream",
     "text": [
      "   Cultivator  Alchol  Malic_Acid   Ash  Alcalinity_of_Ash  Magnesium  \\\n",
      "0           1   14.23        1.71  2.43               15.6        127   \n",
      "1           1   13.20        1.78  2.14               11.2        100   \n",
      "2           1   13.16        2.36  2.67               18.6        101   \n",
      "3           1   14.37        1.95  2.50               16.8        113   \n",
      "4           1   13.24        2.59  2.87               21.0        118   \n",
      "\n",
      "   Total_phenols  Falvanoids  Nonflavanoid_phenols  Proanthocyanins  \\\n",
      "0           2.80        3.06                  0.28             2.29   \n",
      "1           2.65        2.76                  0.26             1.28   \n",
      "2           2.80        3.24                  0.30             2.81   \n",
      "3           3.85        3.49                  0.24             2.18   \n",
      "4           2.80        2.69                  0.39             1.82   \n",
      "\n",
      "   Color_intensity   Hue  OD280  Proline  \n",
      "0             5.64  1.04   3.92     1065  \n",
      "1             4.38  1.05   3.40     1050  \n",
      "2             5.68  1.03   3.17     1185  \n",
      "3             7.80  0.86   3.45     1480  \n",
      "4             4.32  1.04   2.93      735  \n"
     ]
    }
   ],
   "source": [
    "# email\n",
    "# 문제 : 신경망으로 분류 하라\n",
    "import pandas as pd\n",
    "wine = pd.read_csv('./wine.csv', names = [\"Cultivator\", \"Alchol\", \"Malic_Acid\", \"Ash\",\n",
    "                                             \"Alcalinity_of_Ash\", \"Magnesium\", \"Total_phenols\",\n",
    "                                             \"Falvanoids\", \"Nonflavanoid_phenols\",\n",
    "                                             \"Proanthocyanins\", \"Color_intensity\", \"Hue\",\n",
    "                                             \"OD280\", \"Proline\"], encoding=\"utf-8\")\n",
    "print (wine.head()) \n"
   ]
  },
  {
   "cell_type": "code",
   "execution_count": 101,
   "metadata": {},
   "outputs": [
    {
     "name": "stdout",
     "output_type": "stream",
     "text": [
      "훈련 세트 정확도 : 0.99\n",
      "테스트 세트 정확도 : 0.98\n",
      "(133, 13)\n"
     ]
    },
    {
     "data": {
      "text/plain": [
       "3"
      ]
     },
     "execution_count": 101,
     "metadata": {},
     "output_type": "execute_result"
    }
   ],
   "source": [
    "# 해결시도, 이상한듯..\n",
    "X = wine.drop(['Cultivator'], axis=1)\n",
    "y = wine[\"Cultivator\"]\n",
    "X_train, X_test, y_train, y_test = train_test_split(X, y, stratify=y, random_state=42)\n",
    "X.shape\n",
    "\n",
    "mlp = MLPClassifier(max_iter=1000, alpha=1, solver='adam', activation='tanh', random_state=0)\n",
    "mlp.fit(X_train, y_train)\n",
    "\n",
    "print(\"훈련 세트 정확도 : {:.2f}\".format(mlp.score(X_train, y_train)))\n",
    "print(\"테스트 세트 정확도 : {:.2f}\".format(mlp.score(X_test, y_test)))\n",
    "print(X_train.shape)\n",
    "\n",
    "mlp.get_params()\n",
    "mlp.n_layers_"
   ]
  },
  {
   "cell_type": "code",
   "execution_count": null,
   "metadata": {},
   "outputs": [],
   "source": [
    "\"\"\"\n",
    "오후 시작 ===========================================================================================================================================================================================================\n",
    "\"\"\""
   ]
  },
  {
   "cell_type": "code",
   "execution_count": 97,
   "metadata": {},
   "outputs": [
    {
     "data": {
      "text/plain": [
       "array([1, 2, 3], dtype=int64)"
      ]
     },
     "execution_count": 97,
     "metadata": {},
     "output_type": "execute_result"
    }
   ],
   "source": [
    "wine['Cultivator'].unique()\n",
    "print(wine.shape)"
   ]
  },
  {
   "cell_type": "code",
   "execution_count": 102,
   "metadata": {},
   "outputs": [
    {
     "name": "stdout",
     "output_type": "stream",
     "text": [
      "[[15  0  0]\n",
      " [ 0 18  0]\n",
      " [ 0  1 11]]\n",
      "              precision    recall  f1-score   support\n",
      "\n",
      "           1       1.00      1.00      1.00        15\n",
      "           2       0.95      1.00      0.97        18\n",
      "           3       1.00      0.92      0.96        12\n",
      "\n",
      "    accuracy                           0.98        45\n",
      "   macro avg       0.98      0.97      0.98        45\n",
      "weighted avg       0.98      0.98      0.98        45\n",
      "\n"
     ]
    }
   ],
   "source": [
    "# 정답\n",
    "from sklearn.model_selection import train_test_split\n",
    "X = wine.drop(['Cultivator'], axis=1)\n",
    "y = wine[\"Cultivator\"]\n",
    "\n",
    "X_train, X_test, y_train, y_test = train_test_split(X, y, stratify=y, random_state=42)\n",
    "\n",
    "from sklearn.preprocessing import StandardScaler\n",
    "\n",
    "scaler = StandardScaler()\n",
    "scaler.fit(X_train)\n",
    "\n",
    "X_train = scaler.transform(X_train)\n",
    "X_test = scaler.transform(X_test)\n",
    "\n",
    "from sklearn.neural_network import MLPClassifier\n",
    "mlp = MLPClassifier(hidden_layer_sizes=(50,30,30), max_iter=1000)\n",
    "mlp.fit(X_train, y_train)\n",
    "\n",
    "from sklearn.metrics import classification_report\n",
    "from sklearn.metrics import confusion_matrix\n",
    "predictions = mlp.predict(X_test)\n",
    "print(confusion_matrix(y_test, predictions))\n",
    "print(classification_report(y_test, predictions))\n"
   ]
  },
  {
   "cell_type": "code",
   "execution_count": 104,
   "metadata": {},
   "outputs": [
    {
     "data": {
      "text/plain": [
       "GridSearchCV(cv=5, error_score='raise-deprecating',\n",
       "             estimator=MLPClassifier(activation='relu', alpha=0.0001,\n",
       "                                     batch_size='auto', beta_1=0.9,\n",
       "                                     beta_2=0.999, early_stopping=False,\n",
       "                                     epsilon=1e-08,\n",
       "                                     hidden_layer_sizes=(30, 30, 30),\n",
       "                                     learning_rate='constant',\n",
       "                                     learning_rate_init=0.001, max_iter=1000,\n",
       "                                     momentum=0.9, n_iter_no_change=10,\n",
       "                                     nesterovs_momentum=True, power_t=0.5,\n",
       "                                     random_state=None, shuffle=True,\n",
       "                                     solver='adam', tol=0.0001,\n",
       "                                     validation_fraction=0.1, verbose=False,\n",
       "                                     warm_start=False),\n",
       "             iid='warn', n_jobs=None,\n",
       "             param_grid={'alpha': [0.0001, 0.001, 0.1, 1],\n",
       "                         'hidden_layer_sizes': [(30, 30, 30), (30, 20, 10)]},\n",
       "             pre_dispatch='2*n_jobs', refit=True, return_train_score=False,\n",
       "             scoring=None, verbose=0)"
      ]
     },
     "execution_count": 104,
     "metadata": {},
     "output_type": "execute_result"
    }
   ],
   "source": [
    "from sklearn.model_selection import GridSearchCV\n",
    "train_size = 100\n",
    "model = MLPClassifier(hidden_layer_sizes=(30, 30, 30), max_iter=1000)\n",
    "model_cv = GridSearchCV( model, cv=5, \n",
    "                       param_grid={\n",
    "                           'hidden_layer_sizes':[(30,30,30), (30,20,10)],\n",
    "                           'alpha':[0.0001, 0.001, 0.1, 1]\n",
    "                       })\n",
    "model_cv.fit(X_train, y_train)"
   ]
  },
  {
   "cell_type": "code",
   "execution_count": 105,
   "metadata": {
    "scrolled": true
   },
   "outputs": [
    {
     "name": "stdout",
     "output_type": "stream",
     "text": [
      "모델 계수 MLPClassifier(activation='relu', alpha=0.001, batch_size='auto', beta_1=0.9,\n",
      "              beta_2=0.999, early_stopping=False, epsilon=1e-08,\n",
      "              hidden_layer_sizes=(30, 20, 10), learning_rate='constant',\n",
      "              learning_rate_init=0.001, max_iter=1000, momentum=0.9,\n",
      "              n_iter_no_change=10, nesterovs_momentum=True, power_t=0.5,\n",
      "              random_state=None, shuffle=True, solver='adam', tol=0.0001,\n",
      "              validation_fraction=0.1, verbose=False, warm_start=False)\n"
     ]
    }
   ],
   "source": [
    "print('모델 계수', model_cv.best_estimator_)"
   ]
  },
  {
   "cell_type": "code",
   "execution_count": 116,
   "metadata": {},
   "outputs": [],
   "source": [
    "# 신경망의 비지도학습\n",
    "import numpy as np\n",
    "import matplotlib.pyplot as plt\n",
    "from scipy.ndimage import convolve\n",
    "\"\"\"\n",
    "convolution 연산\n",
    "    신경망은 fully-connected 데이터를 일차원화\n",
    "    이미지 -> 2차원 -> 일렬 -> 필터(주변부 계산)로 이미지 특징 추출\n",
    "    -> 분석 -> 재조합\n",
    "\"\"\"\n",
    "from sklearn import linear_model, datasets, metrics\n",
    "from sklearn.neural_network import BernoulliRBM\n",
    "from sklearn.pipeline import Pipeline\n",
    "\n",
    "# email\n",
    "# CNN 머신러닝\n",
    "def nudge_dataset(X, Y):\n",
    "    direction_vectors = [\n",
    "        [[0, 1, 0], [0, 0, 0], [0, 0, 0]],\n",
    "        [[0, 0, 0], [1, 0, 0], [0, 0, 0]],\n",
    "        [[0, 0, 0], [0, 0, 1], [0, 0, 0]],\n",
    "        [[0, 0, 0], [0, 0, 0], [0, 1, 0]]] # 필터\n",
    "    print(direction_vectors)\n",
    "    shift = lambda x, w: convolve(x.reshape((8, 8)), mode='constant', weights=w).ravel()\n",
    "    # 이미지를 특징값을 고려해서 변형값으로 변경\n",
    "    X = np.concatenate([X] + [np.apply_along_axis(shift, 1, X, vector) for vector in direction_vectors])\n",
    "    Y = np.concatenate([Y for _ in range(5)], axis=0)\n",
    "    return X, Y "
   ]
  },
  {
   "cell_type": "code",
   "execution_count": 117,
   "metadata": {},
   "outputs": [
    {
     "name": "stdout",
     "output_type": "stream",
     "text": [
      "[[ 0.  0.  5. ...  0.  0.  0.]\n",
      " [ 0.  0.  0. ... 10.  0.  0.]\n",
      " [ 0.  0.  0. ... 16.  9.  0.]\n",
      " ...\n",
      " [ 0.  0.  1. ...  6.  0.  0.]\n",
      " [ 0.  0.  2. ... 12.  0.  0.]\n",
      " [ 0.  0. 10. ... 12.  1.  0.]]\n"
     ]
    }
   ],
   "source": [
    "from sklearn.model_selection import train_test_split\n",
    "\n",
    "digits = datasets.load_digits()\n",
    "X = np.asarray(digits.data, 'float32')\n",
    "\n",
    "print(X)"
   ]
  },
  {
   "cell_type": "code",
   "execution_count": 118,
   "metadata": {
    "scrolled": true
   },
   "outputs": [
    {
     "name": "stdout",
     "output_type": "stream",
     "text": [
      "[[[0, 1, 0], [0, 0, 0], [0, 0, 0]], [[0, 0, 0], [1, 0, 0], [0, 0, 0]], [[0, 0, 0], [0, 0, 1], [0, 0, 0]], [[0, 0, 0], [0, 0, 0], [0, 1, 0]]]\n"
     ]
    }
   ],
   "source": [
    "X, Y = nudge_dataset(X, digits.target)\n",
    "X = (X - np.min(X, 0)) / (np.max(X, 0) + 0.0001) # minmax 정규화\n",
    "X_train, X_test, Y_train, Y_test = train_test_split(X, Y, test_size=0.2, random_state=0)"
   ]
  },
  {
   "cell_type": "code",
   "execution_count": 120,
   "metadata": {
    "scrolled": false
   },
   "outputs": [
    {
     "name": "stdout",
     "output_type": "stream",
     "text": [
      "[BernoulliRBM] Iteration 1, pseudo-likelihood = -25.39, time = 0.10s\n",
      "[BernoulliRBM] Iteration 2, pseudo-likelihood = -23.77, time = 0.15s\n",
      "[BernoulliRBM] Iteration 3, pseudo-likelihood = -22.94, time = 0.14s\n",
      "[BernoulliRBM] Iteration 4, pseudo-likelihood = -21.91, time = 0.14s\n",
      "[BernoulliRBM] Iteration 5, pseudo-likelihood = -21.69, time = 0.14s\n",
      "[BernoulliRBM] Iteration 6, pseudo-likelihood = -21.06, time = 0.14s\n",
      "[BernoulliRBM] Iteration 7, pseudo-likelihood = -20.89, time = 0.14s\n",
      "[BernoulliRBM] Iteration 8, pseudo-likelihood = -20.64, time = 0.15s\n",
      "[BernoulliRBM] Iteration 9, pseudo-likelihood = -20.36, time = 0.15s\n",
      "[BernoulliRBM] Iteration 10, pseudo-likelihood = -20.09, time = 0.15s\n",
      "[BernoulliRBM] Iteration 11, pseudo-likelihood = -20.08, time = 0.14s\n",
      "[BernoulliRBM] Iteration 12, pseudo-likelihood = -19.82, time = 0.15s\n",
      "[BernoulliRBM] Iteration 13, pseudo-likelihood = -19.64, time = 0.15s\n",
      "[BernoulliRBM] Iteration 14, pseudo-likelihood = -19.61, time = 0.15s\n",
      "[BernoulliRBM] Iteration 15, pseudo-likelihood = -19.57, time = 0.14s\n",
      "[BernoulliRBM] Iteration 16, pseudo-likelihood = -19.41, time = 0.14s\n",
      "[BernoulliRBM] Iteration 17, pseudo-likelihood = -19.30, time = 0.15s\n",
      "[BernoulliRBM] Iteration 18, pseudo-likelihood = -19.25, time = 0.15s\n",
      "[BernoulliRBM] Iteration 19, pseudo-likelihood = -19.27, time = 0.14s\n",
      "[BernoulliRBM] Iteration 20, pseudo-likelihood = -19.01, time = 0.14s\n"
     ]
    },
    {
     "name": "stderr",
     "output_type": "stream",
     "text": [
      "C:\\Users\\2-18\\Anaconda3\\lib\\site-packages\\sklearn\\linear_model\\logistic.py:432: FutureWarning: Default solver will be changed to 'lbfgs' in 0.22. Specify a solver to silence this warning.\n",
      "  FutureWarning)\n",
      "C:\\Users\\2-18\\Anaconda3\\lib\\site-packages\\sklearn\\linear_model\\logistic.py:469: FutureWarning: Default multi_class will be changed to 'auto' in 0.22. Specify the multi_class option to silence this warning.\n",
      "  \"this warning.\", FutureWarning)\n"
     ]
    },
    {
     "data": {
      "text/plain": [
       "Pipeline(memory=None,\n",
       "         steps=[('rbm',\n",
       "                 BernoulliRBM(batch_size=10, learning_rate=0.06,\n",
       "                              n_components=100, n_iter=20, random_state=0,\n",
       "                              verbose=True)),\n",
       "                ('logistic',\n",
       "                 LogisticRegression(C=6000.0, class_weight=None, dual=False,\n",
       "                                    fit_intercept=True, intercept_scaling=1,\n",
       "                                    l1_ratio=None, max_iter=100,\n",
       "                                    multi_class='warn', n_jobs=None,\n",
       "                                    penalty='l2', random_state=None,\n",
       "                                    solver='warn', tol=0.0001, verbose=0,\n",
       "                                    warm_start=False))],\n",
       "         verbose=False)"
      ]
     },
     "execution_count": 120,
     "metadata": {},
     "output_type": "execute_result"
    }
   ],
   "source": [
    "logistic = linear_model.LogisticRegression()\n",
    "\"\"\"\n",
    " deep learning 학습 ( gpu ), 제한된 볼트만 머신 ( 회로가 너무 많은 )\n",
    " 비지도 학습 -> AE(시각화), VAE(학습중에 random한 수를 가중치에 결합) : 분포를 학습, \n",
    "     - GAN ( 화가의 화풍을 학습하고 학습이 끝나면 랜덤한 noise를 주면 그림을 그림 )\n",
    " PCA와 같다\n",
    "\"\"\"\n",
    "rbm = BernoulliRBM(random_state=0, verbose=True) # 신경망 비지도학습\n",
    "# rbm = PCA와 같은 역할(딥러닝) -> 특성추출\n",
    "classifier = Pipeline(steps=[('rbm', rbm), ('logistic', logistic)])\n",
    "rbm.learning_rate = 0.06\n",
    "rbm.n_iter = 20\n",
    "rbm.n_components = 100 # 28x28 => 784\n",
    "logistic.C = 6000.0 # 로지스틱에서의 규제값 # MLPClassifier - alpha\n",
    "classifier.fit(X_train, Y_train)"
   ]
  },
  {
   "cell_type": "code",
   "execution_count": null,
   "metadata": {},
   "outputs": [],
   "source": [
    "\"\"\"\n",
    "SVM : support vector machine : pre 딥러닝 시기에 많이 쓰임\n",
    "- SVC, SVR\n",
    "- 규제( C )와 모양( gamma : 초평면의 모양을 조절 ) : 과적합을 방지하는 역할\n",
    "- 모델 중에서 고차원을 좋아하는 유일한 모델\n",
    "- XOR 문제 : 고차원 공간으로 이동해서 해결 (신경망 : 레이어)\n",
    "- convex hull : 집단의 외곽선을 구하는것 : 가장 인기있는 모델\n",
    "- 스케일에 민감\n",
    "- 비선형 kernel 지원(+선형)    \n",
    "    kernel{‘linear’, \n",
    "    ‘poly’(다항식 커널 polynomial), \n",
    "    ‘rbf’(방사형 커널:디폴트, exp), \n",
    "    ‘sigmoid’(비선형 0~1사이값 매핑), \n",
    "    ‘precomputed’(미리 계산)}, \n",
    "    default=’rbf’ : 표준정규분포식의 exp값을 사용\n",
    "        - exp( (x - mu) ( x- mu )T / 2 sigma ^2 )\n",
    "        정규분포를 이용한 고차원 공간으로서 변형함\n",
    "\"\"\""
   ]
  },
  {
   "cell_type": "code",
   "execution_count": 121,
   "metadata": {},
   "outputs": [
    {
     "name": "stderr",
     "output_type": "stream",
     "text": [
      "C:\\Users\\2-18\\Anaconda3\\lib\\site-packages\\sklearn\\svm\\base.py:193: FutureWarning: The default value of gamma will change from 'auto' to 'scale' in version 0.22 to account better for unscaled features. Set gamma explicitly to 'auto' or 'scale' to avoid this warning.\n",
      "  \"avoid this warning.\", FutureWarning)\n"
     ]
    },
    {
     "data": {
      "text/plain": [
       "SVR(C=1.0, cache_size=200, coef0=0.0, degree=3, epsilon=0.2,\n",
       "    gamma='auto_deprecated', kernel='rbf', max_iter=-1, shrinking=True,\n",
       "    tol=0.001, verbose=False)"
      ]
     },
     "execution_count": 121,
     "metadata": {},
     "output_type": "execute_result"
    }
   ],
   "source": [
    "from sklearn.svm import SVR\n",
    "import numpy as np\n",
    "\n",
    "n_samples, n_features = 10, 5\n",
    "np.random.seed(0)\n",
    "y = np.random.randn(n_samples)\n",
    "X = np.random.randn(n_samples, n_features)\n",
    "clf = SVR(C=1.0, epsilon=0.2)\n",
    "clf.fit(X, y)\n"
   ]
  },
  {
   "cell_type": "code",
   "execution_count": 122,
   "metadata": {
    "scrolled": true
   },
   "outputs": [
    {
     "name": "stderr",
     "output_type": "stream",
     "text": [
      "C:\\Users\\2-18\\Anaconda3\\lib\\site-packages\\matplotlib\\backends\\backend_agg.py:211: RuntimeWarning: Glyph 8722 missing from current font.\n",
      "  font.set_text(s, 0.0, flags=flags)\n",
      "C:\\Users\\2-18\\Anaconda3\\lib\\site-packages\\matplotlib\\backends\\backend_agg.py:180: RuntimeWarning: Glyph 8722 missing from current font.\n",
      "  font.set_text(s, 0, flags=flags)\n"
     ]
    },
    {
     "data": {
      "image/png": "[encoded data removed]",
      "text/plain": [
       "<Figure size 432x288 with 1 Axes>"
      ]
     },
     "metadata": {
      "needs_background": "light"
     },
     "output_type": "display_data"
    }
   ],
   "source": [
    "# email - svm\n",
    "import numpy as np\n",
    "import matplotlib.pylab as plt\n",
    "np.random.seed(0)\n",
    "X_xor = np.random.randn(200, 2) # 숫자 200\n",
    "# XOR은 달라야 참\n",
    "y_xor = np.logical_xor(X_xor[:, 0] > 0, X_xor[:, 1] > 0) # 4그룹\n",
    "y_xor = np.where(y_xor, 1, -1)\n",
    "plt.scatter( X_xor[y_xor==1, 0],  X_xor[y_xor== 1, 1], c='b', marker='o',  label='1', s=100)\n",
    "plt.scatter( X_xor[y_xor==-1, 0],  X_xor[y_xor==-1, 1], c='r', marker='s',  label='-1', s=100)\n",
    "plt.ylim(-3.0)\n",
    "plt.legend()\n",
    "plt.title(\"XOR\")\n",
    "plt.show()\n",
    "\n",
    "def plot_xor(X, y, model, title, xmin=-3, xmax=3, ymin=-3, ymax=3):\n",
    "    # 범위값 1000\n",
    "    # 1000 => 1000000개의 정점 조합\n",
    "    XX, YY = np.meshgrid(np.arange(xmin, xmax, (xmax-xmin)/1000),\n",
    "                         np.arange(ymin, ymax, (ymax-ymin)/1000))\n",
    "    # 값을 확인하고 # 원본 모양으로 변환\n",
    "    ZZ = np.reshape(model.predict(np.array([XX.ravel(), YY.ravel()]).T),\n",
    "                    XX.shape)\n",
    "    plt.contourf(XX, YY, ZZ,  alpha=0.5) # 등고선맵, f(fill 컬러로 채우기)\n",
    "    plt.scatter(X[y== 1, 0], X[y== 1, 1], c='b', marker='o', label='+1',\n",
    "                s=100)\n",
    "    plt.scatter(X[y==-1, 0], X[y==-1, 1], c='r', marker='s', label='-1',\n",
    "                s=100)\n",
    "    plt.xlim(xmin, xmax)\n",
    "    plt.ylim(ymin, ymax)\n",
    "    plt.title(title)\n",
    "    plt.show() "
   ]
  },
  {
   "cell_type": "code",
   "execution_count": 123,
   "metadata": {
    "scrolled": true
   },
   "outputs": [
    {
     "name": "stderr",
     "output_type": "stream",
     "text": [
      "C:\\Users\\2-18\\Anaconda3\\lib\\site-packages\\matplotlib\\backends\\backend_agg.py:211: RuntimeWarning: Glyph 8722 missing from current font.\n",
      "  font.set_text(s, 0.0, flags=flags)\n",
      "C:\\Users\\2-18\\Anaconda3\\lib\\site-packages\\matplotlib\\backends\\backend_agg.py:180: RuntimeWarning: Glyph 8722 missing from current font.\n",
      "  font.set_text(s, 0, flags=flags)\n"
     ]
    },
    {
     "data": {
      "image/png": "[encoded data removed]",
      "text/plain": [
       "<Figure size 432x288 with 1 Axes>"
      ]
     },
     "metadata": {
      "needs_background": "light"
     },
     "output_type": "display_data"
    }
   ],
   "source": [
    "from sklearn.svm import SVC\n",
    "svc = SVC(kernel='linear').fit(X_xor, y_xor)\n",
    "plot_xor(X_xor, y_xor, svc, 'Linear SVC')"
   ]
  },
  {
   "cell_type": "code",
   "execution_count": 164,
   "metadata": {
    "scrolled": true
   },
   "outputs": [
    {
     "name": "stderr",
     "output_type": "stream",
     "text": [
      "C:\\Users\\2-18\\Anaconda3\\lib\\site-packages\\sklearn\\preprocessing\\_function_transformer.py:97: FutureWarning: The default validate=True will be replaced by validate=False in 0.22.\n",
      "  \"validate=False in 0.22.\", FutureWarning)\n",
      "C:\\Users\\2-18\\Anaconda3\\lib\\site-packages\\sklearn\\preprocessing\\_function_transformer.py:97: FutureWarning: The default validate=True will be replaced by validate=False in 0.22.\n",
      "  \"validate=False in 0.22.\", FutureWarning)\n"
     ]
    },
    {
     "data": {
      "text/plain": [
       "array([[ 0.        ,  0.        ,  1.        ],\n",
       "       [ 4.        ,  8.48528137,  9.        ],\n",
       "       [16.        , 28.28427125, 25.        ],\n",
       "       [36.        , 59.39696962, 49.        ]])"
      ]
     },
     "execution_count": 164,
     "metadata": {},
     "output_type": "execute_result"
    }
   ],
   "source": [
    "# 다항방정식을 이용\n",
    "from sklearn.preprocessing import FunctionTransformer# 함수를 이용해서 다차원 공간화\n",
    "def basis(X):\n",
    "    return np.vstack([X[:,0]**2, np.sqrt(2)*X[:,0]*X[:,1], X[:,1]**2]).T\n",
    "X = np.arange(8).reshape(4, 2)\n",
    "X\n",
    "FunctionTransformer(basis).fit_transform(X)\n",
    "\n",
    "                      \n",
    "                      "
   ]
  },
  {
   "cell_type": "code",
   "execution_count": 166,
   "metadata": {
    "scrolled": false
   },
   "outputs": [
    {
     "name": "stderr",
     "output_type": "stream",
     "text": [
      "C:\\Users\\2-18\\Anaconda3\\lib\\site-packages\\sklearn\\preprocessing\\_function_transformer.py:97: FutureWarning: The default validate=True will be replaced by validate=False in 0.22.\n",
      "  \"validate=False in 0.22.\", FutureWarning)\n",
      "C:\\Users\\2-18\\Anaconda3\\lib\\site-packages\\sklearn\\preprocessing\\_function_transformer.py:97: FutureWarning: The default validate=True will be replaced by validate=False in 0.22.\n",
      "  \"validate=False in 0.22.\", FutureWarning)\n",
      "C:\\Users\\2-18\\Anaconda3\\lib\\site-packages\\matplotlib\\backends\\backend_agg.py:211: RuntimeWarning: Glyph 8722 missing from current font.\n",
      "  font.set_text(s, 0.0, flags=flags)\n",
      "C:\\Users\\2-18\\Anaconda3\\lib\\site-packages\\matplotlib\\backends\\backend_agg.py:180: RuntimeWarning: Glyph 8722 missing from current font.\n",
      "  font.set_text(s, 0, flags=flags)\n"
     ]
    },
    {
     "data": {
      "image/png": "[encoded data removed]",
      "text/plain": [
       "<Figure size 432x288 with 1 Axes>"
      ]
     },
     "metadata": {
      "needs_background": "light"
     },
     "output_type": "display_data"
    }
   ],
   "source": [
    "X_xor2 = FunctionTransformer(basis).fit_transform(X_xor)\n",
    "plt.scatter(X_xor2[y_xor==1, 0], X_xor2[y_xor==1,1], c='b', s=50)\n",
    "plt.scatter(X_xor2[y_xor==-1, 0], X_xor2[y_xor==-1,1], c='r', s=50)\n",
    "plt.show()"
   ]
  },
  {
   "cell_type": "code",
   "execution_count": 190,
   "metadata": {
    "scrolled": false
   },
   "outputs": [],
   "source": [
    "svc = SVC(kernel='linear').fit(X_xor2, y_xor)\n",
    "# plot_xor(X_xor2, y_xor, svc, 'Linear SVC')\n",
    "# 강사님 실행 실패"
   ]
  },
  {
   "cell_type": "code",
   "execution_count": 153,
   "metadata": {
    "scrolled": false
   },
   "outputs": [
    {
     "name": "stdout",
     "output_type": "stream",
     "text": [
      "(200, 2)\n"
     ]
    },
    {
     "name": "stderr",
     "output_type": "stream",
     "text": [
      "C:\\Users\\2-18\\Anaconda3\\lib\\site-packages\\matplotlib\\backends\\backend_agg.py:211: RuntimeWarning: Glyph 8722 missing from current font.\n",
      "  font.set_text(s, 0.0, flags=flags)\n",
      "C:\\Users\\2-18\\Anaconda3\\lib\\site-packages\\matplotlib\\backends\\backend_agg.py:180: RuntimeWarning: Glyph 8722 missing from current font.\n",
      "  font.set_text(s, 0, flags=flags)\n"
     ]
    },
    {
     "data": {
      "image/png": "[encoded data removed]",
      "text/plain": [
       "<Figure size 432x288 with 1 Axes>"
      ]
     },
     "metadata": {
      "needs_background": "light"
     },
     "output_type": "display_data"
    }
   ],
   "source": [
    "polysvc = SVC(kernel=\"rbf\", degree=2, gamma=10, coef0=2).fit(X_xor, y_xor) \n",
    "print(X_xor.shape)\n",
    "plot_xor(X_xor, y_xor, polysvc, 'Polynomial SVC')"
   ]
  },
  {
   "cell_type": "code",
   "execution_count": 170,
   "metadata": {},
   "outputs": [],
   "source": [
    "from sklearn.datasets import load_iris\n",
    "from sklearn.model_selection import train_test_split\n",
    "from sklearn.preprocessing import StandardScaler\n",
    "iris = load_iris()\n",
    "\n",
    "# svm을 이용한 분류모델을 작성해보시오\n",
    "\n",
    "# 그리고 내일 시험준비"
   ]
  },
  {
   "cell_type": "code",
   "execution_count": 178,
   "metadata": {},
   "outputs": [
    {
     "name": "stdout",
     "output_type": "stream",
     "text": [
      "훈련 세트 정확도 : 1.000\n",
      "테스트 세트 정확도 : 0.947\n"
     ]
    },
    {
     "data": {
      "text/plain": [
       "SVC(C=1.0, cache_size=200, class_weight=None, coef0=2,\n",
       "    decision_function_shape='ovr', degree=2, gamma=10, kernel='rbf',\n",
       "    max_iter=1000, probability=False, random_state=None, shrinking=True,\n",
       "    tol=0.001, verbose=False)"
      ]
     },
     "execution_count": 178,
     "metadata": {},
     "output_type": "execute_result"
    }
   ],
   "source": [
    "# 작성해보기\n",
    "X = iris.data\n",
    "y = iris.target\n",
    "\n",
    "X_train, X_test, y_train, y_test = train_test_split(X, y)\n",
    "\n",
    "from sklearn.preprocessing import StandardScaler\n",
    "\n",
    "scaler = StandardScaler()\n",
    "scaler.fit(X_train)\n",
    "\n",
    "X_train = scaler.transform(X_train)\n",
    "X_test = scaler.transform(X_test)\n",
    "\n",
    "from sklearn.svm import SVC\n",
    "irissvc = SVC(kernel=\"rbf\", max_iter=1000, degree=2, gamma=10, coef0=2).fit(X_train, y_train) \n",
    "\n",
    "print(\"훈련 세트 정확도 : {:.3f}\".format(irissvc.score(X_train, y_train))) \n",
    "print(\"테스트 세트 정확도 : {:.3f}\".format(irissvc.score(X_test, y_test)))\n",
    "irissvc\n",
    "# plot_xor(X_test, y_test, irissvc, 'Polynomial SVC')"
   ]
  }
 ],
 "metadata": {
  "kernelspec": {
   "display_name": "Python 3",
   "language": "python",
   "name": "python3"
  },
  "language_info": {
   "codemirror_mode": {
    "name": "ipython",
    "version": 3
   },
   "file_extension": ".py",
   "mimetype": "text/x-python",
   "name": "python",
   "nbconvert_exporter": "python",
   "pygments_lexer": "ipython3",
   "version": "3.7.4"
  }
 },
 "nbformat": 4,
 "nbformat_minor": 2
}
