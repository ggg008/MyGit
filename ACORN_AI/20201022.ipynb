{
 "cells": [
  {
   "cell_type": "code",
   "execution_count": 10,
   "metadata": {},
   "outputs": [],
   "source": [
    "\"\"\"\n",
    "tf 1.5 keras tf 2.3의 차이\n",
    "    - 정적으로 그래프를 생성\n",
    "    - 처음 그래프를 정의하고 ( 그래프도 비선형 자료 구조 )\n",
    "    - run에서 실행\n",
    "constant(상수), variables(가중치 저장), placeholder(주입 변수)\n",
    "    - tf는GPU를 염두에 두고 구현\n",
    "    - CUDA 과학계산에 행렬연산을 GPU에서 하자\n",
    "    - network 요소 -> Session\n",
    "keras는 모델만 구현해서 작동\n",
    "tf 2.3은 eager mode에서 함수및 class base로 작동\n",
    "\"\"\"\n",
    "\n",
    "import tensorflow as tf\n",
    "def showvalue(t):\n",
    "    sess = tf.InteractiveSession() # 대화형 세션\n",
    "    tf.global_variables_initializer().run() # 변수가 있으면 반드시 초기화\n",
    "    print(t.eval())\n",
    "    sess.close()"
   ]
  },
  {
   "cell_type": "code",
   "execution_count": 15,
   "metadata": {},
   "outputs": [
    {
     "name": "stdout",
     "output_type": "stream",
     "text": [
      "[ 3.5 10.1]\n",
      "[-8  5 17]\n",
      "[       nan 1.73205081 2.23606798]\n"
     ]
    }
   ],
   "source": [
    "c2, c3 = tf.constant([1.2, 5.6]), tf.constant([-4, -1, 7])\n",
    "v2, v3 = tf.Variable([2.3, 4.5]), tf.Variable([-2, 3, 5])\n",
    "showvalue(tf.add_n([c2, v2])) # n: 여러개 벡터 행렬연산에서 일반 +,-,/,*는 요소별 연산\n",
    "showvalue(tf.add_n([c3, v3, v3]))\n",
    "showvalue(tf.sqrt(tf.cast(v3, tf.float64))) # math 함수들이 동작 : 내부에 정의"
   ]
  },
  {
   "cell_type": "code",
   "execution_count": 16,
   "metadata": {},
   "outputs": [],
   "source": [
    "# tensorflow는 numpy와 호환\n",
    "def run_variables(variable):\n",
    "    tf.global_variables_initializer()\n",
    "    with tf.Session() as sess:\n",
    "        return sess.run(variable)"
   ]
  },
  {
   "cell_type": "code",
   "execution_count": 25,
   "metadata": {},
   "outputs": [
    {
     "name": "stdout",
     "output_type": "stream",
     "text": [
      "<class 'numpy.ndarray'>\n"
     ]
    },
    {
     "data": {
      "image/png": "[encoded data removed]",
      "text/plain": [
       "<Figure size 432x288 with 1 Axes>"
      ]
     },
     "metadata": {
      "needs_background": "light"
     },
     "output_type": "display_data"
    }
   ],
   "source": [
    "%matplotlib inline\n",
    "my_distribution = tf.random_uniform((6, 4), seed=42)\n",
    "uniform = run_variables(my_distribution)\n",
    "print(type(run_variables(my_distribution))) # ndarray \n",
    "\n",
    "from matplotlib import pyplot as plt\n",
    "plt.hist(uniform.flatten())\n",
    "plt.show()"
   ]
  },
  {
   "cell_type": "code",
   "execution_count": 38,
   "metadata": {},
   "outputs": [
    {
     "name": "stdout",
     "output_type": "stream",
     "text": [
      "Tensor(\"MatMul_2:0\", shape=(2, 2), dtype=int32)\n"
     ]
    },
    {
     "data": {
      "text/plain": [
       "array([[ 58,  64],\n",
       "       [139, 154]])"
      ]
     },
     "execution_count": 38,
     "metadata": {},
     "output_type": "execute_result"
    }
   ],
   "source": [
    "a = tf.constant([1, 2, 3, 4, 5, 6], shape=[2, 3])\n",
    "b = tf.constant([7, 8, 9, 10, 11, 12], shape=[3, 2])\n",
    "sess = tf.Session() # 세션작업 : 최우선\n",
    "\n",
    "result = tf.matmul(a,b)\n",
    "print(result) # graph는 노드와 노드(계산식)로 구성되고 텐서로 연결\n",
    "sess.run(result) # 호출할때 연산 실행 ( 앞단의 노드가 모두 실행이 되어야 실행 )\n",
    "\n",
    "# 이유 : 분산처리가 가능하게 하기 위해서"
   ]
  },
  {
   "cell_type": "code",
   "execution_count": 40,
   "metadata": {},
   "outputs": [
    {
     "name": "stdout",
     "output_type": "stream",
     "text": [
      "[[1 0 0 0]\n",
      " [0 2 0 0]\n",
      " [0 0 3 0]\n",
      " [0 0 0 4]]\n",
      "\n",
      "[1 2 3 4]\n",
      "\n",
      "10\n",
      "\n",
      "[[1 0 0 0]\n",
      " [0 2 0 0]\n",
      " [0 0 3 0]\n",
      " [0 0 0 4]]\n"
     ]
    }
   ],
   "source": [
    "diagonal = [1,2,3,4]\n",
    "dia = tf.diag(diagonal) # 대각행렬 -> 내부적으로 그래프를 생성\n",
    "print(sess.run(dia)) # 런시켜줘야..\n",
    "print()\n",
    "print(sess.run(tf.diag_part(dia))) # 대각요소만 추출\n",
    "print()\n",
    "print(sess.run(tf.trace(dia))) # 대각합\n",
    "print()\n",
    "#선형대수나 math를 사용하는 구조가 넘파이와 동일\n",
    "x = tf.transpose(dia) # 전치\n",
    "print(sess.run(x))"
   ]
  },
  {
   "cell_type": "code",
   "execution_count": 43,
   "metadata": {},
   "outputs": [
    {
     "name": "stdout",
     "output_type": "stream",
     "text": [
      "[[1 2 3]\n",
      " [4 5 6]\n",
      " [7 8 9]]\n"
     ]
    }
   ],
   "source": [
    "t = [1,2,3,4,5,6,7,8,9]\n",
    "print(sess.run(tf.reshape(t, [3,3])))"
   ]
  },
  {
   "cell_type": "code",
   "execution_count": 44,
   "metadata": {},
   "outputs": [
    {
     "name": "stdout",
     "output_type": "stream",
     "text": [
      "1\n",
      "2\n",
      "3\n",
      "4\n",
      "5\n"
     ]
    }
   ],
   "source": [
    "x = tf.Variable(0, name='x') # 두가지 용도 1. 그래프출력시 노드를 확인 2. 모델을 저장하고 로딩시 구분\n",
    "model = tf.global_variables_initializer()\n",
    "with tf.Session() as session: # with를 쓰면 실행후 세션 자동으로 클로즈 : session close\n",
    "    for i in range(5):\n",
    "        session.run(model)\n",
    "        x = x + 1\n",
    "        print(session.run(x))"
   ]
  },
  {
   "cell_type": "code",
   "execution_count": 49,
   "metadata": {},
   "outputs": [
    {
     "name": "stdout",
     "output_type": "stream",
     "text": [
      "1-100까지의 합= 5050\n"
     ]
    }
   ],
   "source": [
    "# 문제 1 ~ 10까지의 합을 구하시오\n",
    "x = tf.Variable(0, name='x') # 두가지 용도 1. 그래프출력시 노드를 확인 2. 모델을 저장하고 로딩시 구분\n",
    "hap = tf.Variable(0, name='hap')\n",
    "model = tf.global_variables_initializer()\n",
    "with tf.Session() as session: # with를 쓰면 실행후 세션 자동으로 클로즈 : session close\n",
    "    for i in range(100):\n",
    "        session.run(model)\n",
    "        x = x + 1\n",
    "        hap = hap + x\n",
    "#         print(session.run(x))\n",
    "    print(\"1-100까지의 합=\", session.run(hap))"
   ]
  },
  {
   "cell_type": "code",
   "execution_count": null,
   "metadata": {},
   "outputs": [],
   "source": [
    "\"\"\"\n",
    "tensor flow 변수의 종류 : constant, variables(가중치), placeholder(주입변수)\n",
    "- GPU 메모리 영역은 용도가 다름\n",
    "- GPU 메모리는 용량이 적음 (CPU에 비해)\n",
    "- GPU : 부동 소수점 연산기가 많음 최소 : 1024 (CPU 한자리수...)\n",
    "- 데이터는 fully-connected ( 일렬로 서서 - 내적연산위해 )\n",
    "- 가중치학습 - cost function(비용함수) : 결과\n",
    "    - 연속형 identity -> MSE(mean square error)\n",
    "    - 범주형 softmax -> cross entropy\n",
    "- 값의 추가나 비활성화 - activation function(활성화함수)\n",
    "    - sigmoid(기울기 소실) -> tanh(-1 ~ 1) -> Relu(0보다 큰것만 취급: 0이하제거) -> softplus\n",
    "    - LeakRelu(-1 까지 고려) -> elu(지수형)\n",
    "- 미분 방향값 결정, learning rate를 조절하는 optimizer\n",
    "    - Adagrad, RMSprop(tm), Adam, Nadam\n",
    "\"\"\""
   ]
  },
  {
   "cell_type": "code",
   "execution_count": 50,
   "metadata": {},
   "outputs": [
    {
     "data": {
      "text/plain": [
       "23"
      ]
     },
     "execution_count": 50,
     "metadata": {},
     "output_type": "execute_result"
    }
   ],
   "source": [
    "#플레이스 홀더 placeholder\n",
    "import tensorflow as tf\n",
    "import numpy as np\n",
    "\n",
    "# 대량의 데이터를 다루기 때문에 변수타입 세분화\n",
    "# 계산 그래프를 구성 ( 계산식은 노드, 노드와 노드를 연결 = 텐서 플로우)\n",
    "a = tf.placeholder(tf.int32, shape=[2], name=\"my_input\") # 외부 주입 변수\n",
    "b = tf.reduce_prod(a, name='prod_b')\n",
    "c = tf.reduce_sum(a, name='sum_c')\n",
    "d = tf.add(b, c, name='add_d')\n",
    "# d=(a1*a2)+(a1+a2)\n",
    "sess = tf.Session()\n",
    "\n",
    "input_dict = {a:np.array([5,3], dtype=np.int32)} # a와 대입\n",
    "sess.run(d, feed_dict=input_dict) # d 호출"
   ]
  },
  {
   "cell_type": "code",
   "execution_count": 2,
   "metadata": {},
   "outputs": [
    {
     "data": {
      "text/plain": [
       "'1.15.3'"
      ]
     },
     "execution_count": 2,
     "metadata": {},
     "output_type": "execute_result"
    }
   ],
   "source": [
    "import tensorflow as tf\n",
    "tf.__version__"
   ]
  },
  {
   "cell_type": "code",
   "execution_count": 3,
   "metadata": {},
   "outputs": [
    {
     "name": "stdout",
     "output_type": "stream",
     "text": [
      "Extracting /tmp/data\\train-images-idx3-ubyte.gz\n",
      "Extracting /tmp/data\\train-labels-idx1-ubyte.gz\n",
      "Extracting /tmp/data\\t10k-images-idx3-ubyte.gz\n",
      "Extracting /tmp/data\\t10k-labels-idx1-ubyte.gz\n"
     ]
    },
    {
     "data": {
      "text/plain": [
       "'\\n\\n'"
      ]
     },
     "execution_count": 3,
     "metadata": {},
     "output_type": "execute_result"
    }
   ],
   "source": [
    "from tensorflow.examples.tutorials.mnist import input_data# examples 모듈이 없는 문제 발생 # 따로 다운받아서 해결\n",
    "mnist = input_data.read_data_sets(\"/tmp/data\", one_hot=True) # y값을 원핫인코딩\n",
    "learning_rate = 0.01 #학습률\n",
    "training_epochs = 25 # 반복학습 횟수\n",
    "batch_size = 100 # mini batch size 전체데이터를 100개로 분할 : ex) 데이터 50000장 이미지 => 500덩어리 * 25번(에포크)\n",
    "display_epoch = 1  \n",
    "logs_path = '/tmp/tensorflow_logs/example/' # tensoboard 저장 폴더\n",
    "\n",
    "# 외부 주입 변수 : GPU사용.. 메모리가 작아서..\n",
    "x = tf.placeholder(tf.float32, [None, 784], name=\"InputData\") # 독립변수\n",
    "y = tf.placeholder(tf.float32, [None, 10], name=\"LabelData\") # 종속변수 class : 10\n",
    "\n",
    "\n",
    "# 100x784 784x10 # 역전파가 들어올경우 수정되는변수\n",
    "W = tf.Variable(tf.zeros([784, 10]), name='Weight') \n",
    "b = tf.Variable(tf.zeros([10]), name='Bias') #바이아스\n",
    "# 마지막 activation 활성화 함수는 연속형: mse 범주형 : softmax\n",
    "pred = tf.nn.softmax(tf.matmul(x, W) + b) # 100x10 # 소프트맥스 - 확률로 표현  #예측\n",
    "\n",
    "# cross-entropy = 실제값 * log(예측값) : 분류할때 사용\n",
    "# 평균비용함수\n",
    "cost = tf.reduce_mean(-tf.reduce_sum(y * tf.log(pred), reduction_indices=1))\n",
    "# 최적화기를 지정 : 경사하강법을 사용 # 비용함수 최소화\n",
    "optimizer = tf.train.GradientDescentOptimizer(learning_rate).minimize(cost)\n",
    "\n",
    "# 숫자 0 1 2 3 4 5 6 7 8 9\n",
    "        \n",
    "# 인덱스 0 1 2 3 4 5 6 7 8 9\n",
    "acc = tf.equal(tf.argmax(pred, 1), tf.argmax(y, 1))\n",
    "acc = tf.reduce_mean(tf.cast(acc, tf.float32)) #형변 # 1의갯수 / 전체갯수 = 확률  #평가\n",
    "\n",
    "init = tf.global_variables_initializer()\n",
    "tf.summary.scalar('loss', cost) # 텐서보드에 정보 저장하기전에 정보를 모음\n",
    "tf.summary.scalar('accuracy', acc)\n",
    "merged_summary_op = tf.summary.merge_all()\n",
    "\n",
    "\"\"\"\n",
    "\n",
    "\"\"\""
   ]
  },
  {
   "cell_type": "code",
   "execution_count": 5,
   "metadata": {},
   "outputs": [
    {
     "name": "stdout",
     "output_type": "stream",
     "text": [
      "Epoch: 0001 cost= 1.183686345\n",
      "Epoch: 0002 cost= 0.665305572\n",
      "Epoch: 0003 cost= 0.552841093\n",
      "Epoch: 0004 cost= 0.498693183\n",
      "Epoch: 0005 cost= 0.465538298\n",
      "Epoch: 0006 cost= 0.442620860\n",
      "Epoch: 0007 cost= 0.425537186\n",
      "Epoch: 0008 cost= 0.412225528\n",
      "Epoch: 0009 cost= 0.401411466\n",
      "Epoch: 0010 cost= 0.392381908\n",
      "Epoch: 0011 cost= 0.384813541\n",
      "Epoch: 0012 cost= 0.378173007\n",
      "Epoch: 0013 cost= 0.372434874\n",
      "Epoch: 0014 cost= 0.367323303\n",
      "Epoch: 0015 cost= 0.362740522\n",
      "Epoch: 0016 cost= 0.358629506\n",
      "Epoch: 0017 cost= 0.354918698\n",
      "Epoch: 0018 cost= 0.351479154\n",
      "Epoch: 0019 cost= 0.348330135\n",
      "Epoch: 0020 cost= 0.345390954\n",
      "Epoch: 0021 cost= 0.342736789\n",
      "Epoch: 0022 cost= 0.340242965\n",
      "Epoch: 0023 cost= 0.337991984\n",
      "Epoch: 0024 cost= 0.335743727\n",
      "Epoch: 0025 cost= 0.333711122\n",
      "최적화 종료\n",
      "Accuracy : 0.9135\n"
     ]
    }
   ],
   "source": [
    "with tf.Session() as sess:\n",
    "    sess.run(init)\n",
    "    summary_writer = tf.summary.FileWriter(logs_path, graph=tf.get_default_graph())\n",
    "    for epoch in range(training_epochs): # 동일한 데이터를 25번 실행\n",
    "        avg_cost = 0.\n",
    "        total_batch = int(mnist.train.num_examples / batch_size)\n",
    "        for i in range(total_batch):\n",
    "            # 데이터를 100개씩 자동으로 피딩\n",
    "            batch_xs, batch_ys = mnist.train.next_batch(batch_size)\n",
    "            _, c, summary = sess.run([optimizer, cost, merged_summary_op],\n",
    "                                    feed_dict={x: batch_xs, y: batch_ys})\n",
    "            summary_writer.add_summary(summary, epoch * total_batch + i)\n",
    "            avg_cost += c / total_batch # 저장, 출력\n",
    "        if(epoch+1) % display_epoch == 0: # 매세대(epoch)마다 출력\n",
    "            print(\"Epoch:\", \"%04d\" % (epoch+1), \"cost=\", \"{:.9f}\".format(avg_cost))\n",
    "            \n",
    "    print(\"최적화 종료\")\n",
    "    # 수식으로 평가 : 테스트데이터로 평가\n",
    "    # 미니배치 사이즈와 테스트 데이터 사이즈 다름\n",
    "    print(\"Accuracy :\", acc.eval({x:mnist.test.images, y:mnist.test.labels}))\n",
    "    #http://localhost:6006/ 에서 확인 가능"
   ]
  }
 ],
 "metadata": {
  "kernelspec": {
   "display_name": "Python 3",
   "language": "python",
   "name": "python3"
  },
  "language_info": {
   "codemirror_mode": {
    "name": "ipython",
    "version": 3
   },
   "file_extension": ".py",
   "mimetype": "text/x-python",
   "name": "python",
   "nbconvert_exporter": "python",
   "pygments_lexer": "ipython3",
   "version": "3.7.4"
  }
 },
 "nbformat": 4,
 "nbformat_minor": 2
}
