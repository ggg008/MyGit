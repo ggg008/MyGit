{
 "cells": [
  {
   "cell_type": "code",
   "execution_count": null,
   "metadata": {},
   "outputs": [
    {
     "name": "stderr",
     "output_type": "stream",
     "text": [
      "C:\\Users\\2-18\\Anaconda3\\lib\\site-packages\\sklearn\\model_selection\\_split.py:1978: FutureWarning: The default value of cv will change from 3 to 5 in version 0.22. Specify it explicitly to silence this warning.\n",
      "  warnings.warn(CV_WARNING, FutureWarning)\n"
     ]
    }
   ],
   "source": [
    "\"\"\"\n",
    "문제\n",
    "mnist 데이터에 대하여 cnn deeplearning 모델을 구성하였다. 이 모델에 대하여 learning-rate와 optimizer에 대하여 \n",
    "parameter tuning을 하고자 한다. 이를 구현하시오\n",
    "- 평가자 리스트\n",
    "- gridsearchcv를 이해하고 있는가\n",
    "- gridsearchcv를 keras model에 적용할수 있는가\n",
    "- gridsearchcv의 매개변수 종류를 이해하고 있는가\n",
    "- pipeline과 연결해서 작업의 편리를 도모할수 있는가\n",
    "- optimization의 대한 파라미터 대상을 알고있는가\n",
    "\"\"\" \n",
    "import tensorflow as tf\n",
    "import numpy as np\n",
    "import matplotlib.pyplot as plt\n",
    "\n",
    "from tensorflow.keras.models import Sequential\n",
    "from tensorflow.keras.layers import Dense, Activation, Dropout, Flatten, Dense, Conv2D, MaxPooling2D\n",
    "from tensorflow.keras.preprocessing.image import ImageDataGenerator\n",
    "from tensorflow.keras import optimizers, initializers, regularizers, metrics\n",
    "\n",
    "# 사이킷, 케라스 같이쓰기 : 사이킷의 파이프라인, 평가함수 쓰기\n",
    "from tensorflow.keras.wrappers.scikit_learn import KerasClassifier\n",
    "from sklearn.preprocessing import StandardScaler\n",
    "from sklearn.pipeline import Pipeline\n",
    "\n",
    "from tensorflow.keras.datasets import mnist\n",
    "from tensorflow.keras.utils import to_categorical #원핫인코딩\n",
    "from tensorflow.keras.callbacks import EarlyStopping\n",
    "\n",
    "\n",
    "(x_tr, y_tr), (x_te, y_te) = mnist.load_data()\n",
    "x_tr = x_tr.reshape(x_tr.shape[0], 28, 28, 1) / 255.\n",
    "x_te = x_te.reshape(x_te.shape[0], 28, 28, 1) / 255.\n",
    "y_tr = to_categorical(y_tr)\n",
    "y_te = to_categorical(y_te)\n",
    "\n",
    "def test_model(optimizer='Adam', lr='0.0002'):\n",
    "    import tensorflow as tf\n",
    "    model = Sequential()\n",
    "    model.add(Conv2D(32, kernel_size=(3, 3), input_shape=(28, 28, 1), activation='relu')) \n",
    "    # 필터의 개수 28 - 3 + 1 =26 => ?x26x26x32\n",
    "\n",
    "    model.add(Conv2D(64, (3, 3), activation='relu')) # ?x24x24x64\n",
    "    model.add(MaxPooling2D(pool_size=2)) #?x17x17x64\n",
    "    model.add(Dropout(0.25)) #과적합 방지를 위해서 계산 회로를 임의적 줄임\n",
    "    model.add(Flatten()) # ?x(17x17x64)\n",
    "\n",
    "    # FFNN파트\n",
    "    model.add(Dense(128,  activation='relu')) # ?x(17x17x64) * 128 => ?x128\n",
    "    model.add(Dropout(0.5))\n",
    "    model.add(Dense(10, activation='softmax')) # ?x128 => 128x10 => ?x10\n",
    "\n",
    "    #모델을 컴파일 합니다. \n",
    "\n",
    "    opt = eval('tf.keras.optimizers.{}(lr={})'.format(optimizer, lr))\n",
    "\n",
    "\n",
    "    model.compile(loss='categorical_crossentropy', \n",
    "                  optimizer=opt,\n",
    "                  metrics=['accuracy'])    \n",
    "    return model\n",
    "\n",
    "seed = 7\n",
    "np.random.seed(seed)\n",
    "\n",
    "from sklearn.model_selection import GridSearchCV\n",
    "\n",
    "\n",
    "optimizer = ['RMSprop', 'Adam', 'Nadam']\n",
    "lr = ['0.0002', '0.002']\n",
    "param_grid = dict(optimizer=optimizer, lr=lr) #baseline_mode에 파라메터 할당\n",
    "grid = GridSearchCV(KerasClassifier(build_fn= test_model, epochs=1, batch_size=200, verbose=1), param_grid=param_grid, n_jobs=-1, verbose=0)\n",
    "grid_result = grid.fit(x_tr, y_tr)\n",
    "print(\"Best: %f using %s\" % (grid_result.best_score_, grid_result.best_params_))"
   ]
  }
 ],
 "metadata": {
  "kernelspec": {
   "display_name": "Python 3",
   "language": "python",
   "name": "python3"
  },
  "language_info": {
   "codemirror_mode": {
    "name": "ipython",
    "version": 3
   },
   "file_extension": ".py",
   "mimetype": "text/x-python",
   "name": "python",
   "nbconvert_exporter": "python",
   "pygments_lexer": "ipython3",
   "version": "3.7.4"
  }
 },
 "nbformat": 4,
 "nbformat_minor": 2
}
