{
 "cells": [
  {
   "cell_type": "markdown",
   "metadata": {},
   "source": [
    "## 전이학습 transfer-learning(책 마지막 못한거)"
   ]
  },
  {
   "cell_type": "code",
   "execution_count": 5,
   "metadata": {
    "scrolled": false
   },
   "outputs": [
    {
     "name": "stdout",
     "output_type": "stream",
     "text": [
      "Found 160 images belonging to 2 classes.\n",
      "Found 120 images belonging to 2 classes.\n",
      "Model: \"vgg16\"\n",
      "_________________________________________________________________\n",
      "Layer (type)                 Output Shape              Param #   \n",
      "=================================================================\n",
      "input_5 (InputLayer)         [(None, 150, 150, 3)]     0         \n",
      "_________________________________________________________________\n",
      "block1_conv1 (Conv2D)        (None, 150, 150, 64)      1792      \n",
      "_________________________________________________________________\n",
      "block1_conv2 (Conv2D)        (None, 150, 150, 64)      36928     \n",
      "_________________________________________________________________\n",
      "block1_pool (MaxPooling2D)   (None, 75, 75, 64)        0         \n",
      "_________________________________________________________________\n",
      "block2_conv1 (Conv2D)        (None, 75, 75, 128)       73856     \n",
      "_________________________________________________________________\n",
      "block2_conv2 (Conv2D)        (None, 75, 75, 128)       147584    \n",
      "_________________________________________________________________\n",
      "block2_pool (MaxPooling2D)   (None, 37, 37, 128)       0         \n",
      "_________________________________________________________________\n",
      "block3_conv1 (Conv2D)        (None, 37, 37, 256)       295168    \n",
      "_________________________________________________________________\n",
      "block3_conv2 (Conv2D)        (None, 37, 37, 256)       590080    \n",
      "_________________________________________________________________\n",
      "block3_conv3 (Conv2D)        (None, 37, 37, 256)       590080    \n",
      "_________________________________________________________________\n",
      "block3_pool (MaxPooling2D)   (None, 18, 18, 256)       0         \n",
      "_________________________________________________________________\n",
      "block4_conv1 (Conv2D)        (None, 18, 18, 512)       1180160   \n",
      "_________________________________________________________________\n",
      "block4_conv2 (Conv2D)        (None, 18, 18, 512)       2359808   \n",
      "_________________________________________________________________\n",
      "block4_conv3 (Conv2D)        (None, 18, 18, 512)       2359808   \n",
      "_________________________________________________________________\n",
      "block4_pool (MaxPooling2D)   (None, 9, 9, 512)         0         \n",
      "_________________________________________________________________\n",
      "block5_conv1 (Conv2D)        (None, 9, 9, 512)         2359808   \n",
      "_________________________________________________________________\n",
      "block5_conv2 (Conv2D)        (None, 9, 9, 512)         2359808   \n",
      "_________________________________________________________________\n",
      "block5_conv3 (Conv2D)        (None, 9, 9, 512)         2359808   \n",
      "_________________________________________________________________\n",
      "block5_pool (MaxPooling2D)   (None, 4, 4, 512)         0         \n",
      "=================================================================\n",
      "Total params: 14,714,688\n",
      "Trainable params: 0\n",
      "Non-trainable params: 14,714,688\n",
      "_________________________________________________________________\n",
      "Model: \"sequential_4\"\n",
      "_________________________________________________________________\n",
      "Layer (type)                 Output Shape              Param #   \n",
      "=================================================================\n",
      "vgg16 (Functional)           (None, 4, 4, 512)         14714688  \n",
      "_________________________________________________________________\n",
      "flatten_4 (Flatten)          (None, 8192)              0         \n",
      "_________________________________________________________________\n",
      "dense_8 (Dense)              (None, 64)                524352    \n",
      "_________________________________________________________________\n",
      "dense_9 (Dense)              (None, 2)                 130       \n",
      "=================================================================\n",
      "Total params: 15,239,170\n",
      "Trainable params: 524,482\n",
      "Non-trainable params: 14,714,688\n",
      "_________________________________________________________________\n",
      "Epoch 1/20\n",
      "30/30 [==============================] - 5s 162ms/step - loss: 0.6019 - accuracy: 0.6067 - val_loss: 0.6332 - val_accuracy: 0.7000\n",
      "Epoch 2/20\n",
      "30/30 [==============================] - 5s 157ms/step - loss: 0.4063 - accuracy: 0.8600 - val_loss: 0.4071 - val_accuracy: 0.8500\n",
      "Epoch 3/20\n",
      "30/30 [==============================] - 5s 155ms/step - loss: 0.2496 - accuracy: 0.9000 - val_loss: 0.2828 - val_accuracy: 0.9500\n",
      "Epoch 4/20\n",
      "30/30 [==============================] - 5s 155ms/step - loss: 0.2232 - accuracy: 0.9467 - val_loss: 0.1602 - val_accuracy: 0.9500\n",
      "Epoch 5/20\n",
      "30/30 [==============================] - 5s 152ms/step - loss: 0.2014 - accuracy: 0.9333 - val_loss: 0.1825 - val_accuracy: 0.9500\n",
      "Epoch 6/20\n",
      "30/30 [==============================] - 5s 152ms/step - loss: 0.1971 - accuracy: 0.9133 - val_loss: 0.2923 - val_accuracy: 0.9000\n",
      "Epoch 7/20\n",
      "30/30 [==============================] - 5s 151ms/step - loss: 0.1485 - accuracy: 0.9600 - val_loss: 0.3069 - val_accuracy: 0.8500\n",
      "Epoch 8/20\n",
      "30/30 [==============================] - 5s 156ms/step - loss: 0.1264 - accuracy: 0.9733 - val_loss: 0.1986 - val_accuracy: 0.9500\n",
      "Epoch 9/20\n",
      "30/30 [==============================] - 5s 156ms/step - loss: 0.1313 - accuracy: 0.9667 - val_loss: 0.1665 - val_accuracy: 0.9500\n",
      "Epoch 10/20\n",
      "30/30 [==============================] - 5s 152ms/step - loss: 0.1256 - accuracy: 0.9600 - val_loss: 0.2326 - val_accuracy: 0.9000\n",
      "Epoch 11/20\n",
      "30/30 [==============================] - 5s 152ms/step - loss: 0.1226 - accuracy: 0.9533 - val_loss: 0.0795 - val_accuracy: 0.9500\n",
      "Epoch 12/20\n",
      "30/30 [==============================] - 5s 172ms/step - loss: 0.0909 - accuracy: 0.9800 - val_loss: 0.2092 - val_accuracy: 0.9000\n",
      "Epoch 13/20\n",
      "30/30 [==============================] - 5s 152ms/step - loss: 0.1218 - accuracy: 0.9600 - val_loss: 0.1518 - val_accuracy: 0.9000\n",
      "Epoch 14/20\n",
      "30/30 [==============================] - 5s 173ms/step - loss: 0.1069 - accuracy: 0.9667 - val_loss: 0.1455 - val_accuracy: 0.9000\n",
      "Epoch 15/20\n",
      "30/30 [==============================] - 5s 152ms/step - loss: 0.0767 - accuracy: 0.9867 - val_loss: 0.0380 - val_accuracy: 1.0000\n",
      "Epoch 16/20\n",
      "30/30 [==============================] - 5s 173ms/step - loss: 0.0807 - accuracy: 0.9733 - val_loss: 0.0496 - val_accuracy: 1.0000\n",
      "Epoch 17/20\n",
      "30/30 [==============================] - 5s 155ms/step - loss: 0.1000 - accuracy: 0.9667 - val_loss: 0.3048 - val_accuracy: 0.9000\n",
      "Epoch 18/20\n",
      "30/30 [==============================] - 5s 171ms/step - loss: 0.0774 - accuracy: 0.9800 - val_loss: 0.4670 - val_accuracy: 0.8000\n",
      "Epoch 19/20\n",
      "30/30 [==============================] - 5s 158ms/step - loss: 0.1045 - accuracy: 0.9600 - val_loss: 0.0835 - val_accuracy: 1.0000\n",
      "Epoch 20/20\n",
      "30/30 [==============================] - 5s 172ms/step - loss: 0.0642 - accuracy: 0.9800 - val_loss: 0.0107 - val_accuracy: 1.0000\n"
     ]
    },
    {
     "data": {
      "image/png": "[encoded data removed]",
      "text/plain": [
       "<Figure size 432x288 with 1 Axes>"
      ]
     },
     "metadata": {
      "needs_background": "light"
     },
     "output_type": "display_data"
    }
   ],
   "source": [
    "import tensorflow as tf\n",
    "import numpy as np\n",
    "import matplotlib.pyplot as plt\n",
    "\n",
    "from tensorflow.keras.preprocessing.image import ImageDataGenerator\n",
    "from tensorflow.keras import Input, models, layers, optimizers, metrics\n",
    "from tensorflow.keras.layers import Dense, Flatten\n",
    "from tensorflow.keras.applications import VGG16\n",
    "\n",
    "np.random.seed(3)\n",
    "tf.compat.v1.set_random_seed(3)\n",
    "\n",
    "# 이미지 증강\n",
    "train_datagen = ImageDataGenerator(rescale=1./255,\n",
    "                                  horizontal_flip=True,\n",
    "                                  width_shift_range=0.1,\n",
    "                                  height_shift_range=0.1,\n",
    "                                  fill_mode='nearest')\n",
    "\n",
    "\n",
    "train_generator = train_datagen.flow_from_directory(\n",
    "       './train', # 폴더명\n",
    "       target_size=(150, 150),\n",
    "       batch_size=5,\n",
    "       class_mode='binary') # 2개의 폴더가 있다\n",
    "\n",
    "test_datagen = ImageDataGenerator(rescale=1./255)\n",
    "\n",
    "test_generator = test_datagen.flow_from_directory(\n",
    "       'test', # 폴더명\n",
    "       target_size=(150, 150),\n",
    "       batch_size=5,\n",
    "       class_mode='binary')\n",
    "\n",
    "# 마지막층 사용 여부 include_top : 같은 특징 데이터면 그냥 써도...?\n",
    "# 28x28, fashion 데이터\n",
    "transfer_model = VGG16(weights='imagenet', include_top=False, input_shape=(150, 150, 3)) # 3x3 사이즈 필터 : 고속    \n",
    "    # 150x150xRGB    \n",
    "    # 3가지 사용방법 : Non으로 구조만 사용하는 방법\n",
    "    # weight = 'imagenet'에서 학습한 가중치를 사용하는 방법(now)\n",
    "    # 개별적으로 학습 가중치의 경로를 입력\n",
    "    \n",
    "transfer_model.trainable = False # 가중치 학습여부\n",
    "transfer_model.summary()\n",
    "\n",
    "finetune_model = models.Sequential()\n",
    "finetune_model.add(transfer_model) # 레이어첨부 : 딥러닝화\n",
    "\n",
    "# FFNN : 치매데이터에 특화\n",
    "finetune_model.add(Flatten())\n",
    "finetune_model.add(Dense(64, activation='relu'))\n",
    "finetune_model.add(Dense(2, activation='softmax')) # 출력값 2개로 : 원핫인코딩 효과\n",
    "finetune_model.summary()\n",
    "\n",
    "finetune_model.compile(loss='sparse_categorical_crossentropy', optimizer=optimizers.Adam(learning_rate=0.0002), \n",
    "                       metrics=['accuracy'])\n",
    "\n",
    "# accuracy, loss, val-loss\n",
    "history = finetune_model.fit_generator( # fit from generator\n",
    "       train_generator,\n",
    "       steps_per_epoch=30, epochs=20, # steps_per_epoch * epochs = 이미지수?\n",
    "       validation_data=test_generator,\n",
    "       validation_steps=4)\n",
    "\n",
    "acc= history.history['accuracy']\n",
    "val_acc= history.history['val_accuracy']\n",
    "y_vloss = history.history['val_loss']\n",
    "y_loss = history.history['loss']\n",
    "\n",
    "# 그래프로 표현\n",
    "x_len = np.arange(len(y_loss))\n",
    "plt.plot(x_len, acc, marker='.', c=\"red\", label='Trainset_acc')\n",
    "plt.plot(x_len, val_acc, marker='.', c=\"lightcoral\", label='Testset_acc')\n",
    "plt.plot(x_len, y_vloss, marker='.', c=\"cornflowerblue\", label='Testset_loss')\n",
    "plt.plot(x_len, y_loss, marker='.', c=\"blue\", label='Trainset_loss')\n",
    "\n",
    "# 그래프에 그리드를 주고 레이블을 표시\n",
    "plt.legend(loc='upper right')\n",
    "plt.grid()\n",
    "plt.xlabel('epoch')\n",
    "plt.ylabel('loss/acc')\n",
    "plt.show()"
   ]
  },
  {
   "cell_type": "markdown",
   "metadata": {},
   "source": [
    "## eager mode & graph mode(static mode)\n",
    "- 즉시 실행모드\n",
    "- graph mode (static mode) : constant, variables(가중치), placeholder(주입변수)\n",
    "    - gpu 메모리 사이즈가 작음(placeholder로 나눠서...)\n",
    "- 즉시실행모드에서는 placeholder(주입변수)가 함수의 매개변수로 전달(함수 base로 작동)\n"
   ]
  },
  {
   "cell_type": "code",
   "execution_count": 8,
   "metadata": {},
   "outputs": [
    {
     "name": "stdout",
     "output_type": "stream",
     "text": [
      "2.3.1\n"
     ]
    },
    {
     "data": {
      "text/plain": [
       "True"
      ]
     },
     "execution_count": 8,
     "metadata": {},
     "output_type": "execute_result"
    }
   ],
   "source": [
    "import tensorflow as tf\n",
    "print(tf.__version__)\n",
    "tf.executing_eagerly()"
   ]
  },
  {
   "cell_type": "code",
   "execution_count": 6,
   "metadata": {},
   "outputs": [
    {
     "name": "stdout",
     "output_type": "stream",
     "text": [
      "결과 =, [[4.]]\n",
      "<class 'tensorflow.python.framework.ops.EagerTensor'>\n"
     ]
    }
   ],
   "source": [
    "import tensorflow as tf\n",
    "tf.executing_eagerly()\n",
    "x = [[2.]]\n",
    "m = tf.matmul(x,x) # 1.x 버전에서는 run, eval => numpy (즉시실행)\n",
    "print('결과 =, {}'.format(m)) # 디버깅 편하게\n",
    "print(type(m))"
   ]
  },
  {
   "cell_type": "code",
   "execution_count": 11,
   "metadata": {
    "scrolled": true
   },
   "outputs": [
    {
     "name": "stdout",
     "output_type": "stream",
     "text": [
      "[2.0]\n",
      "0.9092974268256817\n",
      "0.9092974\n"
     ]
    }
   ],
   "source": [
    "import numpy as np\n",
    "print(x[0])\n",
    "print(np.math.sin( x[0][0] ))\n",
    "print(tf.math.sin( x[0][0] ).numpy()) # 넘파이로 변경"
   ]
  },
  {
   "cell_type": "code",
   "execution_count": 12,
   "metadata": {},
   "outputs": [],
   "source": [
    "def check_double(max_num):\n",
    "    counter = tf.constant(0)\n",
    "    # tensor -> numpy 데이터타입간 변환\n",
    "    max_num = tf.convert_to_tensor(max_num)#tensorflow -> numpy 호환사용이 가능\n",
    "    for num in range(1, max_num.numpy()+1):\n",
    "        num = tf.constant(num)\n",
    "        if int(num % 3) == 0 and int(num%5) == 0:\n",
    "            print('3이나 5의 배수')\n",
    "        elif int(num % 3) == 0 :\n",
    "            print('3의 배수')\n",
    "        elif int(num % 5) == 0 :\n",
    "            print('5의 배수')\n",
    "        else:\n",
    "            print(num.numpy())\n",
    "        counter += 1"
   ]
  },
  {
   "cell_type": "code",
   "execution_count": 14,
   "metadata": {
    "scrolled": true
   },
   "outputs": [
    {
     "name": "stdout",
     "output_type": "stream",
     "text": [
      "1\n",
      "2\n",
      "3의 배수\n",
      "4\n",
      "5의 배수\n",
      "3의 배수\n",
      "7\n",
      "8\n",
      "3의 배수\n",
      "5의 배수\n",
      "11\n",
      "3의 배수\n",
      "13\n",
      "14\n",
      "3이나 5의 배수\n"
     ]
    }
   ],
   "source": [
    "check_double(15)"
   ]
  },
  {
   "cell_type": "code",
   "execution_count": 16,
   "metadata": {},
   "outputs": [
    {
     "name": "stdout",
     "output_type": "stream",
     "text": [
      "tf.Tensor([[2.]], shape=(1, 1), dtype=float32)\n"
     ]
    }
   ],
   "source": [
    "w = tf.Variable([[1.0]])\n",
    "with tf.GradientTape() as tape: # 미분을 위해 값을 저장하는 역할\n",
    "    loss = w * w # w의 제곱\n",
    "    \n",
    "grad = tape.gradient(loss, w) # loss값을 w에 대하여 미분하라\n",
    "print(grad)"
   ]
  },
  {
   "cell_type": "markdown",
   "metadata": {},
   "source": [
    "## 함수 base로 작동\n",
    "- placeholder로 데이터 주입하는것은 함수의 매개변수로 데이터 전달 방식 변경\n",
    "- 미분도 편미분을 실행하고 가중치를 수정하는 과정을 거침"
   ]
  },
  {
   "cell_type": "code",
   "execution_count": 39,
   "metadata": {},
   "outputs": [
    {
     "name": "stdout",
     "output_type": "stream",
     "text": [
      "step: 50, loss: 0.230741, W: 0.473984, b: -0.777553\n",
      "step: 100, loss: 0.213149, W: 0.460883, b: -0.684672\n",
      "step: 150, loss: 0.197570, W: 0.448554, b: -0.597264\n",
      "step: 200, loss: 0.183772, W: 0.436951, b: -0.515007\n",
      "step: 250, loss: 0.171552, W: 0.426032, b: -0.437596\n",
      "step: 300, loss: 0.160730, W: 0.415756, b: -0.364746\n",
      "step: 350, loss: 0.151146, W: 0.406086, b: -0.296188\n",
      "step: 400, loss: 0.142658, W: 0.396986, b: -0.231670\n",
      "step: 450, loss: 0.135140, W: 0.388422, b: -0.170954\n",
      "step: 500, loss: 0.128483, W: 0.380362, b: -0.113815\n",
      "step: 550, loss: 0.122586, W: 0.372777, b: -0.060043\n",
      "step: 600, loss: 0.117364, W: 0.365639, b: -0.009439\n",
      "step: 650, loss: 0.112740, W: 0.358922, b: 0.038184\n",
      "step: 700, loss: 0.108644, W: 0.352601, b: 0.083000\n",
      "step: 750, loss: 0.105017, W: 0.346652, b: 0.125176\n",
      "step: 800, loss: 0.101804, W: 0.341053, b: 0.164867\n",
      "step: 850, loss: 0.098959, W: 0.335784, b: 0.202219\n",
      "step: 900, loss: 0.096440, W: 0.330826, b: 0.237370\n",
      "step: 950, loss: 0.094208, W: 0.326160, b: 0.270450\n",
      "step: 1000, loss: 0.092232, W: 0.321769, b: 0.301581\n"
     ]
    }
   ],
   "source": [
    "# 선형회귀 텐서플로\n",
    "import tensorflow as tf\n",
    "import numpy as np\n",
    "rng = np.random\n",
    "learning_rate = 0.01\n",
    "training_steps = 1000\n",
    "display_step = 50\n",
    "X = np.array([3.3,4.4,5.5,6.71,6.93,4.168,9.779,6.182,7.59,2.167,\n",
    "              7.042,10.791,5.313,7.997,5.654,9.27,3.1])\n",
    "Y = np.array([1.7,2.76,2.09,3.19,1.694,1.573,3.366,2.596,2.53,1.221,\n",
    "              2.827,3.465,1.65,2.904,2.42,2.94,1.3])\n",
    "\n",
    "n_samples = X.shape[0]   # shape 함수로 array 차원 확인\n",
    "\n",
    "# 처음 학습에 사용될 Weight와 Bias 값을 랜덤하게 생성\n",
    "W = tf.Variable(rng.randn(), name=\"weight\")   #  tf.Variable: 텐서플로우 변수 생성\n",
    "b = tf.Variable(rng.randn(), name=\"bias\")        # rng.randn: 임의의 숫자(난수) 생성\n",
    "\n",
    "\n",
    "# Linear regression (Wx + b) 수식 정의\n",
    "def linear_regression(x): # 학습모델\n",
    "    return W * x + b\n",
    "\n",
    "\n",
    "# 손실함수인 Mean Square Error (MSE;평균 제곱 오차) 수식 정의\n",
    "def mean_square(y_pred, y_true): # cost function\n",
    "    #return tf.reduce_sum(tf.square(y_pred-y_true)) \n",
    "    return tf.reduce_sum(tf.pow(y_pred-y_true, 2)) / (2 * n_samples)\n",
    "\n",
    "\n",
    "# Stochastic Gradient Descent (SGD;확률적경사하강법) 알고리즘\n",
    "optimizer = tf.optimizers.SGD(learning_rate) # stochastic gradient descent\n",
    "# 학습 알고리즘 최적화 과정 정의\n",
    "def run_optimization():\n",
    "    \n",
    "    # 텐서플로우는 자동 미분(주어진 입력 변수에 대한 연산의 gradient를 계산하는 것)을 위한 tf.GradientTape 함수 사용\n",
    "    with tf.GradientTape() as g: # 미분의 구할때는 변화값 필요 - 이전의 데이터가 필요 \n",
    "        pred = linear_regression(X)\n",
    "        loss = mean_square(pred, Y)\n",
    "\n",
    "\n",
    "    # gradients 계산\n",
    "    gradients = g.gradient(loss, [W, b]) \n",
    "        # 변수가 2개 이상 방정식은 일반 미분은 불가 \n",
    "        # 편미분 : 하나의 변수를 기준으로 나머지를 상수로 가정하고 계산\n",
    "    \n",
    "    # gradients에 따라 Weight(W)와 bias(b) 업데이트\n",
    "    optimizer.apply_gradients(zip(gradients, [W, b]))\n",
    "# 주어진 스텝에 맞춰 training 시작\n",
    "for step in range(1, training_steps + 1):\n",
    "    \n",
    "    # Weight(W)와 bias(b) 업데이트를 위해 사전 정의된 최적화 과정 실행\n",
    "    run_optimization()\n",
    "    \n",
    "    # display_step(50, 100, 150...)에서 적용 중인 파라미터값 출력\n",
    "    if step % display_step == 0:\n",
    "        pred = linear_regression(X)\n",
    "        loss = mean_square(pred, Y)\n",
    "        print(\"step: %i, loss: %f, W: %f, b: %f\" % (step, loss, W.numpy(), b.numpy()))"
   ]
  },
  {
   "cell_type": "code",
   "execution_count": 40,
   "metadata": {},
   "outputs": [
    {
     "data": {
      "image/png": "[encoded data removed]",
      "text/plain": [
       "<Figure size 432x288 with 1 Axes>"
      ]
     },
     "metadata": {
      "needs_background": "light"
     },
     "output_type": "display_data"
    }
   ],
   "source": [
    "# Linear regression(선형회귀) 결과 시각화\n",
    "import matplotlib.pyplot as plt   # matplotlib: 차트(chart)나 플롯(plot)으로 데이터를 시각화하는 라이브러리\n",
    "plt.plot(X, Y, 'ro', label='Original data')\n",
    "plt.plot(X, np.array(W * X + b), label='Fitted line')\n",
    "plt.legend()\n",
    "plt.show()"
   ]
  },
  {
   "cell_type": "markdown",
   "metadata": {},
   "source": [
    "## 2.3에서 mnist를 학습하는 모델\n",
    "    - tf.data.Dataset을 이용해서 데이터 피딩\n",
    "    - scikits 처럼 metrics함수들을 객체화해서 사용\n",
    "    - 객체화와 객체를 함수처럼 사용할수 있는 방법이 적용(call 함수 오버라이딩 사용)\n",
    "    - 코드 최적화를 위해 @tf.function 사용"
   ]
  },
  {
   "cell_type": "code",
   "execution_count": 25,
   "metadata": {},
   "outputs": [],
   "source": [
    "# 기본포맷\n",
    "import tensorflow as tf\n",
    "\n",
    "from tensorflow.keras.layers import Dense, Flatten, Conv2D\n",
    "from tensorflow.keras import Model\n",
    "mnist = tf.keras.datasets.mnist\n",
    "\n",
    "(x_train, y_train), (x_test, y_test) = mnist.load_data() # 필기체 이미지 로드\n",
    "x_train, x_test = x_train / 255.0, x_test / 255.0\n",
    "\n",
    "# 채널 차원을 추가합니다.\n",
    "x_train = x_train[..., tf.newaxis]\n",
    "x_test = x_test[..., tf.newaxis]\n",
    "\n",
    "# tf.data를 사용하여 데이터셋을 섞고 배치를 만듭니다:\n",
    "# mnist.next_batch()\n",
    "train_ds = tf.data.Dataset.from_tensor_slices( # 데이터를 다루는 방식의 변화\n",
    "    (x_train, y_train)).shuffle(10000).batch(32) # 10000번 섞고 32묶음씩 데이터피딩\n",
    "        # 파이썬코어의 제네레이터 사용 : yield 함수를 이용해서 비동기식으로 작동\n",
    "test_ds = tf.data.Dataset.from_tensor_slices((x_test, y_test)).batch(32)"
   ]
  },
  {
   "cell_type": "code",
   "execution_count": 28,
   "metadata": {},
   "outputs": [],
   "source": [
    "# 케라스(Keras)의 모델 서브클래싱(subclassing) API를 사용하여 tf.keras 모델을 만듭니다:\n",
    "\n",
    "# 상속을 이용한 모델정의 - 재사용성 위해\n",
    "class MyModel(Model): # 클래스를 함수처럼 사용할때 사용\n",
    "    def __init__(self):\n",
    "        \n",
    "        super(MyModel, self).__init__() # 부모의 생성자를 호출\n",
    "        \n",
    "        self.conv1 = Conv2D(32, 3, activation='relu')\n",
    "        self.flatten = Flatten()\n",
    "        self.d1 = Dense(128, activation='relu')\n",
    "        self.d2 = Dense(10, activation='softmax')\n",
    "\n",
    "    def call(self, x): # layer # 함수호출하듯이 사용가능 : 오버라이딩\n",
    "        x = self.conv1(x)\n",
    "        x = self.flatten(x)\n",
    "        x = self.d1(x) # 가중치 자동으로 생성\n",
    "        return self.d2(x) # 32x10\n",
    "\n",
    "model = MyModel()"
   ]
  },
  {
   "cell_type": "code",
   "execution_count": 29,
   "metadata": {},
   "outputs": [],
   "source": [
    "#훈련에 필요한 옵티마이저(optimizer)와 손실 함수를 선택합니다:\n",
    "\n",
    "# scikits 방식을 모방 -> 객체화\n",
    "loss_object = tf.keras.losses.SparseCategoricalCrossentropy()\n",
    "\n",
    "optimizer = tf.keras.optimizers.Adam()\n",
    "\n",
    "#모델의 손실과 성능을 측정할 지표를 선택합니다. 에포크가 진행되는 동안 수집된 측정 지표를 바탕으로 최종 결과를 출력합니다.\n",
    "\n",
    "train_loss = tf.keras.metrics.Mean(name='train_loss')\n",
    "train_accuracy = tf.keras.metrics.SparseCategoricalAccuracy(name='train_accuracy')\n",
    "\n",
    "test_loss = tf.keras.metrics.Mean(name='test_loss')\n",
    "test_accuracy = tf.keras.metrics.SparseCategoricalAccuracy(name='test_accuracy')"
   ]
  },
  {
   "cell_type": "code",
   "execution_count": 30,
   "metadata": {},
   "outputs": [],
   "source": [
    "# tf.GradientTape를 사용하여 모델을 훈련합니다:\n",
    "\n",
    "@tf.function # static하게 코드를 최적화 # tf.function(속도보완, 최적화)\n",
    "def train_step(images, labels):\n",
    "    with tf.GradientTape() as tape:\n",
    "        predictions = model(images) # 모델 call function 호출 # 리턴 FFNN결과 32배치x10\n",
    "        loss = loss_object(labels, predictions) # SparseCategoricalCrossentropy\n",
    "    gradients = tape.gradient(loss, model.trainable_variables) # trainable_variables : 가중치가 있는것\n",
    "    optimizer.apply_gradients(zip(gradients, model.trainable_variables)) # 미분 실행후 가중치 수정 : 학습\n",
    "\n",
    "    train_loss(loss)\n",
    "    train_accuracy(labels, predictions) # 정확도체크"
   ]
  },
  {
   "cell_type": "code",
   "execution_count": 31,
   "metadata": {},
   "outputs": [],
   "source": [
    "# 이제 모델을 테스트합니다:\n",
    "\n",
    "@tf.function\n",
    "def test_step(images, labels): # 모델 학습 과정이 없음 : loss, accuracy값을 구함\n",
    "    predictions = model(images)\n",
    "    t_loss = loss_object(labels, predictions)\n",
    "\n",
    "    test_loss(t_loss)\n",
    "    test_accuracy(labels, predictions)"
   ]
  },
  {
   "cell_type": "code",
   "execution_count": 41,
   "metadata": {
    "scrolled": false
   },
   "outputs": [
    {
     "name": "stdout",
     "output_type": "stream",
     "text": [
      "WARNING:tensorflow:Layer my_model_2 is casting an input tensor from dtype float64 to the layer's dtype of float32, which is new behavior in TensorFlow 2.  The layer has dtype float32 because its dtype defaults to floatx.\n",
      "\n",
      "If you intended to run this layer in float32, you can safely ignore this warning. If in doubt, this warning is likely only an issue if you are porting a TensorFlow 1.X model to TensorFlow 2.\n",
      "\n",
      "To change all layers to have dtype float64 by default, call `tf.keras.backend.set_floatx('float64')`. To change just this layer, pass dtype='float64' to the layer constructor. If you are the author of this layer, you can disable autocasting by passing autocast=False to the base Layer constructor.\n",
      "\n",
      "에포크: 1, 손실: 0.35409578680992126, 정확도: 90.33499908447266, 테스트 손실: 0.18737822771072388, 테스트 정확도: 94.47000122070312\n",
      "에포크: 2, 손실: 0.26322242617607117, 정확도: 92.6691665649414, 테스트 손실: 0.17504556477069855, 테스트 정확도: 94.68000030517578\n",
      "에포크: 3, 손실: 0.21845215559005737, 정확도: 93.87222290039062, 테스트 손실: 0.15496927499771118, 테스트 정확도: 95.3066635131836\n",
      "에포크: 4, 손실: 0.18993742763996124, 정확도: 94.6312484741211, 테스트 손실: 0.14150375127792358, 테스트 정확도: 95.70249938964844\n",
      "에포크: 5, 손실: 0.16978026926517487, 정확도: 95.177001953125, 테스트 손실: 0.13341547548770905, 테스트 정확도: 95.9219970703125\n"
     ]
    }
   ],
   "source": [
    "EPOCHS = 5\n",
    "\n",
    "for epoch in range(EPOCHS):\n",
    "    for images, labels in train_ds: # train_ds : from_tensor_slices 로 작성 ( 비동기방식 )\n",
    "        train_step(images, labels)\n",
    "\n",
    "    for test_images, test_labels in test_ds:\n",
    "        test_step(test_images, test_labels)\n",
    "\n",
    "    template = '에포크: {}, 손실: {}, 정확도: {}, 테스트 손실: {}, 테스트 정확도: {}'\n",
    "    print (template.format(epoch+1,\n",
    "                         train_loss.result(), # 객체의 실행결과를 리턴\n",
    "                         train_accuracy.result()*100,\n",
    "                         test_loss.result(),\n",
    "                         test_accuracy.result()*100))"
   ]
  },
  {
   "cell_type": "markdown",
   "metadata": {},
   "source": [
    "# 오전 종료 ==================================================="
   ]
  },
  {
   "cell_type": "code",
   "execution_count": null,
   "metadata": {},
   "outputs": [],
   "source": []
  }
 ],
 "metadata": {
  "kernelspec": {
   "display_name": "Python 3",
   "language": "python",
   "name": "python3"
  },
  "language_info": {
   "codemirror_mode": {
    "name": "ipython",
    "version": 3
   },
   "file_extension": ".py",
   "mimetype": "text/x-python",
   "name": "python",
   "nbconvert_exporter": "python",
   "pygments_lexer": "ipython3",
   "version": "3.7.4"
  }
 },
 "nbformat": 4,
 "nbformat_minor": 2
}
